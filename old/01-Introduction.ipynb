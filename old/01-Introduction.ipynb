{
 "cells": [
  {
   "cell_type": "markdown",
   "metadata": {},
   "source": [
    "# Table of Contents\n",
    "* [1. Durham Astro PG Python Tutorials 2017](#1.-Durham-Astro-PG-Python-Tutorials-2017)\n",
    "\t* [1.1 Overview](#1.1-Overview)\n",
    "\t* [1.2 Some results of the survey](#1.2-Some-results-of-the-survey)\n",
    "\t* [1.3 Session 1](#1.3-Session-1)\n",
    "\t* [1.4 Environment setup for these tutorials](#1.4-Environment-setup-for-these-tutorials)\n",
    "* [2. Introduction](#2.-Introduction)\n",
    "\t* [2.1 What is Python?](#2.1-What-is-Python?)\n",
    "\t* [2.2 Hello World in Python](#2.2-Hello-World-in-Python)\n",
    "\t* [2.3 Interactive Python](#2.3-Interactive-Python)\n",
    "\t* [2.4 Why do astronomers like Python?](#2.4-Why-do-astronomers-like-Python?)\n",
    "\t* [2.5 Improving your Python knowledge is worth the effort](#2.5-Improving-your-Python-knowledge-is-worth-the-effort)\n",
    "\t* [2.6 Python2 or Python3?](#2.6-Python2-or-Python3?)\n",
    "\t* [2.7 Tools for writing (Python) code](#2.7-Tools-for-writing-%28Python%29-code)\n",
    "\t* [2.8 Where to get help on Python](#2.8-Where-to-get-help-on-Python)\n",
    "\t* [2.9 Running Python](#2.9-Running-Python)\n",
    "* [3. Basic Python Review](#3.-Basic-Python-Review)\n",
    "\t* [3.1 Maths at the interactive prompt](#3.1-Maths-at-the-interactive-prompt)\n",
    "\t* [3.2 Errors](#3.2-Errors)\n",
    "\t* [3.3 Printing stuff](#3.3-Printing-stuff)\n",
    "\t* [3.4 Variables and strings](#3.4-Variables-and-strings)\n",
    "\t* [3.5 `None` and logical operations](#3.5-None-and-logical-operations)\n",
    "\t* [3.6 Conditional expressions](#3.6-Conditional-expressions)\n",
    "\t* [3.7 Objects, classes, functions, methods --  and interactive help](#3.7-Objects,-classes,-functions,-methods-----and-interactive-help)\n",
    "\t* [3.8 Defining functions](#3.8-Defining-functions)\n",
    "\t* [3.9 Classes](#3.9-Classes)\n",
    "\t* [3.10 Collections: lists and tuples](#3.10-Collections:-lists-and-tuples)\n",
    "\t\t* [3.10.1 Lists](#3.10.1-Lists)\n",
    "\t\t* [3.10.2 Tuples](#3.10.2-Tuples)\n",
    "\t\t* [3.10.3 Packing and unpacking tuples](#3.10.3-Packing-and-unpacking-tuples)\n",
    "\t\t* [3.10.4 Loops](#3.10.4-Loops)\n",
    "\t* [3.11 Dictionaries (`dicts`)](#3.11-Dictionaries-%28dicts%29)\n",
    "* [4. Program structure](#4.-Program-structure)\n",
    "\t* [4.1 Modules, packages and namespaces](#4.1-Modules,-packages-and-namespaces)\n",
    "\t* [4.2 Scope](#4.2-Scope)\n",
    "\t* [4.3 `globals()` and `locals()`](#4.3-globals%28%29-and-locals%28%29)\n",
    "\t* [4.4 Memory, copies and references to variables](#4.4-Memory,-copies-and-references-to-variables)\n",
    "* [5. Getting things done with Python](#5.-Getting-things-done-with-Python)\n",
    "\t* [5.1 Exceptions and debugging](#5.1-Exceptions-and-debugging)\n",
    "\t* [5.2 File input and output](#5.2-File-input-and-output)\n",
    "\t* [5.3 Working with the filesystem](#5.3-Working-with-the-filesystem)\n",
    "\t* [5.4 Working with numerical data using numpy](#5.4-Working-with-numerical-data-using-numpy)\n",
    "\t\t* [5.4.1 Creating arrays](#5.4.1-Creating-arrays)\n",
    "\t\t* [5.4.2 Slicing](#5.4.2-Slicing)\n",
    "\t\t* [5.4.3 Arithmetic](#5.4.3-Arithmetic)\n",
    "\t\t* [5.4.4 Saving numpy arrays to disk](#5.4.4-Saving-numpy-arrays-to-disk)\n",
    "\t\t* [5.4.5 Random numbers](#5.4.5-Random-numbers)\n",
    "\t\t* [5.4.6 Histograms](#5.4.6-Histograms)\n",
    "\t\t* [5.4.7 Statistics, logic and `where`](#5.4.7-Statistics,-logic-and-where)\n",
    "\t\t* [5.4.8 Reading data from a file with `np.loadtxt`](#5.4.8-Reading-data-from-a-file-with-np.loadtxt)\n",
    "\t* [5.5 Making plots with matplotlib](#5.5-Making-plots-with-matplotlib)\n",
    "* [6. Homework challenge](#6.-Homework-challenge)\n"
   ]
  },
  {
   "cell_type": "markdown",
   "metadata": {
    "nbpresent": {
     "id": "55418107-5dfc-4e05-8510-c6f24170e522"
    }
   },
   "source": [
    "# 1. Durham Astro PG Python Tutorials 2017"
   ]
  },
  {
   "cell_type": "markdown",
   "metadata": {},
   "source": [
    "## 1.1 Overview"
   ]
  },
  {
   "cell_type": "markdown",
   "metadata": {},
   "source": [
    "__Andrew Cooper, OCW 223, a.p.cooper@durham.ac.uk__\n",
    "\n",
    "The aims of the course as a whole are to:\n",
    "\n",
    "* Provide a minimal, astronomy-oriented but complete introduction to Python for those that haven't used it much before.\n",
    "* Give some pointers about where to go for more information and examples.\n",
    "* Provide an excuse to discuss how you’re currently using Python with your colleagues and solve any immediate problems you’re having.\n",
    "\n",
    "3x3hr sessions, no assessment, but there is a lot of stuff to cover and an optional 'homework' problem each week. \n",
    "* Session 1: Python basics, intro to numpy and matplotlib\n",
    "* Session 2: More advanced python, numpy and matplotlib, astronomy-specific topics\n",
    "* Session 3: Flexible -- solve problems raised in previous weeks, discuss specialized packages, etc.\n",
    "\n",
    "Format: \n",
    "- work through this notebook at your own pace. \n",
    "- when you find something new or confusing, try and figure it out.\n",
    "- convince yourself you've understood by experimenting in this notebook, running commands in a separate ipython session, or writing commands into a script and running it from the command line (see below).\n",
    "- if you can't immediately figure something out, ask me or someone else -- that's the point of doing this as a workshop.\n",
    "- anything you don't get through in 3hrs, please try to work through before next week.\n",
    "- if you already know everything, at least read the tutorial and tell me how I could improve it!\n",
    "\n",
    "Between sessions, try and put Python to use on something you care about (research work, problems from other courses, shell scripting, or anything else) or just try the homework problem, and come to the next session with any questions, success stories or interesting discoveries.\n",
    "\n",
    "Feedback/questions welcome throughout -- the course is new, so please spot mistakes and make suggestions (especially about stuff that is missing, wrong, confusing or not helpful).\n",
    "\n",
    "Other tutorials:\n",
    "- http://www.scipy-lectures.org/ (covers just about everything, not just scipy)\n",
    "\n",
    "This tutorial was developed with one eye on the [Euclid python primer](https://github.com/aboucaud/python-euclid2016)."
   ]
  },
  {
   "cell_type": "markdown",
   "metadata": {},
   "source": [
    "## 1.2 Some results of the survey"
   ]
  },
  {
   "cell_type": "markdown",
   "metadata": {},
   "source": [
    "- 7 (maybe 8?) responses. Of these:\n",
    "- About 50% use Python daily\n",
    "- About 50% consider themselves more advanced than 'beginner'\n",
    "- 100% comfortable with MacOS\n",
    "- **50% comfortable with a UNIX-like terminal**\n",
    "\n",
    "This isn't necessarily related to Python, but being able to use a terminal/shell (on a linux or mac machine) is important for a many jobs in astronomy, like controlling a telescope or working with a supercomputer. If you don't have much experience using a terminal, it's worth spending some time soon making sure that you:\n",
    "\n",
    "- Understand at least one common shell, like `bash`, `csh` or `tcsh`, and appreciate the differences between them.\n",
    "- Know commands like `ls`, `cd`, `cat`, `echo`, `mkdir`, `rm` etc.\n",
    "- Know about command line tools like `less`, `grep`, `tar`, `gz` etc.\n",
    "- Know how to use `man` to get help on commands.\n",
    "- Be able to use at least one common non-graphical text editor like `emacs` or `vim`.\n",
    "- Understand the basics of configuration files like `.bashrc` and `.profile`\n",
    "- Understand the role of environment variables, particularly `$PATH`, and how to show/set/modify them.\n",
    "\n",
    "I couldn't find a really good tutorial for the things above. [Here's a concise but old-fashioned shell tutorial](http://freeengineer.org/learnUNIXin10minutes.html).\n",
    "\n",
    "----"
   ]
  },
  {
   "cell_type": "markdown",
   "metadata": {},
   "source": [
    "## 1.3 Session 1"
   ]
  },
  {
   "cell_type": "markdown",
   "metadata": {},
   "source": [
    "Aims:\n",
    "- Short introduction/background, look at tools for working with Python\n",
    "- Make sure everyone has an environment in which they can write and run Python\n",
    "- Introduce/recap fundamentals of the language\n",
    "\n",
    "By the end of the session, you should be able to:\n",
    "- write a basic program using the common elements of standard Python\n",
    "- understand the structure of a typical Python program\n",
    "- manipulate files and directories\n",
    "- generate simple random data, read/write a file and make a plot like this with matplotib:\n",
    "\n",
    "<img style=\"float: left;\" src=\"example_scatter_plot.png\">\n",
    "\n",
    "----"
   ]
  },
  {
   "cell_type": "markdown",
   "metadata": {},
   "source": [
    "## 1.4 Environment setup for these tutorials"
   ]
  },
  {
   "cell_type": "markdown",
   "metadata": {},
   "source": [
    "Python is installed on the Mira (ITS linux) machines, but Jupyter isn't. Also the search paths are not set up to find locally Python packages. We need to install one package, called Jupyter.\n",
    "\n",
    "`pip` is the Python package manager, used to install modules outside the standard library. There will be some explanation of `pip` in the next session.\n",
    "\n",
    "Find which shell you're using (probably `tcsh` on the Ph216 machines)\n",
    "```shell\n",
    "echo $SHELL\n",
    "```"
   ]
  },
  {
   "cell_type": "markdown",
   "metadata": {},
   "source": [
    "If using `tcsh` or `csh`:\n",
    "\n",
    "```csh \n",
    "setenv PATH $HOME/.local/bin:$PATH\n",
    "setenv PYTHONPATH $HOME/.local/lib/python2.7/site-packages\n",
    "```"
   ]
  },
  {
   "cell_type": "markdown",
   "metadata": {},
   "source": [
    "If using `bash`:\n",
    "\n",
    "```bash\n",
    "export PATH=$HOME/.local/bin:$PATH\n",
    "export PYTHONPATH=$HOME/.local/lib/python2.7/site-packages\n",
    "```"
   ]
  },
  {
   "cell_type": "markdown",
   "metadata": {},
   "source": [
    "Now install the Jupyter package with `pip`.\n",
    "\n",
    "```bash\n",
    "pip install --user jupyter\n",
    "```"
   ]
  },
  {
   "cell_type": "markdown",
   "metadata": {},
   "source": [
    "The `--user` option installs packages to a subdirectory of your home directory (`~/.local` by default), so does not require root access."
   ]
  },
  {
   "cell_type": "markdown",
   "metadata": {},
   "source": [
    "# 2. Introduction"
   ]
  },
  {
   "cell_type": "markdown",
   "metadata": {},
   "source": [
    "## 2.1 What is Python?"
   ]
  },
  {
   "cell_type": "markdown",
   "metadata": {},
   "source": [
    "Wikipedia (with highlights by me):\n",
    "\n",
    "> Python is a high-level programming language used for general-purpose programming and originally created by Guido van Rossum in 1991. Python has a design philosophy which **emphasizes code readability**, and a syntax which allows programmers to **express concepts in fewer lines of code** than possible in languages such as C++ or Java. The language provides constructs intended to enable writing **clear programs on both a small and large scale**.\n",
    "\n",
    "> Python features a **dynamic type system** and **automatic memory management** and supports multiple programming paradigms, including object-oriented, imperative, functional programming, and procedural styles. It has a **large and comprehensive standard library**.\n",
    "\n",
    "- Friendly (high-level, can figure out what the code does by reading it, and don't have to explicitly compile anything, importing 'packages' of code is simple, so it's easy to build up large programs in a modular way).\n",
    "- A Swiss army knife, useful for almost everything, even if not optimal for anything. \n",
    "\n",
    "----"
   ]
  },
  {
   "cell_type": "markdown",
   "metadata": {},
   "source": [
    "## 2.2 Hello World in Python"
   ]
  },
  {
   "cell_type": "markdown",
   "metadata": {},
   "source": [
    "Python is an interpreted language -- you pass commands to the Python interpreter (`python`) rather than using a compiler to make self-contained executable binary files. This makes Python programs very short. For example:"
   ]
  },
  {
   "cell_type": "code",
   "execution_count": null,
   "metadata": {
    "collapsed": false
   },
   "outputs": [],
   "source": [
    "print('Hello World')"
   ]
  },
  {
   "cell_type": "markdown",
   "metadata": {},
   "source": [
    "We can write this in a file and run it with Python (the `!` at the start of these lines is a way to run shell commands from inside this notebook):"
   ]
  },
  {
   "cell_type": "code",
   "execution_count": null,
   "metadata": {
    "collapsed": false
   },
   "outputs": [],
   "source": [
    "# Write code in a .py file.\n",
    "!echo \"print('Hello World')\" > hello_world.py\n",
    "# And run it with python\n",
    "!python hello_world.py"
   ]
  },
  {
   "cell_type": "markdown",
   "metadata": {},
   "source": [
    "Compare with C (which you would have to compile):\n",
    "\n",
    "```C\n",
    "#include<stdio.h> // Need this for output\n",
    "\n",
    "main() // Need a 'main' function\n",
    "{\n",
    "    printf(\"Hello World\"); // Need a ; to end lines.\n",
    "} // code in the main function is marked with {}\n",
    "```"
   ]
  },
  {
   "cell_type": "markdown",
   "metadata": {},
   "source": [
    "----"
   ]
  },
  {
   "cell_type": "markdown",
   "metadata": {},
   "source": [
    "## 2.3 Interactive Python"
   ]
  },
  {
   "cell_type": "markdown",
   "metadata": {},
   "source": [
    "The fact that Python is run through an interpreter makes it natural to work with interactively (i.e. by writing one line at a time and looking at the result), which is what's happening in this 'notebook' tutorial. These cells contain Python code that you can execute by selecting the cell and pressing SHIFT-RETURN."
   ]
  },
  {
   "cell_type": "code",
   "execution_count": null,
   "metadata": {
    "collapsed": false
   },
   "outputs": [],
   "source": [
    "print('Hello World!')"
   ]
  },
  {
   "cell_type": "markdown",
   "metadata": {},
   "source": [
    "If you double click on the cell you can edit it (try making the cell above print something other than Hello World)."
   ]
  },
  {
   "cell_type": "markdown",
   "metadata": {},
   "source": [
    "This interactive interpreter can also run commands in the shell. To do this, start with a `!` (this is a magic function in the interpreter, not part of Python)."
   ]
  },
  {
   "cell_type": "code",
   "execution_count": null,
   "metadata": {
    "collapsed": false
   },
   "outputs": [],
   "source": [
    "!echo This shell is $SHELL\n",
    "!echo The current working directory is `pwd`"
   ]
  },
  {
   "cell_type": "markdown",
   "metadata": {},
   "source": [
    "Try opening a terminal and typing `python` to start the basic interactive prompt, and use it print Hello World. To get out of the interactive session, press `CTRL-D`. The basic prompt is very restrictive, but it always works and is quick to start up. \n",
    "\n",
    "IPython is a more advanced prompt that is the most common way of working interactive with Python. It has many useful features, like colourful syntax highlighting, a command history, interactive help, interactive plotting, a way to inspect the state of variables in programs after they cause errors to find out what happened (debugging), and plenty of other stuff which will be covered later.\n",
    "\n",
    "This tutorial is made up of a bunch of grey 'code cells' that look like this:"
   ]
  },
  {
   "cell_type": "code",
   "execution_count": null,
   "metadata": {
    "collapsed": true
   },
   "outputs": [],
   "source": []
  },
  {
   "cell_type": "markdown",
   "metadata": {},
   "source": [
    "These are being run with IPython, but through the Jupyter notebook browser interface -- one of several possible 'fancy' ways to run IPython with extra features. However, the more common way to work with IPython is direct from the terminal. \n",
    "\n",
    "Try starting IPython from a terminal now with the `ipython` command (if you're starting it for the first time ever, it might take slightly longer to start up). \n",
    "\n",
    "------"
   ]
  },
  {
   "cell_type": "code",
   "execution_count": null,
   "metadata": {
    "collapsed": false
   },
   "outputs": [],
   "source": [
    "a[:-5]"
   ]
  },
  {
   "cell_type": "markdown",
   "metadata": {},
   "source": [
    "## 2.4 Why do astronomers like Python?"
   ]
  },
  {
   "cell_type": "markdown",
   "metadata": {},
   "source": [
    "- There is a huge library of open-source Python code to do stuff that astronomers and engineers want to do on a daily basis. \n",
    "- Comprehensive and fast high-level numerical computing routines from numpy/scipy, unmatched by any other high-level language.\n",
    "- Working with strings and the operating system is built-in and easy.\n",
    "- I/O libraries for just about any format and interaction with system.\n",
    "- Python’s plot-making library, matplotlib, is comprehensive produces publication-ready results.\n",
    "- Python replaces shell scripting for many tasks (though not entirely) and saves you having to write scripts for many different shells.\n",
    "- It's easy to sketch pseudo-code that looks like real code.\n",
    "- Excellent interactive environment, IPython, now 'industry standard'.\n",
    "- A lot of trendy coding is done in Python or things that work with Python, especially web-related. Astronomers really like to be trendy.\n",
    "\n",
    "----"
   ]
  },
  {
   "cell_type": "markdown",
   "metadata": {},
   "source": [
    "## 2.5 Improving your Python knowledge is worth the effort"
   ]
  },
  {
   "cell_type": "markdown",
   "metadata": {},
   "source": [
    "- You’ll probably need to read and write Python at a reasonable level throughout your career as an astronomer or engineer. You’ll also need an ability to learn new Python things fast and keep your knowledge up to date.\n",
    "- For better or worse, sophisticated Python skills make you more employable, especially if you go into industry after your PhD (in which case you’ll need to demonstrate these skills). \n",
    "- Astronomy careers can (in some cases) be based almost entirely around writing good Python as a data scientist, instrument engineer or software engineer (although the market is getting very crowded now). Some astronomers are major contributors to standard scientific python packages, which looks good on their CV.\n",
    "----"
   ]
  },
  {
   "cell_type": "markdown",
   "metadata": {},
   "source": [
    "## 2.6 Python2 or Python3?"
   ]
  },
  {
   "cell_type": "markdown",
   "metadata": {},
   "source": [
    "Confusingly, there are two versions of Python in common, everyday use: Python2 and Python3. In future, Python3 will be the only version. The differences are meaningful, but not huge. It's pretty easy to 'upgrade' code from Python2 to Python3. \n",
    "\n",
    "This tutorial is written for Python2. Astronomers are usually quite slow to change, because of dependencies on old code. Most major packages commonly used by astronomers now fully support Python3, but this has only become the case over the last few years. \n",
    "\n",
    "If you don't use a package that absolutely only works with Python2, it's probably a good idea to use python3. If you want to stick with Python2 for now, you can make your code minimally compatible with python3 very easily (see the notes at the end of the tutorial).\n",
    "\n",
    "Learning Python2 does not teach you any 'bad habits' that you have to 'unlearn' to use Python3. Well, maybe only one (we'll see below).\n",
    "\n",
    "You can check what version of Python you're using in a terminal:\n",
    "\n",
    "```bash\n",
    "python --version\n",
    "```"
   ]
  },
  {
   "cell_type": "code",
   "execution_count": null,
   "metadata": {
    "collapsed": true
   },
   "outputs": [],
   "source": [
    "# Let's check what this notebook is using\n",
    "!python --version"
   ]
  },
  {
   "cell_type": "markdown",
   "metadata": {},
   "source": [
    "## 2.7 Tools for writing (Python) code"
   ]
  },
  {
   "cell_type": "markdown",
   "metadata": {},
   "source": [
    "The results of the survey: 7 responses, 5 editors, 9 preferences\n",
    "```\n",
    "gedit    xxx\n",
    "Xcode    xx\n",
    "pycharm  x\n",
    "spyder   xx\n",
    "emacs    x\n",
    "```\n",
    "\n",
    "`Xcode`, [`pycharm`](https://www.jetbrains.com/pycharm/) and [`spyder`](https://github.com/spyder-ide/spyder) are IDEs: they provide a more comfortable environment, interactive help/documentation and tools to manage projects, alongside an editor linked to a built in interpreter session. These can be helpful, but they aren't essential for writing Python.\n",
    "\n",
    "The 'essential' features of a good python editor are:\n",
    "    - syntax highlighting with colours\n",
    "    - consistent indentation with spaces rather than tabs\n",
    "\n",
    "After that it's up to you! Use what you're comfortable with, and take time to learn how your editor can make writing code quicker and easier. If you feel it's not working after a few weeks, try something else. Now is the time to experiment!\n",
    "\n",
    "Going back to the list above, if I asked 10 'experienced' astronomers, I would expect the answer to be:\n",
    "```\n",
    "emacs   xxxxxx\n",
    "vim     xxx\n",
    "```\n",
    "\n",
    "Why?\n",
    "\n",
    "- These tools have been around forever and are available on most systems, in most places.\n",
    "- A lot of work is done in the terminal only (no graphics), often over `ssh` to many different machines you don't own.\n",
    "- Astronomers tend to work on small projects and [Heath-Robinson](https://en.wiktionary.org/wiki/Heath_Robinson) solutions to problems rather than large, well-structured programs with lots of documentation.\n",
    "- Learning vim is difficult but rewarding (tutorials: [1](http://vim.wikia.com/wiki/Tutorial) [2](http://www.openvim.com/)).\n",
    "\n",
    "Among trendy people, you will also hear about [`atom`](https://atom.io/), which is a newer editor along the same lines (although I don't think it runs from the command line).\n",
    "\n",
    "Here is [some more discussion of Python editors](https://www.fullstackpython.com/development-environments.html)."
   ]
  },
  {
   "cell_type": "markdown",
   "metadata": {},
   "source": [
    "## 2.8 Where to get help on Python"
   ]
  },
  {
   "cell_type": "markdown",
   "metadata": {},
   "source": [
    "Python has a built-in help system that can give you some minimum information about a module, function or variable, if you already know its name. For example, anywhere you can execute python, you can use the `help()` function:"
   ]
  },
  {
   "cell_type": "code",
   "execution_count": null,
   "metadata": {
    "collapsed": false
   },
   "outputs": [],
   "source": [
    "help(str.upper)"
   ]
  },
  {
   "cell_type": "markdown",
   "metadata": {},
   "source": [
    "In IPython (and hence in these notebooks), you can also type a `?` before or after the method name, which does much the same thing, but more 'interactively' (try and see -- also try it in a terminal IPython session)."
   ]
  },
  {
   "cell_type": "code",
   "execution_count": null,
   "metadata": {
    "collapsed": true
   },
   "outputs": [],
   "source": [
    "?str.upper"
   ]
  },
  {
   "cell_type": "markdown",
   "metadata": {},
   "source": [
    "These are the quickest ways to remind yourself how to use a method you already know about. \n",
    "\n",
    "To get more general help on how to solve a particular problem ('how do I do XYZ in python?' or 'why does Python do X?') [StackOverflow](http://stackoverflow.com/questions/tagged/python?sort=votes&pageSize=15) (SO) is often very useful. SO exists specifically to share questions and answers on programing problems. Answers (and questions) can be voted on by other users, the idea being that the 'best' answer will eventually get the most votes, so you don't have to read all the 'less good' answers. Because SO is very popular with serious programmers, this usually works -- however, there are a lot of *wrong* 'accepted' answers on SO, so it's often necessary to read some of the comments and discussion.\n",
    "\n",
    "Some books can be worth getting out of the library, particularly for beginners in Python -- when I was learning Python I found the examples in the O'Reilly [Python Cookbook](http://shop.oreilly.com/product/0636920027072.do) quite useful, but I probably wouldn't buy a new copy. More than one astronomer has written books about Python -- [this one is aimed at machine learning](http://www.astroml.org/#textbook) and is quite good (there are copies in the library, but one is on my desk). [This one](http://shop.oreilly.com/product/0636920033424.do) (which is not by astronomers) also looks interesting.\n",
    "\n",
    "Once you have some experience, reading other people's code (e.g. on [github](https://github.com/astropy/astropy)) can be a good way to learn new things."
   ]
  },
  {
   "cell_type": "markdown",
   "metadata": {},
   "source": [
    "## 2.9 Running Python"
   ]
  },
  {
   "cell_type": "markdown",
   "metadata": {},
   "source": [
    "There are multiple ways to run python code. In order of increasing complexity:\n",
    "\n",
    "1. __Write a script and tell the python executable to run it:__\n",
    "\n",
    "    _This is the best way to run long-running non-interactive jobs (and the only way if sending jobs to a batch queue)._\n",
    "\n",
    "    ```bash\n",
    "langdale:tutorial2016 andrew$ python my_script.py\n",
    "```\n",
    "       \n",
    "2. __Run python interactively with the basic interpreter shell built into python itself:__\n",
    "    \n",
    "    _This is not good for much, generally speaking, but it is always available wherever Python is and fast to start up. Exit with CTRL-D or exit()._\n",
    "    \n",
    "    ```bash\n",
    "langdale:tutorial2016 andrew$ python```\n",
    "    \n",
    "    ```\n",
    "Python 2.7.12 |Continuum Analytics, Inc.| (default, Jul  2 2016, 17:43:17)\n",
    "[GCC 4.2.1 (Based on Apple Inc. build 5658) (LLVM build 2336.11.00)] on darwin\n",
    "Type \"help\", \"copyright\", \"credits\" or \"license\" for more information.\n",
    "Anaconda is brought to you by Continuum Analytics.\n",
    "Please check out: http://continuum.io/thanks and https://anaconda.org\n",
    ">>> 1+1\n",
    "2\n",
    ">>>\n",
    "```\n",
    "\n",
    "3. __Run through the third-party IPython shell (which you have to install):__\n",
    "\n",
    "   _This is a much more advanced shell and the most productive way of developing and debugging code interactively. It has nice colours, a command history, works like a system shell, has a pretty good interface to the python debugger built in, and plenty of other useful things. There are some instructions for using IPython [here](http://ipython.readthedocs.io/en/stable/interactive/tutorial.html)._\n",
    " \n",
    "   ```bash\n",
    "langdale:tutorial2016 andrew$ ipython```\n",
    "    ```\n",
    "Python 2.7.12 |Continuum Analytics, Inc.| (default, Jul  2 2016, 17:43:17)\n",
    "Type \"copyright\", \"credits\" or \"license\" for more information.\n",
    "IPython 5.1.0 -- An enhanced Interactive Python.\n",
    "?         -> Introduction and overview of IPython's features.\n",
    "%quickref -> Quick reference.\n",
    "help      -> Python's own help system.\n",
    "object?   -> Details about 'object', use 'object??' for extra details.\n",
    "```\n",
    "    ```\n",
    "In [1]: 1+1\n",
    "Out[1]: 2\n",
    "In [2]:\n",
    "```\n",
    "\n",
    "4. __Run ipython through a jupyter notebook:__\n",
    "\n",
    "    _This is fancy but not terribly practical (IMO) for everyday use. Requires an up-to-date browser to be running._\n",
    "\n",
    "    ```bash \n",
    "langdale:tutorial2016 andrew$ jupyter-notebook```\n",
    "\n",
    "   This tutorial is a Jupyter notebook. Press SHIFT+ENTER to run each cell, and the results will be printed underneath. This is just a more elaborate version of IPython. In your own time, have a look at the user interface tour and keyboard shortcuts under the Help menu.\n",
    "   \n",
    "   You can edit any of the examples to experiment. If things get badly messed up, Kernel->Restart & Clear Output.\n",
    "   \n",
    "   I recommend having a normal terminal open somewhere with IPython running in it, to experiment with. You can experiment here in the notebook too, but it's worth getting used to the terminal. The terminal also feels more natural and straightforward to some people.\n",
    "   \n",
    "   --------"
   ]
  },
  {
   "cell_type": "markdown",
   "metadata": {},
   "source": [
    "# 3. Basic Python Review"
   ]
  },
  {
   "cell_type": "markdown",
   "metadata": {},
   "source": [
    "## 3.1 Maths at the interactive prompt"
   ]
  },
  {
   "cell_type": "markdown",
   "metadata": {},
   "source": [
    "All this should be familiar if you've ever used Python before. The first point here is that typing stuff at the interactive prompt in IPython usually has a simple and intuitive result, and the second point is that Python has *dynamic typing*, so most of the time you don't have to worry about how numbers are encoded in memory, or how much memory is used to store them."
   ]
  },
  {
   "cell_type": "code",
   "execution_count": null,
   "metadata": {
    "collapsed": false
   },
   "outputs": [],
   "source": [
    "# Add integers, get an integer\n",
    "1 + 1"
   ]
  },
  {
   "cell_type": "code",
   "execution_count": null,
   "metadata": {
    "collapsed": false
   },
   "outputs": [],
   "source": [
    "# Add floats, get a float (no need to worry about precision)\n",
    "1.0 + 1.0"
   ]
  },
  {
   "cell_type": "code",
   "execution_count": null,
   "metadata": {
    "collapsed": false
   },
   "outputs": [],
   "source": [
    "# Add an interger to a float, get a float\n",
    "1.0 + 2"
   ]
  },
  {
   "cell_type": "code",
   "execution_count": null,
   "metadata": {
    "collapsed": false
   },
   "outputs": [],
   "source": [
    "# All the same ideas applies to multipilcation, obviously enough.\n",
    "5*2.0"
   ]
  },
  {
   "cell_type": "code",
   "execution_count": null,
   "metadata": {
    "collapsed": false
   },
   "outputs": [],
   "source": [
    "# Raising something to a power\n",
    "3 ** 4"
   ]
  },
  {
   "cell_type": "code",
   "execution_count": null,
   "metadata": {
    "collapsed": false
   },
   "outputs": [],
   "source": [
    "# Very big numbers are OK (but we'll see below that this doesn't hold for serious numerical work).\n",
    "# Note the L on the end.\n",
    "(2**22)**22"
   ]
  },
  {
   "cell_type": "code",
   "execution_count": null,
   "metadata": {
    "collapsed": false
   },
   "outputs": [],
   "source": [
    "# You can write numbers like this too:\n",
    "1.1e12"
   ]
  },
  {
   "cell_type": "code",
   "execution_count": null,
   "metadata": {
    "collapsed": true
   },
   "outputs": [],
   "source": [
    "# These lines starting with # are Python comments, by the way."
   ]
  },
  {
   "cell_type": "markdown",
   "metadata": {},
   "source": [
    "Python is very forgiving about variable types. You can check the type of anything explicitly if you want, using the built-in function `type()`, but you rarely need to. "
   ]
  },
  {
   "cell_type": "code",
   "execution_count": null,
   "metadata": {
    "collapsed": false
   },
   "outputs": [],
   "source": [
    "type(1)"
   ]
  },
  {
   "cell_type": "code",
   "execution_count": null,
   "metadata": {
    "collapsed": false
   },
   "outputs": [],
   "source": [
    "type(1.0)"
   ]
  },
  {
   "cell_type": "code",
   "execution_count": null,
   "metadata": {
    "collapsed": false
   },
   "outputs": [],
   "source": [
    "type((2**22)**6)"
   ]
  },
  {
   "cell_type": "code",
   "execution_count": null,
   "metadata": {
    "collapsed": false
   },
   "outputs": [],
   "source": [
    "# You can also explicitly force variables to be interpreted as a specific type (known as 'casting')\n",
    "float(1)/float(2)"
   ]
  },
  {
   "cell_type": "markdown",
   "metadata": {},
   "source": [
    "Division as usual, is more subtle. The result of the next expression is different in Python 2 (where dividing an integer by an integer results in integer division) and Python 3 (where it results in floating point division)."
   ]
  },
  {
   "cell_type": "code",
   "execution_count": null,
   "metadata": {
    "collapsed": false,
    "nbpresent": {
     "id": "ef34df18-a3f8-4939-9945-b6c2a4fa6c72"
    }
   },
   "outputs": [],
   "source": [
    "8 / 3"
   ]
  },
  {
   "cell_type": "code",
   "execution_count": null,
   "metadata": {
    "collapsed": false
   },
   "outputs": [],
   "source": [
    "8/3.0"
   ]
  },
  {
   "cell_type": "markdown",
   "metadata": {},
   "source": [
    "I always try to make sure I cast the denominators of fractions to floats explicitly (using `float()` or writing them with a `.0` on the ned), but it's easy to forget, leading to bugs. The recommended way to avoid this in python 2 is to start all your code with:"
   ]
  },
  {
   "cell_type": "markdown",
   "metadata": {},
   "source": [
    "```python\n",
    "from __future__ import division```"
   ]
  },
  {
   "cell_type": "markdown",
   "metadata": {},
   "source": [
    "which makes the python3 behaviour the default in python2. For now, there's no need to worry about this. One more thing for completeness:"
   ]
  },
  {
   "cell_type": "code",
   "execution_count": null,
   "metadata": {
    "collapsed": false
   },
   "outputs": [],
   "source": [
    "# If you want to make it clear you actually want integer division (rounding down)\n",
    "8 // 3"
   ]
  },
  {
   "cell_type": "markdown",
   "metadata": {},
   "source": [
    "Not much more to say about arithmetic operators."
   ]
  },
  {
   "cell_type": "code",
   "execution_count": null,
   "metadata": {
    "collapsed": false,
    "nbpresent": {
     "id": "d41e1984-ee5a-48fd-ae9f-31367a8c1f3a"
    }
   },
   "outputs": [],
   "source": [
    "# Modulo (remainder) -- it's useful sometimes, really!\n",
    "42 % 12"
   ]
  },
  {
   "cell_type": "markdown",
   "metadata": {},
   "source": [
    "## 3.2 Errors"
   ]
  },
  {
   "cell_type": "markdown",
   "metadata": {},
   "source": [
    "A large fraction of your Python life will be spent intepreting the results of errors. Fortunately these usually get printed in a helpful way. Let's confuse Python:"
   ]
  },
  {
   "cell_type": "code",
   "execution_count": null,
   "metadata": {
    "collapsed": false
   },
   "outputs": [],
   "source": [
    "1/0"
   ]
  },
  {
   "cell_type": "markdown",
   "metadata": {},
   "source": [
    "There's more about this later, when we look at error handling and debugging."
   ]
  },
  {
   "cell_type": "markdown",
   "metadata": {},
   "source": [
    "## 3.3 Printing stuff"
   ]
  },
  {
   "cell_type": "markdown",
   "metadata": {},
   "source": [
    "Above, the answers just appeared by magic underneath the expressions. This is how the interactive prompt works. If you put some of the code above in a file and ran it with Python directly, nothing would be printed. To print something to the standard output (i.e. 'the screen'), use the `print()` function."
   ]
  },
  {
   "cell_type": "code",
   "execution_count": null,
   "metadata": {
    "collapsed": false
   },
   "outputs": [],
   "source": [
    "print(1+1)"
   ]
  },
  {
   "cell_type": "markdown",
   "metadata": {},
   "source": [
    "In python2, `print` was interpreted specially and you could leave the brackets off if you wanted, like this:"
   ]
  },
  {
   "cell_type": "code",
   "execution_count": null,
   "metadata": {
    "collapsed": false
   },
   "outputs": [],
   "source": [
    "print 1+1"
   ]
  },
  {
   "cell_type": "markdown",
   "metadata": {},
   "source": [
    "In python3, `print()` _must_ have the brackets. It's a good habit to treat it like that in python2 as well."
   ]
  },
  {
   "cell_type": "code",
   "execution_count": null,
   "metadata": {
    "collapsed": true
   },
   "outputs": [],
   "source": [
    "# If you _don't_ want to see the result of the interactive prompt, put a semi-colon at the end of the line:\n",
    "1 + 1;"
   ]
  },
  {
   "cell_type": "code",
   "execution_count": null,
   "metadata": {
    "collapsed": false
   },
   "outputs": [],
   "source": [
    "# The ; is Python's line continuation, if you're curious. So what happens here should be understandable:\n",
    "1+1; 2+3; 20+30"
   ]
  },
  {
   "cell_type": "markdown",
   "metadata": {},
   "source": [
    "Since good Python code is supposed to be easily readable, multiple statements on one line like this are very rarely seen."
   ]
  },
  {
   "cell_type": "markdown",
   "metadata": {
    "nbpresent": {
     "id": "9447cc6f-37cb-41ac-93fe-1edb0b4914d5"
    }
   },
   "source": [
    "## 3.4 Variables and strings"
   ]
  },
  {
   "cell_type": "markdown",
   "metadata": {},
   "source": [
    "Assigning values to variables gives a reassuring feeling about the order of the Universe."
   ]
  },
  {
   "cell_type": "code",
   "execution_count": null,
   "metadata": {
    "collapsed": false,
    "nbpresent": {
     "id": "24fdb113-0ad6-4a3a-b308-af0a4986f6e2"
    }
   },
   "outputs": [],
   "source": [
    "x = 3"
   ]
  },
  {
   "cell_type": "markdown",
   "metadata": {},
   "source": [
    "(There is no output at the interactive prompt above because assignment with `=` isn't a function, so there is no 'result' to print)"
   ]
  },
  {
   "cell_type": "code",
   "execution_count": null,
   "metadata": {
    "collapsed": false
   },
   "outputs": [],
   "source": [
    "x"
   ]
  },
  {
   "cell_type": "markdown",
   "metadata": {},
   "source": [
    "Notice that you can define something in one cell and use its value in a later cell. The same is true in an IPython session."
   ]
  },
  {
   "cell_type": "markdown",
   "metadata": {},
   "source": [
    "Variables can be named anything, as long as you avoid [reserved keywords](https://docs.python.org/2/reference/lexical_analysis.html#keywords) used by Python itself."
   ]
  },
  {
   "cell_type": "code",
   "execution_count": null,
   "metadata": {
    "collapsed": false
   },
   "outputs": [],
   "source": [
    "# All that dynamic typing works as you might expect with these variables\n",
    "y = 2.0\n",
    "type(x*y)"
   ]
  },
  {
   "cell_type": "markdown",
   "metadata": {
    "nbpresent": {
     "id": "bca9133f-ba7f-49d9-8663-de9243a20550"
    }
   },
   "source": [
    "Now is probably a good point to introduce two other basic types, strings and 'booleans' (logical values `True` and `False`)."
   ]
  },
  {
   "cell_type": "code",
   "execution_count": 4,
   "metadata": {
    "collapsed": false,
    "nbpresent": {
     "id": "6f9cae44-8913-481b-a7b4-137b369d66a0"
    }
   },
   "outputs": [],
   "source": [
    "a = 'carbon dioxide' # a string\n",
    "b = True # a boolean"
   ]
  },
  {
   "cell_type": "code",
   "execution_count": 5,
   "metadata": {
    "collapsed": false,
    "nbpresent": {
     "id": "7f62bc4b-b807-40be-8377-a32250dee331"
    }
   },
   "outputs": [
    {
     "data": {
      "text/plain": [
       "str"
      ]
     },
     "execution_count": 5,
     "metadata": {},
     "output_type": "execute_result"
    }
   ],
   "source": [
    "type(a)"
   ]
  },
  {
   "cell_type": "code",
   "execution_count": 6,
   "metadata": {
    "collapsed": false,
    "nbpresent": {
     "id": "85bb4dc8-0795-44bc-98ce-21067ba6eee9"
    }
   },
   "outputs": [
    {
     "data": {
      "text/plain": [
       "bool"
      ]
     },
     "execution_count": 6,
     "metadata": {},
     "output_type": "execute_result"
    }
   ],
   "source": [
    "type(b)"
   ]
  },
  {
   "cell_type": "markdown",
   "metadata": {},
   "source": [
    "We'll concentrate on strings for a bit. \n",
    "\n",
    "(Note: Python strings can be Unicode without _too_ much fuss, see here: [Python2](https://docs.python.org/2/howto/unicode.html)/[Python 3](https://docs.python.org/3.6/howto/unicode.html). However in most astronomy-related cases this is overkill, you should stick to the default ascii encoding. Printing maths and less common characters in plots is handled in a totally different way, as we'll see later.) "
   ]
  },
  {
   "cell_type": "markdown",
   "metadata": {},
   "source": [
    "Compared to most other languages, manipulating strings in Python is easy."
   ]
  },
  {
   "cell_type": "code",
   "execution_count": 7,
   "metadata": {
    "collapsed": false
   },
   "outputs": [
    {
     "name": "stdout",
     "output_type": "stream",
     "text": [
      "carbon dioxide sounds like carbon dioxide\n",
      "CARBON DIOXIDE\n",
      "Carbon dioxide\n"
     ]
    }
   ],
   "source": [
    "print(a + ' sounds like ' + a)\n",
    "print(a.upper())\n",
    "print(a.capitalize())"
   ]
  },
  {
   "cell_type": "markdown",
   "metadata": {},
   "source": [
    "There are several different ways to specify strings:"
   ]
  },
  {
   "cell_type": "code",
   "execution_count": 8,
   "metadata": {
    "collapsed": false
   },
   "outputs": [
    {
     "data": {
      "text/plain": [
       "'Double quotes'"
      ]
     },
     "execution_count": 8,
     "metadata": {},
     "output_type": "execute_result"
    }
   ],
   "source": [
    "\"Double quotes\""
   ]
  },
  {
   "cell_type": "code",
   "execution_count": 9,
   "metadata": {
    "collapsed": false
   },
   "outputs": [
    {
     "data": {
      "text/plain": [
       "'Single quotes'"
      ]
     },
     "execution_count": 9,
     "metadata": {},
     "output_type": "execute_result"
    }
   ],
   "source": [
    "'Single quotes'"
   ]
  },
  {
   "cell_type": "markdown",
   "metadata": {},
   "source": [
    "The main point is that you can use one inside the other, so:"
   ]
  },
  {
   "cell_type": "code",
   "execution_count": 10,
   "metadata": {
    "collapsed": false
   },
   "outputs": [
    {
     "data": {
      "text/plain": [
       "\"This 'works' fine\""
      ]
     },
     "execution_count": 10,
     "metadata": {},
     "output_type": "execute_result"
    }
   ],
   "source": [
    "\"This 'works' fine\""
   ]
  },
  {
   "cell_type": "code",
   "execution_count": 11,
   "metadata": {
    "collapsed": false
   },
   "outputs": [
    {
     "data": {
      "text/plain": [
       "'as does \"this\"'"
      ]
     },
     "execution_count": 11,
     "metadata": {},
     "output_type": "execute_result"
    }
   ],
   "source": [
    "'as does \"this\"'"
   ]
  },
  {
   "cell_type": "code",
   "execution_count": 12,
   "metadata": {
    "collapsed": false
   },
   "outputs": [
    {
     "data": {
      "text/plain": [
       "\"\\nThree double quotes either side allows long blocks of text with line breaks!\\n\\nYou will see this all the time in Python, because it's the usual way of providing documentation for functions.\\n\""
      ]
     },
     "execution_count": 12,
     "metadata": {},
     "output_type": "execute_result"
    }
   ],
   "source": [
    "\"\"\"\n",
    "Three double quotes either side allows long blocks of text with line breaks!\n",
    "\n",
    "You will see this all the time in Python, because it's the usual way of providing documentation for functions.\n",
    "\"\"\""
   ]
  },
  {
   "cell_type": "markdown",
   "metadata": {},
   "source": [
    "That `\\n` is the (non-printing) new-line code, which you've hopefully seen before somewhere. This illustrates the difference between the interactive prompt and what you would get from `print()`."
   ]
  },
  {
   "cell_type": "code",
   "execution_count": 13,
   "metadata": {
    "collapsed": false
   },
   "outputs": [
    {
     "name": "stdout",
     "output_type": "stream",
     "text": [
      "I put some explicit\n",
      "newlines in here\n",
      "myself\n"
     ]
    }
   ],
   "source": [
    "print(\"I put some explicit\\nnewlines in here\\nmyself\")"
   ]
  },
  {
   "cell_type": "markdown",
   "metadata": {},
   "source": [
    "Other things can be converted to strings:"
   ]
  },
  {
   "cell_type": "code",
   "execution_count": 14,
   "metadata": {
    "collapsed": false
   },
   "outputs": [
    {
     "data": {
      "text/plain": [
       "'279936'"
      ]
     },
     "execution_count": 14,
     "metadata": {},
     "output_type": "execute_result"
    }
   ],
   "source": [
    "str(6**7)"
   ]
  },
  {
   "cell_type": "markdown",
   "metadata": {},
   "source": [
    "Usually we want the values of variables to appear in strings. The most basic and ugly way is to add up lots of small chunks like this:"
   ]
  },
  {
   "cell_type": "code",
   "execution_count": 15,
   "metadata": {
    "collapsed": false
   },
   "outputs": [
    {
     "name": "stdout",
     "output_type": "stream",
     "text": [
      "carbon dioxide is a compound of carbon and oxygen\n"
     ]
    }
   ],
   "source": [
    "element1 = 'carbon'\n",
    "element2 = 'oxygen'\n",
    "print(a + ' is a compound of ' + element1 + ' and ' + element2)"
   ]
  },
  {
   "cell_type": "markdown",
   "metadata": {},
   "source": [
    "This is OK in limited cases but it's hard to do anything more complicated with it. Also it can be tough to read. The more common way is to write a string with special placeholders in it that allow for 'string interpolation', like this:"
   ]
  },
  {
   "cell_type": "code",
   "execution_count": 16,
   "metadata": {
    "collapsed": false
   },
   "outputs": [
    {
     "name": "stdout",
     "output_type": "stream",
     "text": [
      "carbon dioxide is a compound of carbon and oxygen\n"
     ]
    }
   ],
   "source": [
    "full_string = '%s is a compound of %s and %s'%(a,element1,element2)\n",
    "print(full_string)"
   ]
  },
  {
   "cell_type": "markdown",
   "metadata": {},
   "source": [
    "The variables passed to the interpolation operator `%` are inserted into the string, in the order they appear in the brackets. `%s` is a placeholder that formats the variable you give it as a **s**tring. The `%` that glues the string to the brackets is a special operator that tells Python to interpolate the following variables into the preceding string.\n",
    "\n",
    "It doesn't matter if do the interpolation when you define the string, or later."
   ]
  },
  {
   "cell_type": "code",
   "execution_count": 17,
   "metadata": {
    "collapsed": false
   },
   "outputs": [
    {
     "name": "stdout",
     "output_type": "stream",
     "text": [
      "carbon dioxide is a compound of carbon and oxygen\n",
      "carbon dioxide is a compound of carbon and oxygen\n"
     ]
    }
   ],
   "source": [
    "# For example, this is equivalent to the above example:\n",
    "full_string = '%s is a compound of %s and %s'\n",
    "print(full_string%(a,element1,element2))\n",
    "\n",
    "# So is this:\n",
    "print('%s is a compound of %s and %s'%(a,element1,element2))"
   ]
  },
  {
   "cell_type": "markdown",
   "metadata": {},
   "source": [
    "String interpolation turns out to be one of the things you'll use to get stuff done at work -- for example, in the context of writing axis labels and legends for plots, working with data tables, and working with path to files. Compared to many other languages, Python is a joy to use in this respect, because string interpolation is so easy.\n",
    "\n",
    "There are other format specifiers, and syntax for each of them to specify things like the number of decimal places. [This link has a clear explanation of the various options](https://pyformat.info/). A mismatch between the type of the variable and the type expected by the specifier works as long as it's possible to cast the former to the latter."
   ]
  },
  {
   "cell_type": "code",
   "execution_count": 18,
   "metadata": {
    "collapsed": false
   },
   "outputs": [
    {
     "name": "stdout",
     "output_type": "stream",
     "text": [
      "This is an integer: 2\n",
      "This is a float: 2.000\n",
      "This is scientific notation: 2.000000e+22\n",
      "This is a string: 2\n"
     ]
    }
   ],
   "source": [
    "for_example = \"\"\"This is an integer: %d\n",
    "This is a float: %2.3f\n",
    "This is scientific notation: %10.6e\n",
    "This is a string: %s\"\"\"\n",
    "\n",
    "print(for_example%(2.0,2,2e22,2))"
   ]
  },
  {
   "cell_type": "markdown",
   "metadata": {},
   "source": [
    "There is another way to format strings (the so-called 'new' style) using the format function, like this:"
   ]
  },
  {
   "cell_type": "code",
   "execution_count": 19,
   "metadata": {
    "collapsed": false
   },
   "outputs": [
    {
     "name": "stdout",
     "output_type": "stream",
     "text": [
      "carbon dioxide is a compound of carbon and oxygen\n"
     ]
    }
   ],
   "source": [
    "for_example = '{} is a compound of {} and {}'\n",
    "print(for_example.format(a,element1,element2))"
   ]
  },
  {
   "cell_type": "code",
   "execution_count": 27,
   "metadata": {
    "collapsed": false
   },
   "outputs": [
    {
     "data": {
      "text/plain": [
       "'200.00'"
      ]
     },
     "execution_count": 27,
     "metadata": {},
     "output_type": "execute_result"
    }
   ],
   "source": [
    "'{:.2f}'.format(200)"
   ]
  },
  {
   "cell_type": "markdown",
   "metadata": {},
   "source": [
    "The `{}` are the variable placeholders for this new-style formatting. You can put format codes inside them, a bit like like the `%d` syntax of the old-style strings. For example, `{:d}` formats that entry as an integer, and `{:.2f}` formats it as a float with 2 decimal places. You can also give the placeholders names that you match to the variables in the argument list, so they don't have to be given in order, like this:"
   ]
  },
  {
   "cell_type": "code",
   "execution_count": 28,
   "metadata": {
    "collapsed": false
   },
   "outputs": [
    {
     "name": "stdout",
     "output_type": "stream",
     "text": [
      "carbon dioxide is a compound of carbon and oxygen\n",
      "carbon dioxide is a compound of oxygen and carbon\n"
     ]
    }
   ],
   "source": [
    "for_example = '{compound:s} is a compound of {first_thing:s} and {second_thing:s}'\n",
    "print(for_example.format(first_thing=element1,compound=a,second_thing=element2))\n",
    "print(for_example.format(first_thing=element2,compound=a,second_thing=element1))"
   ]
  },
  {
   "cell_type": "markdown",
   "metadata": {},
   "source": [
    "This is useful for very long strings (for example, if you're writing a parameter file automatically)."
   ]
  },
  {
   "cell_type": "markdown",
   "metadata": {},
   "source": [
    "----\n",
    "*Further reading:*\n",
    "- the `regex` module is used to search for patterns in strings; it seems complicated at first, but it's worth learning."
   ]
  },
  {
   "cell_type": "markdown",
   "metadata": {},
   "source": [
    "## 3.5 `None` and logical operations"
   ]
  },
  {
   "cell_type": "markdown",
   "metadata": {
    "collapsed": false
   },
   "source": [
    "Variables can also have a special value of `None`, which indicates that they are defined, but have no value. This is used all the time and is really important to know about."
   ]
  },
  {
   "cell_type": "code",
   "execution_count": null,
   "metadata": {
    "collapsed": false
   },
   "outputs": [],
   "source": [
    "c = None\n",
    "type(c)"
   ]
  },
  {
   "cell_type": "markdown",
   "metadata": {},
   "source": [
    "Now we can try some logical operations using the comparison operators:"
   ]
  },
  {
   "cell_type": "code",
   "execution_count": null,
   "metadata": {
    "collapsed": false
   },
   "outputs": [],
   "source": [
    "print(1==1)\n",
    "print(1!=2)\n",
    "print(1==2)\n",
    "print(1<=2)\n",
    "# etc. etc.\n",
    "print(True != False)\n",
    "print(False == None)"
   ]
  },
  {
   "cell_type": "code",
   "execution_count": null,
   "metadata": {
    "collapsed": false
   },
   "outputs": [],
   "source": [
    "True and True"
   ]
  },
  {
   "cell_type": "code",
   "execution_count": null,
   "metadata": {
    "collapsed": false
   },
   "outputs": [],
   "source": [
    "True and False"
   ]
  },
  {
   "cell_type": "code",
   "execution_count": null,
   "metadata": {
    "collapsed": false
   },
   "outputs": [],
   "source": [
    "True or False"
   ]
  },
  {
   "cell_type": "code",
   "execution_count": null,
   "metadata": {
    "collapsed": false
   },
   "outputs": [],
   "source": [
    "not True or False"
   ]
  },
  {
   "cell_type": "markdown",
   "metadata": {},
   "source": [
    "and so on. Beware:"
   ]
  },
  {
   "cell_type": "code",
   "execution_count": null,
   "metadata": {
    "collapsed": false
   },
   "outputs": [],
   "source": [
    "1 == True"
   ]
  },
  {
   "cell_type": "code",
   "execution_count": null,
   "metadata": {
    "collapsed": true
   },
   "outputs": [],
   "source": [
    "0 == False"
   ]
  },
  {
   "cell_type": "markdown",
   "metadata": {},
   "source": [
    "Yikes! Maybe every positive number is `True`?"
   ]
  },
  {
   "cell_type": "code",
   "execution_count": null,
   "metadata": {
    "collapsed": false
   },
   "outputs": [],
   "source": [
    "2 == True"
   ]
  },
  {
   "cell_type": "code",
   "execution_count": null,
   "metadata": {
    "collapsed": false
   },
   "outputs": [],
   "source": [
    "-1 == True"
   ]
  },
  {
   "cell_type": "markdown",
   "metadata": {},
   "source": [
    "OK... so if True and False are equal to 1 and 0, can we do arithmatic with them?"
   ]
  },
  {
   "cell_type": "code",
   "execution_count": null,
   "metadata": {
    "collapsed": false
   },
   "outputs": [],
   "source": [
    "True - 1 == False "
   ]
  },
  {
   "cell_type": "code",
   "execution_count": null,
   "metadata": {
    "collapsed": false
   },
   "outputs": [],
   "source": [
    "False - 1"
   ]
  },
  {
   "cell_type": "markdown",
   "metadata": {},
   "source": [
    "In Python, `True` and `False` are really some special sort of integers (`bool`), the values of which are 1 and 0 respectively. 99.9% of the time you probably don't need to worry about this. [Further discussion here if interested](http://stackoverflow.com/questions/2764017/is-false-0-and-true-1-in-python-an-implementation-detail-or-is-it-guarante)."
   ]
  },
  {
   "cell_type": "markdown",
   "metadata": {},
   "source": [
    "There is another operator, `is`, which checks if two things *are the same thing* rather than just checking that they have equal values. This doesn't sound obvious and it is less obvious than it sounds."
   ]
  },
  {
   "cell_type": "code",
   "execution_count": null,
   "metadata": {
    "collapsed": false
   },
   "outputs": [],
   "source": [
    "x = 1\n",
    "y = 1.0\n",
    "a is b"
   ]
  },
  {
   "cell_type": "code",
   "execution_count": null,
   "metadata": {
    "collapsed": false
   },
   "outputs": [],
   "source": [
    "0 is False"
   ]
  },
  {
   "cell_type": "markdown",
   "metadata": {},
   "source": [
    "## 3.6 Conditional expressions"
   ]
  },
  {
   "cell_type": "markdown",
   "metadata": {},
   "source": [
    "If you've ever written any code before you should expect the following kind of thing to happen in Python, and it does:"
   ]
  },
  {
   "cell_type": "code",
   "execution_count": null,
   "metadata": {
    "collapsed": false
   },
   "outputs": [],
   "source": [
    "A = 8\n",
    "if A == 8: # test equality\n",
    "    print ('A really is equal to 8.')\n",
    "    \n",
    "B = 10\n",
    "if B > 10*A: # test inequality\n",
    "    print('B is about %f times bigger than A.'%(B/A))\n",
    "elif B < A/10.0:\n",
    "    print('B is signficantly smaller than A')\n",
    "else:\n",
    "    print('An astronomer might say B is approximately equal to A.')"
   ]
  },
  {
   "cell_type": "markdown",
   "metadata": {},
   "source": [
    "Some languages have `case` statements. Python doesn't, it relies on `elif`."
   ]
  },
  {
   "cell_type": "markdown",
   "metadata": {
    "nbpresent": {
     "id": "9d352191-bc99-4ecf-9296-71fe8bd88967"
    }
   },
   "source": [
    "## 3.7 Objects, classes, functions, methods --  and interactive help"
   ]
  },
  {
   "cell_type": "markdown",
   "metadata": {
    "nbpresent": {
     "id": "92f1c944-022a-49f7-8738-9564875e4f18"
    }
   },
   "source": [
    "Python doesn't just have basic 'things' like `int`, `float` and `str`, it also has objects. Everything in python, more or less, is an object of some sort. You don't need to worry about that, because all it means is that things usually work as you expect."
   ]
  },
  {
   "cell_type": "code",
   "execution_count": 2,
   "metadata": {
    "collapsed": false,
    "nbpresent": {
     "id": "0f6c7292-302c-42c4-8782-8855b468416c"
    }
   },
   "outputs": [
    {
     "name": "stdout",
     "output_type": "stream",
     "text": [
      "<type 'str'>\n"
     ]
    }
   ],
   "source": [
    "a = 'carbon dioxide' # a string\n",
    "print(type(a))"
   ]
  },
  {
   "cell_type": "markdown",
   "metadata": {},
   "source": [
    "'a' is an object of class `str`. We can also ask 'is the varaible a string'?"
   ]
  },
  {
   "cell_type": "code",
   "execution_count": null,
   "metadata": {
    "collapsed": false
   },
   "outputs": [],
   "source": [
    "isinstance(a,str)"
   ]
  },
  {
   "cell_type": "markdown",
   "metadata": {},
   "source": [
    "You won't see this `isinstance` check very often in Python code, because the reccomended approach is not to care what class an object actually *is*, only what methods it has (this is called 'duck typing')"
   ]
  },
  {
   "cell_type": "markdown",
   "metadata": {},
   "source": [
    "More or less, there is no difference between the words 'type' and 'class' in Python, they mean the same thing. Objects of the same class ('instances' of the class) behave in the same way (in Python jargon, they have the same methods) but have different values. We already saw some methods of the `str` class, accessed through the `.` notation, for example:"
   ]
  },
  {
   "cell_type": "code",
   "execution_count": null,
   "metadata": {
    "collapsed": false
   },
   "outputs": [],
   "source": [
    "a.upper()"
   ]
  },
  {
   "cell_type": "markdown",
   "metadata": {},
   "source": [
    "Methods, for example `str.upper()`, are just functions that are associated with objects. Python is 'object oriented' ('everything in Python is an object'), but you don't need to know that, or what it means, to write Python code. Consequently Python code doesn't have to look object oriented. The most obviously not-object-oriented thing in Python is probably the way to get the length of a string. If you've seen other object-oriented languages you might expect it to be a property or method of the string, like `a.length()` or `a.size()`, but in fact it's a function that takes the string as its argument:"
   ]
  },
  {
   "cell_type": "code",
   "execution_count": null,
   "metadata": {
    "collapsed": false
   },
   "outputs": [],
   "source": [
    "len(a)"
   ]
  },
  {
   "cell_type": "markdown",
   "metadata": {},
   "source": [
    "There is [a reason for this](https://docs.python.org/2/faq/design.html#why-does-python-use-methods-for-some-functionality-e-g-list-index-but-functions-for-other-e-g-len-list), but it's partly a philosophical one."
   ]
  },
  {
   "cell_type": "markdown",
   "metadata": {},
   "source": [
    "Since we know that our variable `a` is an object of class `str`, we can use the function `help()` to learn about what we can do with it."
   ]
  },
  {
   "cell_type": "code",
   "execution_count": null,
   "metadata": {
    "collapsed": false
   },
   "outputs": [],
   "source": [
    "help(str)"
   ]
  },
  {
   "cell_type": "markdown",
   "metadata": {},
   "source": [
    "I almost never use `help()`. If I want to know what methods an object has, I usually use 'tab completion' in IPython -- type the name of the variable and a dot then press TA , like this `a.` + [TAB]."
   ]
  },
  {
   "cell_type": "code",
   "execution_count": null,
   "metadata": {
    "collapsed": true
   },
   "outputs": [],
   "source": [
    "a. # click on the cell to edit it, put the cursor after the dot, and press TAB."
   ]
  },
  {
   "cell_type": "markdown",
   "metadata": {},
   "source": [
    "If I want to know how to use one of these methods, I use the magic '?' suffix in IPython to see the so-called 'docstring' of the method. Docstrings are special strings written into the code that defines the method, which provide a minimal ammount of information. In Jupyter this opens a pop-up window that you can safely close after you've read it."
   ]
  },
  {
   "cell_type": "code",
   "execution_count": 3,
   "metadata": {
    "collapsed": false
   },
   "outputs": [],
   "source": [
    "a.rstrip?"
   ]
  },
  {
   "cell_type": "code",
   "execution_count": null,
   "metadata": {
    "collapsed": false
   },
   "outputs": [],
   "source": [
    "# OK, let's try this rstrip function... \n",
    "a.rstrip('oxide')"
   ]
  },
  {
   "cell_type": "markdown",
   "metadata": {},
   "source": [
    "Why did the 'di' get removed as well? Isn't this supposed to strip the string in the argument from the right hand side of the target string? \n",
    "\n",
    "Actually no, even though this is what most people guess at first. In the documentation it says:\n",
    "```\n",
    "If chars is given and not None, remove characters in chars instead.\n",
    "```\n",
    "But this doesn't say anything about the order. In fact `rstrip` is removing any of the characters in the list you give it, regardless of the order or how many times they appear. To prove this:"
   ]
  },
  {
   "cell_type": "code",
   "execution_count": null,
   "metadata": {
    "collapsed": false
   },
   "outputs": [],
   "source": [
    "a.rstrip('eixod')"
   ]
  },
  {
   "cell_type": "markdown",
   "metadata": {},
   "source": [
    "There are lots of ways to actually strip 'oxide':"
   ]
  },
  {
   "cell_type": "code",
   "execution_count": null,
   "metadata": {
    "collapsed": false
   },
   "outputs": [],
   "source": [
    "a[:-5]"
   ]
  },
  {
   "cell_type": "code",
   "execution_count": null,
   "metadata": {
    "collapsed": false
   },
   "outputs": [],
   "source": [
    "a[:9]"
   ]
  },
  {
   "cell_type": "code",
   "execution_count": null,
   "metadata": {
    "collapsed": false
   },
   "outputs": [],
   "source": [
    "# More generally (read the documentation for rfind)\n",
    "a[:a.rfind('oxide')]"
   ]
  },
  {
   "cell_type": "markdown",
   "metadata": {},
   "source": [
    "Why isn't this the best solution, even though it works in this case?"
   ]
  },
  {
   "cell_type": "code",
   "execution_count": null,
   "metadata": {
    "collapsed": false
   },
   "outputs": [],
   "source": [
    "a.replace('oxide','')"
   ]
  },
  {
   "cell_type": "markdown",
   "metadata": {},
   "source": [
    "The documentation shows that `rfind` returns a **copy** of the string, so the original string should be the same."
   ]
  },
  {
   "cell_type": "code",
   "execution_count": null,
   "metadata": {
    "collapsed": false
   },
   "outputs": [],
   "source": [
    "a"
   ]
  },
  {
   "cell_type": "code",
   "execution_count": null,
   "metadata": {
    "collapsed": true
   },
   "outputs": [],
   "source": [
    "# The same idea works for functions\n",
    "len?"
   ]
  },
  {
   "cell_type": "markdown",
   "metadata": {},
   "source": [
    "Often the docstring isn't enough, in which case Google is the solution."
   ]
  },
  {
   "cell_type": "markdown",
   "metadata": {},
   "source": [
    "The list of methods we printed with `help()` above showed many starting with `__`. These are 'hidden' methods -- hidden only in the sense that they don't show up when you use tab completion. Apart from that they are identical to 'normal' methods. These are methods that you are not expected to call yourself (but you can do if you want)."
   ]
  },
  {
   "cell_type": "code",
   "execution_count": null,
   "metadata": {
    "collapsed": false
   },
   "outputs": [],
   "source": [
    "a.__eq__('carbon dioxide') "
   ]
  },
  {
   "cell_type": "markdown",
   "metadata": {},
   "source": [
    "Here `__eq__` takes another string and returns true if that string is 'equal' to the object. It's the fact that `str` has an `__eq__` method that means you can compare strings with logical operators like this:"
   ]
  },
  {
   "cell_type": "code",
   "execution_count": null,
   "metadata": {
    "collapsed": false
   },
   "outputs": [],
   "source": [
    "a == 'carbon dioxide'"
   ]
  },
  {
   "cell_type": "markdown",
   "metadata": {},
   "source": [
    "This is 'duck typing' in action -- we don't need to care if instances of a particular class are numerical or boolean values to test if two objects of that class are equal; we only need to care that they have a method with the name `__eq__` that defines what 'equality' means for that particular class."
   ]
  },
  {
   "cell_type": "markdown",
   "metadata": {},
   "source": [
    "## 3.8 Defining functions"
   ]
  },
  {
   "cell_type": "markdown",
   "metadata": {},
   "source": [
    "This is a simple definition of a function, using the `def` keyword:"
   ]
  },
  {
   "cell_type": "code",
   "execution_count": null,
   "metadata": {
    "collapsed": true
   },
   "outputs": [],
   "source": [
    "def my_function(first_argument, another_argument):\n",
    "    \"\"\"\n",
    "    my_function adds together the first and second arguments \n",
    "    and returns the result.\n",
    "    \n",
    "    Arguments\n",
    "    ---------\n",
    "        first_argument   : the first argument\n",
    "        another_argument : this is the other argument\n",
    "    \n",
    "    The two arguments can be any two things that python can \n",
    "    add together.\n",
    "    \n",
    "    Returns: the sum of the two arguments\n",
    "    \"\"\"\n",
    "    print('I got %s and %s'%(first_argument, another_argument))\n",
    "    some_result = first_argument + another_argument\n",
    "    \n",
    "    return some_result"
   ]
  },
  {
   "cell_type": "markdown",
   "metadata": {},
   "source": [
    "Note the following:\n",
    "\n",
    "- the body of the function (from the line after the `:`) is indented.\n",
    "- the first thing in the function is a multi-line string that explains the purpose of the arguments. This is the docstring. Notice that it isn't assigned to anything -- Python automatically recognizes it as a docstring.\n",
    "- the variable after `return` is returned by the function.\n",
    "\n",
    "Good docstrings are concise and about 80 characters wide. Apart from that it's up to you what if anything to write there, but it's a good idea to write something, even in your own code. Docstrings are picked up by Python's interactive help system. "
   ]
  },
  {
   "cell_type": "code",
   "execution_count": null,
   "metadata": {
    "collapsed": false
   },
   "outputs": [],
   "source": [
    "help(my_function)"
   ]
  },
  {
   "cell_type": "code",
   "execution_count": null,
   "metadata": {
    "collapsed": false
   },
   "outputs": [],
   "source": [
    "my_function(1,2)"
   ]
  },
  {
   "cell_type": "code",
   "execution_count": null,
   "metadata": {
    "collapsed": false
   },
   "outputs": [],
   "source": [
    "my_function(1,True)"
   ]
  },
  {
   "cell_type": "code",
   "execution_count": null,
   "metadata": {
    "collapsed": false
   },
   "outputs": [],
   "source": [
    "my_function('astro','physics')"
   ]
  },
  {
   "cell_type": "code",
   "execution_count": null,
   "metadata": {
    "collapsed": false
   },
   "outputs": [],
   "source": [
    "x = my_function(7,8) # assign the result to a variable\n",
    "\n",
    "print 'So x = %s'%(x) # Think about why I'm using %s to format x in the printed string here..."
   ]
  },
  {
   "cell_type": "markdown",
   "metadata": {},
   "source": [
    "(the answer is that I don't know what kind of thing I'm going to get back from my_function -- numbers can be turned into strings, but strings can't be turned into numbers)"
   ]
  },
  {
   "cell_type": "markdown",
   "metadata": {},
   "source": [
    "This is the simplest possible function:"
   ]
  },
  {
   "cell_type": "code",
   "execution_count": null,
   "metadata": {
    "collapsed": true
   },
   "outputs": [],
   "source": [
    "def simplest_possible_function(): \n",
    "    pass\n",
    "\n",
    "# If we call it, nothering happens.\n",
    "simplest_possible_function()"
   ]
  },
  {
   "cell_type": "markdown",
   "metadata": {},
   "source": [
    "`pass` is a keyword that does nothing. It's needed here because otherwise the method definition is incomplete. Functions don't have to `return` anything, but they do have to do something (even if that something is just `pass`)"
   ]
  },
  {
   "cell_type": "markdown",
   "metadata": {},
   "source": [
    "Functions can have **default** arguments, as follows:"
   ]
  },
  {
   "cell_type": "code",
   "execution_count": null,
   "metadata": {
    "collapsed": false
   },
   "outputs": [],
   "source": [
    "def another_function(alpha=2,beta=None):\n",
    "    if beta is not None:\n",
    "        return alpha*beta\n",
    "    else:\n",
    "        return str(alpha**2)\n",
    "    \n",
    "print(another_function()) # No explicit arguments\n",
    "print(another_function(3))\n",
    "print(another_function(3,2))\n",
    "print(another_function(beta=2,alpha=3))\n",
    "print(another_function(beta=4))"
   ]
  },
  {
   "cell_type": "markdown",
   "metadata": {},
   "source": [
    "There is another way to define very simple one-line functions, called `lambda`"
   ]
  },
  {
   "cell_type": "code",
   "execution_count": null,
   "metadata": {
    "collapsed": false
   },
   "outputs": [],
   "source": [
    "add_together = lambda x,y : x+y\n",
    "\n",
    "add_together(1,2)"
   ]
  },
  {
   "cell_type": "markdown",
   "metadata": {},
   "source": [
    "There is no deep difference between functions and `lambda`s. As it says [here](https://docs.python.org/2/faq/design.html#why-can-t-lambda-expressions-contain-statements):\n",
    "\n",
    "> Unlike lambda forms in other languages, where they add functionality, Python lambdas are only a shorthand notation if you’re too lazy to define a function.\n",
    "\n",
    "I tend to use `lambda` for simple one-line expressions."
   ]
  },
  {
   "cell_type": "code",
   "execution_count": null,
   "metadata": {
    "collapsed": false
   },
   "outputs": [],
   "source": [
    "# Functions are objects too.\n",
    "print(my_function.__name__.upper())\n",
    "\n",
    "# So we can pass functions as arguments.\n",
    "def uppercase_name_of_function(f):\n",
    "    print(f.__name__.upper())\n",
    "\n",
    "uppercase_name_of_function(my_function)\n",
    "uppercase_name_of_function(add_together)"
   ]
  },
  {
   "cell_type": "markdown",
   "metadata": {},
   "source": [
    "`lambda` expressions don't have names, and don't really need them -- but we can give then names if we want, since they're no different from other functions."
   ]
  },
  {
   "cell_type": "code",
   "execution_count": null,
   "metadata": {
    "collapsed": false
   },
   "outputs": [],
   "source": [
    "add_together.__name__ = 'Add Together!'\n",
    "uppercase_name_of_function(add_together)"
   ]
  },
  {
   "cell_type": "markdown",
   "metadata": {},
   "source": [
    "When small functions are defined inside other functions, they're usually written using `lambda`. But sometimes we want complicated functions to be defined inside other functions -- **nested** functions. There is nothing complicated about that:"
   ]
  },
  {
   "cell_type": "code",
   "execution_count": null,
   "metadata": {
    "collapsed": false
   },
   "outputs": [],
   "source": [
    "def outer_function(x):\n",
    "    # define a nested function\n",
    "    y = 10\n",
    "    def inner_function(x):\n",
    "        # The inner function knows about variables in the outer function,\n",
    "        # unless they're redefined in the body of the inner function\n",
    "        print(x*x*y)\n",
    "        return\n",
    "    \n",
    "    # call the nested function twice\n",
    "    inner_function(2*x)\n",
    "    inner_function(4*x)\n",
    "    return\n",
    "\n",
    "outer_function(3)\n",
    "\n",
    "# The inner function is only defined within the outer function, so we can't call it from the outer `scope`.\n",
    "inner_function(4)"
   ]
  },
  {
   "cell_type": "markdown",
   "metadata": {},
   "source": [
    "## 3.9 Classes"
   ]
  },
  {
   "cell_type": "markdown",
   "metadata": {},
   "source": [
    "Defining your own classes is not all that common in everyday Python programming -- you can write very sophisticated code without ever defining any classes. So my explanation here is a brief example:"
   ]
  },
  {
   "cell_type": "code",
   "execution_count": 6,
   "metadata": {
    "collapsed": false
   },
   "outputs": [
    {
     "name": "stdout",
     "output_type": "stream",
     "text": [
      "green\n",
      "orange\n"
     ]
    }
   ],
   "source": [
    "class MyClass(object):\n",
    "    def __init__(self,favourite_colour):\n",
    "        \"\"\"\n",
    "        Create a new MyClass instance.\n",
    "        \n",
    "        Arguments\n",
    "        ---------\n",
    "            favourite colour : the colour this instance likes best\n",
    "        \"\"\"\n",
    "        self.favourite_colour = favourite_colour\n",
    "        \n",
    "    def my_favourite_colour(self):\n",
    "        return self.favourite_colour\n",
    "    \n",
    "class_alpha      = MyClass('green')\n",
    "class_number_one = MyClass('orange')\n",
    "\n",
    "print(class_alpha.my_favourite_colour())\n",
    "print(class_number_one.my_favourite_colour())"
   ]
  },
  {
   "cell_type": "markdown",
   "metadata": {},
   "source": [
    "Note:\n",
    "- Class definitions start with `class`. \n",
    "- By convention, multi-word class names are usualy written in so-called CamelCase, whereas functions are named_like_this, with underscores.\n",
    "- The `(object)` after the name of the class means this class 'inherits' from the most basic class, `object`. Don't worry about this for now.\n",
    "- The class has two methods, nested inside the definition. These are called `__init__` and `my_favourite_colour`.\n",
    "- `__init__` is a special method that allows new instances of the class (i.e. objects) to be created with some initial state based on arguments passed directly to the class name, like this: `MyClass('green')`.\n",
    "\n",
    "The first argument of both methods is the keyword `self`. This represents the current instance of the class. Although it appears when the argument lists are defined for the functions in the class, it is 'invisible' when those methods are called. Each instance of the class has some 'state' that you can access through `self`, which is what's happening in the my_favourite_colour method.\n",
    "\n",
    "For the time being, just treat it as a law that `self` has to appear as the first argument when you defined class methods. "
   ]
  },
  {
   "cell_type": "markdown",
   "metadata": {},
   "source": [
    "## 3.10 Collections: lists and tuples"
   ]
  },
  {
   "cell_type": "markdown",
   "metadata": {},
   "source": [
    "User-defined classes aren't very common. Collections, on the other hand, are extremely important. Collections are objects that group other objects together. There are three main types of collection, `list`, `tuple` and `dict`. Manipulating these three basic collections is fundamental to good programming in Python.\n",
    "\n",
    "Lists an tuples have a lot in common. Lists are enclosed in [] and tuples in ():"
   ]
  },
  {
   "cell_type": "code",
   "execution_count": 7,
   "metadata": {
    "collapsed": true
   },
   "outputs": [],
   "source": [
    "my_list = [100,200,300,400,500,600]"
   ]
  },
  {
   "cell_type": "code",
   "execution_count": 8,
   "metadata": {
    "collapsed": true
   },
   "outputs": [],
   "source": [
    "my_tuple = (100,200,300,400,500,600)"
   ]
  },
  {
   "cell_type": "markdown",
   "metadata": {},
   "source": [
    "We'll look at the differences later. You'll find you work with lists more often than tuples."
   ]
  },
  {
   "cell_type": "markdown",
   "metadata": {},
   "source": [
    "### 3.10.1 Lists"
   ]
  },
  {
   "cell_type": "markdown",
   "metadata": {},
   "source": [
    "Lists are ordered collections. Each element in the list has an index: the first element has index `0`, the second element has index `1` and so on (like C)."
   ]
  },
  {
   "cell_type": "code",
   "execution_count": 9,
   "metadata": {
    "collapsed": false
   },
   "outputs": [
    {
     "data": {
      "text/plain": [
       "100"
      ]
     },
     "execution_count": 9,
     "metadata": {},
     "output_type": "execute_result"
    }
   ],
   "source": [
    "my_list[0]"
   ]
  },
  {
   "cell_type": "code",
   "execution_count": 10,
   "metadata": {
    "collapsed": false
   },
   "outputs": [
    {
     "data": {
      "text/plain": [
       "300"
      ]
     },
     "execution_count": 10,
     "metadata": {},
     "output_type": "execute_result"
    }
   ],
   "source": [
    "my_list[2]"
   ]
  },
  {
   "cell_type": "code",
   "execution_count": 11,
   "metadata": {
    "collapsed": false
   },
   "outputs": [
    {
     "data": {
      "text/plain": [
       "400"
      ]
     },
     "execution_count": 11,
     "metadata": {},
     "output_type": "execute_result"
    }
   ],
   "source": [
    "my_list[3]"
   ]
  },
  {
   "cell_type": "code",
   "execution_count": 12,
   "metadata": {
    "collapsed": false
   },
   "outputs": [
    {
     "data": {
      "text/plain": [
       "6"
      ]
     },
     "execution_count": 12,
     "metadata": {},
     "output_type": "execute_result"
    }
   ],
   "source": [
    "len(my_list)"
   ]
  },
  {
   "cell_type": "markdown",
   "metadata": {},
   "source": [
    "Lists can be 'sliced' to return ranges of elements using the notation `x[start:stop:step]`, where `x` is a list and `start` is the first **index** you want to return, `stop` is the index **after the last one you want to return** (this is confusing at first, don't worry!) and `step` allows you to return either every element (`step=1`), every 2nd element (`step=2`), every third (`step=3`) etc.\n",
    "\n",
    "All three parts of the slice syntax are *optional*, because if you leave them out, they get replaced with the following values:\n",
    "- if you leave `start` out, it assumes start = 0\n",
    "- if you leave `stop` out, it gets all elements from start up to *and including* the last one.\n",
    "- if you leave `step` out, it assumes step = 1\n",
    "\n",
    "Slicing up lists is one of the most confusing things for Python beginners. The following examples are supposed to illustrate how this works.\n",
    "\n",
    "***Understanding the following behaviour is very important*** for using Python to work with scientific data, in particular because the same ideas apply to the multidimensional numerical arrays that we'll look at later in `numpy`."
   ]
  },
  {
   "cell_type": "markdown",
   "metadata": {},
   "source": [
    "First, this example shows that the index `[0:3]` gets three elements, those at indices 0, 1 and 2. `stop=3` here, so the index at element 3 is **not** returned."
   ]
  },
  {
   "cell_type": "code",
   "execution_count": 13,
   "metadata": {
    "collapsed": false
   },
   "outputs": [
    {
     "data": {
      "text/plain": [
       "[100, 200, 300]"
      ]
     },
     "execution_count": 13,
     "metadata": {},
     "output_type": "execute_result"
    }
   ],
   "source": [
    "my_list[0:3] # elements 0, 1 and 2, NOT INCLUDING element 3!"
   ]
  },
  {
   "cell_type": "code",
   "execution_count": 14,
   "metadata": {
    "collapsed": false
   },
   "outputs": [
    {
     "data": {
      "text/plain": [
       "[200, 300, 400, 500, 600]"
      ]
     },
     "execution_count": 14,
     "metadata": {},
     "output_type": "execute_result"
    }
   ],
   "source": [
    "my_list[1:] # This is a 'slice' of the list from the 2nd element to the last"
   ]
  },
  {
   "cell_type": "code",
   "execution_count": 15,
   "metadata": {
    "collapsed": false
   },
   "outputs": [
    {
     "data": {
      "text/plain": [
       "600"
      ]
     },
     "execution_count": 15,
     "metadata": {},
     "output_type": "execute_result"
    }
   ],
   "source": [
    "my_list[-1] # Negative indices count backwards through the list"
   ]
  },
  {
   "cell_type": "code",
   "execution_count": 16,
   "metadata": {
    "collapsed": false
   },
   "outputs": [
    {
     "data": {
      "text/plain": [
       "[200, 300, 400, 500]"
      ]
     },
     "execution_count": 16,
     "metadata": {},
     "output_type": "execute_result"
    }
   ],
   "source": [
    "my_list[1:-1] # This is also a 'slice', here from the 2nd to the 2nd-last"
   ]
  },
  {
   "cell_type": "code",
   "execution_count": 17,
   "metadata": {
    "collapsed": false
   },
   "outputs": [
    {
     "data": {
      "text/plain": [
       "[100, 200, 300, 400, 500]"
      ]
     },
     "execution_count": 17,
     "metadata": {},
     "output_type": "execute_result"
    }
   ],
   "source": [
    "my_list[:-1]"
   ]
  },
  {
   "cell_type": "code",
   "execution_count": 18,
   "metadata": {
    "collapsed": false
   },
   "outputs": [
    {
     "data": {
      "text/plain": [
       "[100, 300, 500]"
      ]
     },
     "execution_count": 18,
     "metadata": {},
     "output_type": "execute_result"
    }
   ],
   "source": [
    "my_list[0:-1:2]"
   ]
  },
  {
   "cell_type": "code",
   "execution_count": 19,
   "metadata": {
    "collapsed": false
   },
   "outputs": [
    {
     "data": {
      "text/plain": [
       "[100, 300, 500]"
      ]
     },
     "execution_count": 19,
     "metadata": {},
     "output_type": "execute_result"
    }
   ],
   "source": [
    "my_list[:-1:2]"
   ]
  },
  {
   "cell_type": "code",
   "execution_count": 20,
   "metadata": {
    "collapsed": false
   },
   "outputs": [
    {
     "data": {
      "text/plain": [
       "[100, 300, 500]"
      ]
     },
     "execution_count": 20,
     "metadata": {},
     "output_type": "execute_result"
    }
   ],
   "source": [
    "my_list[::2]"
   ]
  },
  {
   "cell_type": "code",
   "execution_count": 21,
   "metadata": {
    "collapsed": false
   },
   "outputs": [
    {
     "data": {
      "text/plain": [
       "[200, 400, 600]"
      ]
     },
     "execution_count": 21,
     "metadata": {},
     "output_type": "execute_result"
    }
   ],
   "source": [
    "my_list[1::2]"
   ]
  },
  {
   "cell_type": "code",
   "execution_count": 22,
   "metadata": {
    "collapsed": false
   },
   "outputs": [
    {
     "data": {
      "text/plain": [
       "[600, 500, 400, 300, 200, 100]"
      ]
     },
     "execution_count": 22,
     "metadata": {},
     "output_type": "execute_result"
    }
   ],
   "source": [
    "my_list[::-1]"
   ]
  },
  {
   "cell_type": "code",
   "execution_count": 23,
   "metadata": {
    "collapsed": false
   },
   "outputs": [
    {
     "name": "stdout",
     "output_type": "stream",
     "text": [
      "[600, 500, 400, 300, 200, 100]\n",
      "[100, 200, 300, 400, 500, 600]\n"
     ]
    }
   ],
   "source": [
    "my_list.reverse()\n",
    "print(my_list)\n",
    "my_list.reverse()\n",
    "print(my_list)"
   ]
  },
  {
   "cell_type": "code",
   "execution_count": 24,
   "metadata": {
    "collapsed": true
   },
   "outputs": [],
   "source": [
    "empty_list_a = []\n",
    "empty_list_b = list()"
   ]
  },
  {
   "cell_type": "code",
   "execution_count": 25,
   "metadata": {
    "collapsed": false
   },
   "outputs": [
    {
     "data": {
      "text/plain": [
       "[100, 200, 300, 400, 500, 600]"
      ]
     },
     "execution_count": 25,
     "metadata": {},
     "output_type": "execute_result"
    }
   ],
   "source": [
    "my_list + [400] # Returns a new list\n",
    "my_list # Original list wasn't changed"
   ]
  },
  {
   "cell_type": "code",
   "execution_count": 26,
   "metadata": {
    "collapsed": false
   },
   "outputs": [
    {
     "data": {
      "text/plain": [
       "[100, 200, 300, 400, 500, 600, 4]"
      ]
     },
     "execution_count": 26,
     "metadata": {},
     "output_type": "execute_result"
    }
   ],
   "source": [
    "my_list.append(4) # Changes the list 'in place'\n",
    "my_list"
   ]
  },
  {
   "cell_type": "markdown",
   "metadata": {},
   "source": [
    "Lists are 'mutable' (we can change the values of their elements)"
   ]
  },
  {
   "cell_type": "code",
   "execution_count": 29,
   "metadata": {
    "collapsed": false
   },
   "outputs": [
    {
     "data": {
      "text/plain": [
       "[100, 100, 300, 400, 500, 600, 4]"
      ]
     },
     "execution_count": 29,
     "metadata": {},
     "output_type": "execute_result"
    }
   ],
   "source": [
    "my_list[1] = 100\n",
    "my_list"
   ]
  },
  {
   "cell_type": "markdown",
   "metadata": {},
   "source": [
    "Lists have lots of methods and functions to operate on them. We'll see more examples as we go on.\n",
    "\n",
    "Functions can take lists as arguments and return lists:"
   ]
  },
  {
   "cell_type": "code",
   "execution_count": 30,
   "metadata": {
    "collapsed": false
   },
   "outputs": [
    {
     "name": "stdout",
     "output_type": "stream",
     "text": [
      "[2, 5, 3, 4, 4, 3, 5, 2]\n",
      "[1, 2, 3, 4, 5]\n"
     ]
    }
   ],
   "source": [
    "def list_processing(x):\n",
    "    \"\"\"\n",
    "    Function that expects a list as an argument.\n",
    "    \"\"\"\n",
    "    new_list = list()\n",
    "    if len(x) > 0:\n",
    "        for i,j in zip(x[1::],x[::-1]):\n",
    "            new_list.append(i)\n",
    "            new_list.append(j)\n",
    "    return new_list\n",
    "\n",
    "a = [1,2,3,4,5]\n",
    "print(list_processing(a))\n",
    "print(a)\n",
    "\n",
    "def add_to_x(x):\n",
    "    x = x+1\n",
    "    return x"
   ]
  },
  {
   "cell_type": "markdown",
   "metadata": {},
   "source": [
    "What happens if you change `new_list = list()` to `new_list = x` in the example above? \n",
    "\n",
    "It's a good idea to read [this](http://docs.python-guide.org/en/latest/writing/gotchas/) advice about using lists as default arguments in functions."
   ]
  },
  {
   "cell_type": "markdown",
   "metadata": {},
   "source": [
    "### 3.10.2 Tuples"
   ]
  },
  {
   "cell_type": "markdown",
   "metadata": {},
   "source": [
    "Tuples are very similar to lists. The most important difference is that they are **not** mutable. In other words, you can't change the elements after you've made the tuple."
   ]
  },
  {
   "cell_type": "code",
   "execution_count": 31,
   "metadata": {
    "collapsed": false
   },
   "outputs": [
    {
     "ename": "TypeError",
     "evalue": "'tuple' object does not support item assignment",
     "output_type": "error",
     "traceback": [
      "\u001b[0;31m---------------------------------------------------------------------------\u001b[0m",
      "\u001b[0;31mTypeError\u001b[0m                                 Traceback (most recent call last)",
      "\u001b[0;32m<ipython-input-31-18ddc0b76091>\u001b[0m in \u001b[0;36m<module>\u001b[0;34m()\u001b[0m\n\u001b[0;32m----> 1\u001b[0;31m \u001b[0mmy_tuple\u001b[0m\u001b[0;34m[\u001b[0m\u001b[0;36m1\u001b[0m\u001b[0;34m]\u001b[0m \u001b[0;34m=\u001b[0m \u001b[0;36m100\u001b[0m\u001b[0;34m\u001b[0m\u001b[0m\n\u001b[0m",
      "\u001b[0;31mTypeError\u001b[0m: 'tuple' object does not support item assignment"
     ]
    }
   ],
   "source": [
    "my_tuple[1] = 100"
   ]
  },
  {
   "cell_type": "code",
   "execution_count": 32,
   "metadata": {
    "collapsed": false
   },
   "outputs": [
    {
     "data": {
      "text/plain": [
       "(100, 200, 300, 400, 500, 600, 4)"
      ]
     },
     "execution_count": 32,
     "metadata": {},
     "output_type": "execute_result"
    }
   ],
   "source": [
    "my_tuple + (4,) # Returns a new tuple"
   ]
  },
  {
   "cell_type": "markdown",
   "metadata": {},
   "source": [
    "Tuples have no 'append' function, because they're immutable."
   ]
  },
  {
   "cell_type": "code",
   "execution_count": 33,
   "metadata": {
    "collapsed": false
   },
   "outputs": [
    {
     "data": {
      "text/plain": [
       "(1, 2, 3, 4)"
      ]
     },
     "execution_count": 33,
     "metadata": {},
     "output_type": "execute_result"
    }
   ],
   "source": [
    "1, 2, 3, 4 # This makes a tuple"
   ]
  },
  {
   "cell_type": "code",
   "execution_count": null,
   "metadata": {
    "collapsed": false
   },
   "outputs": [],
   "source": [
    "my_function = lambda x: x\n",
    "['this', 1, None, True, my_function, 'is fine']"
   ]
  },
  {
   "cell_type": "markdown",
   "metadata": {},
   "source": [
    "The `in` statement checks if an item is in a list or tuple:"
   ]
  },
  {
   "cell_type": "code",
   "execution_count": null,
   "metadata": {
    "collapsed": false
   },
   "outputs": [],
   "source": [
    "'a' in ['a','b','c']"
   ]
  },
  {
   "cell_type": "markdown",
   "metadata": {},
   "source": [
    "You'll most often see tuples returned by functions that return several 'packed' arguments, as in the next example."
   ]
  },
  {
   "cell_type": "markdown",
   "metadata": {},
   "source": [
    "### 3.10.3 Packing and unpacking tuples"
   ]
  },
  {
   "cell_type": "code",
   "execution_count": null,
   "metadata": {
    "collapsed": false
   },
   "outputs": [],
   "source": [
    "def three_powers(x):\n",
    "    return x**2, x**3, x**4\n",
    "\n",
    "y = three_powers(4)\n",
    "print('y is a tuple: %s'%(str(y)))"
   ]
  },
  {
   "cell_type": "markdown",
   "metadata": {},
   "source": [
    "Why do we have `str(y)` and not just `y` in the arguments to the string format there?\n",
    "\n",
    "If we want, we can 'unpack' the tuple into individual variables:"
   ]
  },
  {
   "cell_type": "code",
   "execution_count": null,
   "metadata": {
    "collapsed": false
   },
   "outputs": [],
   "source": [
    "alpha, beta, gamma = three_powers(4)\n",
    "print(alpha)\n",
    "print(beta)\n",
    "print(gamma)"
   ]
  },
  {
   "cell_type": "code",
   "execution_count": null,
   "metadata": {
    "collapsed": false
   },
   "outputs": [],
   "source": [
    "# So the tuple y is equivalent to y[0], y[1], y[2]. \n",
    "# Now it's clear why we needed to give `str(y)` to the print statement\n",
    "# when we only had one `%s`. The other way is:\n",
    "print('y is a tuple, the elements of which are: %s %s %s'%(y))"
   ]
  },
  {
   "cell_type": "code",
   "execution_count": null,
   "metadata": {
    "collapsed": false
   },
   "outputs": [],
   "source": [
    "# So this is also a tuple:\n",
    "1,2,3"
   ]
  },
  {
   "cell_type": "markdown",
   "metadata": {},
   "source": [
    "### 3.10.4 Loops"
   ]
  },
  {
   "cell_type": "markdown",
   "metadata": {},
   "source": [
    "Loops build on lists and tuples, both of which are examples of 'iterables' (classes that implement the special functions required for operating on each element of a sequence)."
   ]
  },
  {
   "cell_type": "code",
   "execution_count": null,
   "metadata": {
    "collapsed": false
   },
   "outputs": [],
   "source": [
    "for x in [1,2,3,4]:\n",
    "    print(x)"
   ]
  },
  {
   "cell_type": "code",
   "execution_count": null,
   "metadata": {
    "collapsed": false
   },
   "outputs": [],
   "source": [
    "x = 0\n",
    "i = 0\n",
    "while i < 10:\n",
    "    x = x + i\n",
    "    i = i + 1\n",
    "print(x)"
   ]
  },
  {
   "cell_type": "markdown",
   "metadata": {},
   "source": [
    "I almost never use `while` loops. The same idea as the while loop above is more often expressed like this:"
   ]
  },
  {
   "cell_type": "code",
   "execution_count": null,
   "metadata": {
    "collapsed": true
   },
   "outputs": [],
   "source": [
    "x = 0\n",
    "for i in range(0,10):\n",
    "    x = x+i\n",
    "print(x)"
   ]
  },
  {
   "cell_type": "markdown",
   "metadata": {},
   "source": [
    "`range` is a useful function that returns a list with length (and step size) determined by its arguments:"
   ]
  },
  {
   "cell_type": "code",
   "execution_count": null,
   "metadata": {
    "collapsed": false
   },
   "outputs": [],
   "source": [
    "range(0,20,2)"
   ]
  },
  {
   "cell_type": "markdown",
   "metadata": {},
   "source": [
    "The indented `for` loop above is the most general way to write loops in Python, but in simple cases they can be written in a more compact way using 'list comprehensions', which basically means a for-loop *inside* the syntax for creating a list, like this:"
   ]
  },
  {
   "cell_type": "code",
   "execution_count": null,
   "metadata": {
    "collapsed": false
   },
   "outputs": [],
   "source": [
    "[i**2 for i in range(0,10)]"
   ]
  },
  {
   "cell_type": "markdown",
   "metadata": {},
   "source": [
    "So the example above can be written"
   ]
  },
  {
   "cell_type": "code",
   "execution_count": null,
   "metadata": {
    "collapsed": false
   },
   "outputs": [],
   "source": [
    "x=0 ; print(sum([x+i for i in range(0,10)]))"
   ]
  },
  {
   "cell_type": "markdown",
   "metadata": {},
   "source": [
    "`sum` is obviously a function that takes a list as an argument and adds up all the entries. List comprehensions can be used to do sophisticated things."
   ]
  },
  {
   "cell_type": "markdown",
   "metadata": {},
   "source": [
    "For things like loops, it's a waste to have to store a huge list like this in memory, so more often you'll see `xrange`:"
   ]
  },
  {
   "cell_type": "code",
   "execution_count": null,
   "metadata": {
    "collapsed": false
   },
   "outputs": [],
   "source": [
    "xrange(0,20,2)"
   ]
  },
  {
   "cell_type": "markdown",
   "metadata": {},
   "source": [
    "`xrange` returns a so-called 'generator'. These have a function `__iter__` that returns an object that yields each term in the sequence on successive calls rather than computing all the terms immediately. If it runs out of items it throws an exception. "
   ]
  },
  {
   "cell_type": "code",
   "execution_count": null,
   "metadata": {
    "collapsed": false
   },
   "outputs": [],
   "source": [
    "my_sequence = xrange(0,12,2)\n",
    "v = my_sequence.__iter__()\n",
    "\n",
    "print(v.next())\n",
    "print(v.next())\n",
    "print(v.next())\n",
    "print(v.next())\n",
    "print(v.next())\n",
    "print(v.next())\n",
    "print(v.next())"
   ]
  },
  {
   "cell_type": "markdown",
   "metadata": {},
   "source": [
    "Generators are necessary for iterating over sequences of infinite or unknown length -- we'll see this again when we look at reading from files.\n",
    "\n",
    "Unless you're writing your own generators, you don't need to worry about how they work -- they work exactly like lists in controlling loops, which is where they appear most often. \n",
    "\n",
    "Just remember that `xrange` works like `range` and is better for loop counters because it doesn't take up memory."
   ]
  },
  {
   "cell_type": "markdown",
   "metadata": {},
   "source": [
    "To get out of a loop part way through, use `break`."
   ]
  },
  {
   "cell_type": "code",
   "execution_count": null,
   "metadata": {
    "collapsed": false
   },
   "outputs": [],
   "source": [
    "for i in xrange(0,10):\n",
    "    if i > 5: break\n",
    "    print(i)"
   ]
  },
  {
   "cell_type": "markdown",
   "metadata": {},
   "source": [
    "To go straight to the next iteration without breaking the loop, use `continue`."
   ]
  },
  {
   "cell_type": "code",
   "execution_count": null,
   "metadata": {
    "collapsed": false
   },
   "outputs": [],
   "source": [
    "for i in xrange(0,10):\n",
    "    print(i)\n",
    "    if i < 5 or i > 8:\n",
    "        continue\n",
    "    print('Keep going!')\n",
    "    "
   ]
  },
  {
   "cell_type": "markdown",
   "metadata": {},
   "source": [
    "So far we've been iterating over lists of numbers, but strings are also iterable, because they are collections of characters."
   ]
  },
  {
   "cell_type": "code",
   "execution_count": null,
   "metadata": {
    "collapsed": false,
    "scrolled": true
   },
   "outputs": [],
   "source": [
    "'abcdefg'[2:5]"
   ]
  },
  {
   "cell_type": "markdown",
   "metadata": {},
   "source": [
    "Very often you'll want to loop over something (call it `x`) and count the steps in the loop it at the same time (call the step numbers `i`). You could make a counter variable for `i` and explicitly add `+1` in each iteration of the loop, but Python has a function `enumerate` to make things slightly neater:"
   ]
  },
  {
   "cell_type": "code",
   "execution_count": null,
   "metadata": {
    "collapsed": false
   },
   "outputs": [],
   "source": [
    "for i,x in enumerate('carbon dioxide'):\n",
    "    print('%3d : %s'%(i,x))"
   ]
  },
  {
   "cell_type": "markdown",
   "metadata": {},
   "source": [
    "If you want to loop over two (or more) things at the same time, use `zip`(). For example, `enumerate` is equivalent to this:"
   ]
  },
  {
   "cell_type": "code",
   "execution_count": null,
   "metadata": {
    "collapsed": false
   },
   "outputs": [],
   "source": [
    "my_string = 'carbon dioxide'\n",
    "for i,x in zip(xrange(0,len(my_string)), my_string):\n",
    "    print('%3d : %s'%(i,x))"
   ]
  },
  {
   "cell_type": "markdown",
   "metadata": {},
   "source": [
    "What happens when the arguments to `zip` are have different lengths?"
   ]
  },
  {
   "cell_type": "markdown",
   "metadata": {},
   "source": [
    "Occasionally you want strings to be treated like scalar variables while still treating lists as lists. In this case the simplest thing to do is check the type explicitly. For example:"
   ]
  },
  {
   "cell_type": "code",
   "execution_count": null,
   "metadata": {
    "collapsed": false
   },
   "outputs": [],
   "source": [
    "# This is the obvious way to do it, but it doesn't work in all cases:\n",
    "def add_together_strings(s):\n",
    "    \"\"\"\n",
    "    Arguments:\n",
    "        s: a list of strings\n",
    "    \n",
    "    Returns:\n",
    "        A single string with 'and' between each element of s\n",
    "    \"\"\"\n",
    "    return '%s'%(' and '.join(s))\n",
    "\n",
    "print(add_together_strings(['carbon','nitrogen','oxygen']))\n",
    "print(add_together_strings('carbon')) # Doesn't work as we want!\n",
    "\n",
    "# Fix it:\n",
    "def add_together_strings(s):\n",
    "    \"\"\"\n",
    "    Arguments:\n",
    "        s: a list of strings\n",
    "    \n",
    "    Returns:\n",
    "        A single string with 'and' between each element of s\n",
    "    \"\"\"\n",
    "    if isinstance(s,str):\n",
    "        return s\n",
    "    else:\n",
    "        return '%s'%(' and '.join(s))\n",
    "\n",
    "print(add_together_strings('carbon'))\n",
    "print(add_together_strings(['carbon','nitrogen','oxygen']))\n",
    "            "
   ]
  },
  {
   "cell_type": "markdown",
   "metadata": {},
   "source": [
    "-----\n",
    "*Further reading:*\n",
    "\n",
    "- [StackOverflow question on iteration in Python](http://stackoverflow.com/questions/9884132/what-exactly-are-pythons-iterator-iterable-and-iteration-protocols)\n",
    "- [generator expressions](https://wiki.python.org/moin/Generators)\n",
    "- [how generators work and the yield keyword (more advanced stuff)](http://stackoverflow.com/questions/231767/what-does-the-yield-keyword-do)\n",
    "- the [iterools](https://pymotw.com/2/itertools/) standard library module\n",
    "-----"
   ]
  },
  {
   "cell_type": "markdown",
   "metadata": {},
   "source": [
    "## 3.11 Dictionaries (`dicts`)"
   ]
  },
  {
   "cell_type": "markdown",
   "metadata": {},
   "source": [
    "'dict' is short for 'dictionary'. These are *unordered* collections of labels ('keys') with associated data ('values'), which other languages often call 'hashes'. There are two basic ways to create them:"
   ]
  },
  {
   "cell_type": "code",
   "execution_count": null,
   "metadata": {
    "collapsed": false
   },
   "outputs": [],
   "source": [
    "# since dict() is a function, the arguments have to be written like this:\n",
    "morphologies = dict(ngc4849 = 'spiral', ngc550 = 'elliptical', ngc4994 = 'spiral', ngc2337 = 'irregular', ngc9999 = None)"
   ]
  },
  {
   "cell_type": "code",
   "execution_count": null,
   "metadata": {
    "collapsed": true
   },
   "outputs": [],
   "source": [
    "# The {} syntax is an alternative:\n",
    "morphologies = {'ngc4849': 'spiral', 'ngc550': 'elliptical', 'ngc4994' : 'spiral', 'ngc2337' : 'irregular', 'ngc9999' : None}"
   ]
  },
  {
   "cell_type": "code",
   "execution_count": null,
   "metadata": {
    "collapsed": true
   },
   "outputs": [],
   "source": [
    "# Long expressions on single lines like this can be hard to read. Here's how I usually write them:\n",
    "morphologies = {'ngc4849' : 'spiral',\n",
    "                'ngc550'  : 'elliptical', \n",
    "                'ngc4994' : 'spiral', \n",
    "                'ngc2337' : 'irregular', \n",
    "                'ngc9999' : None}"
   ]
  },
  {
   "cell_type": "markdown",
   "metadata": {},
   "source": [
    "Notice:\n",
    "\n",
    "- in the first (`dict()`) form, the keys have to be strings. In the {} form they don't, but they do have to satisfy some requirements, otherwise you will get an error about 'unhashable types'. The keys of dictionaries are usually strings.\n",
    "\n",
    "- the values can be any mix of types, functions, collections, classes, whatever you like. Nested `dict`s are very common. \n",
    "\n",
    "We can look up the value associated with a particular key like this:"
   ]
  },
  {
   "cell_type": "code",
   "execution_count": null,
   "metadata": {
    "collapsed": false
   },
   "outputs": [],
   "source": [
    "morphologies['ngc4505'] # get the value for a given key"
   ]
  },
  {
   "cell_type": "markdown",
   "metadata": {},
   "source": [
    "Both the keys and values can be returned as lists. Compare the order to the order in the expression that creates the dictionary above."
   ]
  },
  {
   "cell_type": "code",
   "execution_count": null,
   "metadata": {
    "collapsed": false
   },
   "outputs": [],
   "source": [
    "print(morphologies.keys())\n",
    "print(morphologies.values())"
   ]
  },
  {
   "cell_type": "markdown",
   "metadata": {},
   "source": [
    "The `iteritems()` method of a `dict` returns a generator that yields key-value pairs, saving you a `zip()`."
   ]
  },
  {
   "cell_type": "code",
   "execution_count": null,
   "metadata": {
    "collapsed": false
   },
   "outputs": [],
   "source": [
    "for k,v in morphologies.iteritems():\n",
    "    print(\"%s is %s\"%(k,v))"
   ]
  },
  {
   "cell_type": "markdown",
   "metadata": {},
   "source": [
    "I use `dict`s all the time. Being able to make a simple structure with named 'properties' using a `dict` is probablu one reason why it's not common to see simple classes written to represent 'quick and dirty' bundles of data  in Python, despite the 'object oriented' nature of the language. This is particularly true for the common case of returning structured results from functions. For example:"
   ]
  },
  {
   "cell_type": "code",
   "execution_count": null,
   "metadata": {
    "collapsed": false
   },
   "outputs": [],
   "source": [
    "def my_complicated_function(x):\n",
    "    \"\"\"\n",
    "    This function is obviously over-complicated for what it does.\n",
    "    \n",
    "    A realistic version might be, for example, reading \n",
    "    the header from a data file.\n",
    "    \"\"\"\n",
    "    results                  = dict()\n",
    "    results['powers']        = dict()\n",
    "    results['odd_multiples'] = dict()\n",
    "    \n",
    "    results['powers']['square'] = x**2\n",
    "    results['powers']['cube']   = x**3\n",
    "    \n",
    "    for m in xrange(1,12,2):\n",
    "        results['odd_multiples'][m] = x*m\n",
    "\n",
    "    return results\n",
    "\n",
    "answer_three = my_complicated_function(3)\n",
    "answer_four  = my_complicated_function(4)\n",
    "\n",
    "print(answer_three)\n",
    "print(answer_four)\n",
    "print(answer_four['powers']['cube'])"
   ]
  },
  {
   "cell_type": "markdown",
   "metadata": {},
   "source": [
    "The above is, in a lot of simple cases, just as good as or better than a similar idea implemented with classes:"
   ]
  },
  {
   "cell_type": "code",
   "execution_count": null,
   "metadata": {
    "collapsed": false
   },
   "outputs": [],
   "source": [
    "# This is the most generic class, we only give it a name.\n",
    "class MyComplicatedFunctionResults(object):\n",
    "    pass\n",
    "\n",
    "class Powers(object):\n",
    "    pass\n",
    "\n",
    "class OddMultiples(dict):\n",
    "    pass\n",
    "\n",
    "def my_complicated_function(x):\n",
    "    \"\"\"\n",
    "    \"\"\"\n",
    "    results               = MyComplicatedFunctionResults()\n",
    "    results.powers        = Powers()\n",
    "    results.powers.square = x**2\n",
    "    results.powers.cube   = x**3\n",
    "    \n",
    "    results.odd_multiples = OddMultiples()\n",
    "    for m in xrange(1,12,2):\n",
    "        results.odd_multiples[m] = x*m\n",
    "\n",
    "    return results\n",
    "\n",
    "answer_three = my_complicated_function(3)\n",
    "answer_four  = my_complicated_function(4)\n",
    "\n",
    "print(answer_three)\n",
    "print(answer_four)\n",
    "print(answer_four.powers.cube)"
   ]
  },
  {
   "cell_type": "markdown",
   "metadata": {},
   "source": [
    "Note the results of a simple print are less informative (we would need to write a [`__str__`](https://docs.python.org/2/reference/datamodel.html#object.__str__) function for the class) and the most natural way to express what's happening with `results.odd_multiples` is to use a dict anyway (here expressed by a class that inherits from `dict`, which is needlessly complicated).\n",
    "\n",
    "However, for lots of more complicated cases, creating classes with methods will be much more useful. The point is that `dict` can be used in a lot of cases where other languages would force you to write your own class (or use something like C's `struct`)."
   ]
  },
  {
   "cell_type": "markdown",
   "metadata": {},
   "source": [
    "It's good to know about some fundamental uses of dicts in Python. To start with, most objects have an internal dictionary called `__dict__`. You're not supposed to access this directly, but you can do if you want, and sometimes it's useful. The existence of easy access to the internal representation of objects like this is the basis (for example) of things like tab-completion in ipython."
   ]
  },
  {
   "cell_type": "code",
   "execution_count": null,
   "metadata": {
    "collapsed": false
   },
   "outputs": [],
   "source": [
    "class MyClass(object):\n",
    "    \"\"\"\n",
    "    The docstring of the class\n",
    "    \"\"\"\n",
    "    def __init__(self):\n",
    "        self.alpha = 1\n",
    "        self.beta  = 2\n",
    "    def summation(self):\n",
    "        \"\"\"\n",
    "        A docstring for the summation function\n",
    "        \"\"\"\n",
    "        return self.alpha + self.beta\n",
    "    \n",
    "x = MyClass()\n",
    "\n",
    "print(\"The object's dictionary:\") \n",
    "print(x.__dict__)\n",
    "print('')\n",
    "print(\"The class's dictionary:\")\n",
    "print(x.__class__.__dict__)\n",
    "print('')\n",
    "print(\"The class's docstring:\")\n",
    "print(x.__class__.__dict__['__doc__'])"
   ]
  },
  {
   "cell_type": "markdown",
   "metadata": {},
   "source": [
    "Further reading:\n",
    "    - The internal dictionary __dict__\n",
    "    - collections.OrderedDict\n",
    "    - the other items in the collections standard library module\n",
    "    - the struct module\n",
    "    - named tuples"
   ]
  },
  {
   "cell_type": "markdown",
   "metadata": {},
   "source": [
    "# 4. Program structure"
   ]
  },
  {
   "cell_type": "markdown",
   "metadata": {},
   "source": [
    "The above is a summary of the basic elements of a Python program. Now we'll look at the structure of complete programs."
   ]
  },
  {
   "cell_type": "code",
   "execution_count": null,
   "metadata": {
    "collapsed": false
   },
   "outputs": [],
   "source": [
    "# Import modules\n",
    "import sys\n",
    "import math\n",
    "\n",
    "# Import specific functions from moduels\n",
    "from __future__ import division\n",
    "from os import getcwd\n",
    "\n",
    "# Define some 'global' variables\n",
    "Y = 10.0\n",
    "Z = 'The Letter Z'\n",
    "\n",
    "def complicated_function(x,*args,**kwargs):\n",
    "    \"\"\"\n",
    "    This docstring should explain the function, \n",
    "    but I'm too lazy to write it.\n",
    "    \"\"\"\n",
    "    Z = 100.0\n",
    "    r = math.log(x*Y/Z)\n",
    "    return r"
   ]
  },
  {
   "cell_type": "markdown",
   "metadata": {},
   "source": [
    "## 4.1 Modules, packages and namespaces"
   ]
  },
  {
   "cell_type": "markdown",
   "metadata": {},
   "source": [
    "Modules are sets of variables, classes and functions that can be included in other Python scripts with the `import` statement. Packages are collections of related modules. We've already seen several examples, like `os`, `sys` and `math`, which are part of the Python standard library."
   ]
  },
  {
   "cell_type": "markdown",
   "metadata": {},
   "source": [
    "Modules define a **namespace**, so you can use the name of the module followed by a `.` to distinguish functions and variables defined in the scope of the module from variables (possibly with the same name) defined in other scopes. For example:"
   ]
  },
  {
   "cell_type": "code",
   "execution_count": 29,
   "metadata": {
    "collapsed": false
   },
   "outputs": [
    {
     "name": "stdout",
     "output_type": "stream",
     "text": [
      "In the local namespace, pi=3.000000\n",
      "In the math module namespace, pi=3.141593\n",
      "pi == math.pi? False\n"
     ]
    }
   ],
   "source": [
    "pi = 3.0\n",
    "\n",
    "import math\n",
    "print('In the local namespace, pi=%f'%(pi))\n",
    "print('In the math module namespace, pi=%f'%(math.pi))\n",
    "print('pi == math.pi? %s'%(pi==math.pi))"
   ]
  },
  {
   "cell_type": "markdown",
   "metadata": {},
   "source": [
    "You can choose to import specific items from a module into the local namespace using `from x import y`:"
   ]
  },
  {
   "cell_type": "code",
   "execution_count": null,
   "metadata": {
    "collapsed": false
   },
   "outputs": [],
   "source": [
    "from math import log10\n",
    "log10 == math.log10\n",
    "log10(2.0)"
   ]
  },
  {
   "cell_type": "markdown",
   "metadata": {},
   "source": [
    "This has a small speed advantage (it imports faster, especially if the module is huge, and executes very slightly faster)."
   ]
  },
  {
   "cell_type": "markdown",
   "metadata": {},
   "source": [
    "You can also rename modules and things you import from modules. This is useful if the module has a long name, or you want to remember which module a particular function comes from or avoid conflicts."
   ]
  },
  {
   "cell_type": "code",
   "execution_count": 31,
   "metadata": {
    "collapsed": false
   },
   "outputs": [
    {
     "name": "stdout",
     "output_type": "stream",
     "text": [
      "S.Q.R.T.: 2\n",
      "1.41421356237\n"
     ]
    }
   ],
   "source": [
    "import math as m\n",
    "m.log10(2)\n",
    "\n",
    "sqrt = lambda x: 'S.Q.R.T.: %s'%(x)\n",
    "\n",
    "from math import sqrt as math_sqrt\n",
    "\n",
    "print(sqrt(2))\n",
    "print(math_sqrt(2))\n"
   ]
  },
  {
   "cell_type": "markdown",
   "metadata": {},
   "source": [
    "You *can* also do this, but usually **you should not do this**:"
   ]
  },
  {
   "cell_type": "code",
   "execution_count": 32,
   "metadata": {
    "collapsed": false
   },
   "outputs": [
    {
     "data": {
      "text/plain": [
       "1.4142135623730951"
      ]
     },
     "execution_count": 32,
     "metadata": {},
     "output_type": "execute_result"
    }
   ],
   "source": [
    "from math import *  # Imports _everything_ from the math module into the local namespace.\n",
    "sqrt(2)"
   ]
  },
  {
   "cell_type": "markdown",
   "metadata": {},
   "source": [
    "Making effective use of namespaces is one reason to avoid using `from module_x import *` (unless you have a very good reason). It makes it much easier to see where functions are coming from, and it avoid accidentally re-assigning (or unknowingly defining) local variables with whatever happens to be in the module you're importing. "
   ]
  },
  {
   "cell_type": "code",
   "execution_count": null,
   "metadata": {
    "collapsed": false
   },
   "outputs": [],
   "source": [
    "pi = 3.0\n",
    "\n",
    "from math import *\n",
    "print('In the local namespace, pi=%f'%(pi))\n",
    "print('In the math module namespace, pi=%f'%(math.pi))\n",
    "print('pi == math.pi? %s'%(pi==math.pi))\n"
   ]
  },
  {
   "cell_type": "markdown",
   "metadata": {},
   "source": [
    "Packages can organize related modules. For example, the `os` package has the module `path`:"
   ]
  },
  {
   "cell_type": "code",
   "execution_count": null,
   "metadata": {
    "collapsed": false
   },
   "outputs": [],
   "source": [
    "import os\n",
    "print(os.path.join('hello','world'))\n",
    "\n",
    "import os.path as op\n",
    "print(op.join('hello','world'))"
   ]
  },
  {
   "cell_type": "markdown",
   "metadata": {},
   "source": [
    "To make a package, you just need to put a `.py` file with some code in it (the module) in a directory with the name you want for the package, and **write an empty file called `__init__.py` in that directory**."
   ]
  },
  {
   "cell_type": "code",
   "execution_count": null,
   "metadata": {
    "collapsed": false
   },
   "outputs": [],
   "source": [
    "# Write the module using the shell\n",
    "!mkdir mymodule\n",
    "!rm mymodule/*.py*\n",
    "!echo\n",
    "!echo 'def myfunc():\\n    print(\"This is a function in my module!\")' >> mymodule/myroutines.py\n",
    "!cat mymodule/myroutines.py\n",
    "!touch mymodule/__init__.py\n",
    "!echo\n",
    "!tree ./mymodule\n",
    "!echo\n",
    "\n",
    "# Now some python:\n",
    "import mymodule.myroutines as my\n",
    "my.myfunc()"
   ]
  },
  {
   "cell_type": "markdown",
   "metadata": {},
   "source": [
    "You can read about what the `__init__.py` file does, and more about how to make packages [here](https://docs.python.org/3/tutorial/modules.html#packages)."
   ]
  },
  {
   "cell_type": "markdown",
   "metadata": {},
   "source": [
    "Python has a list of directories that it searches (in order) for modules when you `import something`. This list is stored as `sys.path`:"
   ]
  },
  {
   "cell_type": "code",
   "execution_count": null,
   "metadata": {
    "collapsed": false
   },
   "outputs": [],
   "source": [
    "sys.path"
   ]
  },
  {
   "cell_type": "markdown",
   "metadata": {},
   "source": [
    "It's not always easy to work out where all these entries come from, but that doesn't matter. What matters is being able to tell python where to find packages that you have installed (which are usually grouped in a small number of places) and packages/scripts you have written yourself (which could be anywhere)."
   ]
  },
  {
   "cell_type": "markdown",
   "metadata": {
    "collapsed": false
   },
   "source": [
    "The environment variable `PYTHONPATH` works in the same way as the shell's `PATH`, but for python files. Like path, it's supposed to be set by the user, so by default it's empty. Any directory in `PYTHONPATH` (entries are separated by '`;`') will end up in `sys.path`, with higher priority than all the Python default search paths.\n",
    "\n",
    "To make good use of this, it's a good idea to keep your own modules (i.e. code that you want to include in other projects with `import`) under a directory like `~/projects/code/python`. For example, you might have two modules like  `~/projects/code/python/plot_tools` and `~/projects/code/python/astro_routines`. If you set `PYTHONPATH` (for example, in `~/.profile`) with something like\n",
    "```bash\n",
    "export PYTHONPATH=~/projects/code/python\n",
    "```"
   ]
  },
  {
   "cell_type": "markdown",
   "metadata": {},
   "source": [
    "then you will be able to\n",
    "```python\n",
    "import plot_tools\n",
    "import astro_routines\n",
    "```"
   ]
  },
  {
   "cell_type": "markdown",
   "metadata": {},
   "source": [
    "in any Python script (provided those directories are marked as Python modules by including an `__init__.py` file).\n",
    "\n",
    "Tools like `pip` and `conda` have their own way of getting the places where they install files into `sys.path`.\n",
    "\n",
    "The current working directory is always the first place python will look, even if it's not on `sys.path`.\n",
    "\n",
    "`sys.path` is a list that is made when your script runs, so if all else fails (or you just want a quick hack) you can modify it directly."
   ]
  },
  {
   "cell_type": "code",
   "execution_count": null,
   "metadata": {
    "collapsed": false
   },
   "outputs": [],
   "source": [
    "sys.path.append('/my/custom/path')\n",
    "sys.path"
   ]
  },
  {
   "cell_type": "markdown",
   "metadata": {},
   "source": [
    "## 4.2 Scope"
   ]
  },
  {
   "cell_type": "markdown",
   "metadata": {},
   "source": [
    "The value associated with a variable name at any specific point in the code depends on where that name was last defined -- in jargon, it depends on the scope. The 'main' (outer) block of each module/script defines a scope for that module, and any functions and classes define a new scope."
   ]
  },
  {
   "cell_type": "code",
   "execution_count": null,
   "metadata": {
    "collapsed": false
   },
   "outputs": [],
   "source": [
    "y = 1\n",
    "x = 10 # This 'x' ...\n",
    "def a_function(z):\n",
    "    x = 1000  # ...is in a different scope to this x \n",
    "    return z + x\n",
    "print(x)"
   ]
  },
  {
   "cell_type": "markdown",
   "metadata": {},
   "source": [
    "The most confusing cases occur within class definitions, lambdas and nested functions, otherwise it's straightforward. There is a discussion of the general rules of Python scope in [this StackOverflow post](http://stackoverflow.com/questions/291978/short-description-of-scoping-rules). The reason to know about this is that there are some traps:"
   ]
  },
  {
   "cell_type": "code",
   "execution_count": null,
   "metadata": {
    "collapsed": false
   },
   "outputs": [],
   "source": [
    "# Before you run this, think about what you expect it to print\n",
    "x = 100\n",
    "y = 0\n",
    "for x in range(0,10):\n",
    "    y = y + x\n",
    "print(y)\n",
    "print(x)"
   ]
  },
  {
   "cell_type": "markdown",
   "metadata": {},
   "source": [
    "Watch out for this. The result will be different in Python 3, where loop variables also define a separate scope.\n",
    "\n",
    "If a variable is used that isn't defined in the current scope, Python will look for it in a higher-level scope:"
   ]
  },
  {
   "cell_type": "code",
   "execution_count": null,
   "metadata": {
    "collapsed": false
   },
   "outputs": [],
   "source": [
    "x = 10\n",
    "def a_function(z):\n",
    "    return z+x\n",
    "print(a_function(10))\n",
    "print(x)"
   ]
  },
  {
   "cell_type": "code",
   "execution_count": null,
   "metadata": {
    "collapsed": false
   },
   "outputs": [],
   "source": [
    "x = list()\n",
    "def a_new_function(z):\n",
    "    return x.append(z)\n",
    "\n",
    "a_new_function(10)\n",
    "print(x)\n",
    "a_new_function(20)\n",
    "print(x)\n",
    "a_new_function(30)\n",
    "print(x)"
   ]
  },
  {
   "cell_type": "markdown",
   "metadata": {},
   "source": [
    "You can explicitly force variables to be global like this:"
   ]
  },
  {
   "cell_type": "code",
   "execution_count": null,
   "metadata": {
    "collapsed": false
   },
   "outputs": [],
   "source": [
    "x = 10\n",
    "def a_function(z):\n",
    "    global x\n",
    "    return z+x\n",
    "\n",
    "print(a_function(100))\n",
    "print(x)\n",
    "    "
   ]
  },
  {
   "cell_type": "markdown",
   "metadata": {},
   "source": [
    "What happens if you change the function argument from `z` to `x` in the `def` statement in the example above?"
   ]
  },
  {
   "cell_type": "markdown",
   "metadata": {},
   "source": [
    "`import` statements can go anywhere in python files, but they're usually grouped together at the top. The scope of names of imported modules/functions/variable names depends on where the import statement appears."
   ]
  },
  {
   "cell_type": "code",
   "execution_count": null,
   "metadata": {
    "collapsed": false
   },
   "outputs": [],
   "source": [
    "import math as m\n",
    "\n",
    "def matrix_loop():\n",
    "    for n in xrange(0,5):\n",
    "        for m in xrange(0,5):\n",
    "            print('%2d'%(m)),\n",
    "        print('')\n",
    "    print('Inside matrix_loop, m is: %s'%(type(m)))\n",
    "    return\n",
    "\n",
    "matrix_loop()\n",
    "print('In the toplevel scope, m is: %s'%(type(m)))\n"
   ]
  },
  {
   "cell_type": "markdown",
   "metadata": {},
   "source": [
    "## 4.3 `globals()` and `locals()`"
   ]
  },
  {
   "cell_type": "markdown",
   "metadata": {},
   "source": [
    "These a builtin functions that are occassionaly useful. They return dictionaries, the keys of which are all the varaibles defined in the global (top level) and local scope, respectively."
   ]
  },
  {
   "cell_type": "code",
   "execution_count": null,
   "metadata": {
    "collapsed": false
   },
   "outputs": [],
   "source": [
    "x = 5 \n",
    "print(globals()['x'])\n",
    "print(locals()['x'])\n",
    "\n",
    "def a_function(x):\n",
    "    print('Inside a_function: %d and %d'%(globals()['x'],locals()['x']))\n",
    "    \n",
    "a_function(42)\n",
    "print(globals()['x'])\n",
    "print(locals()['x'])"
   ]
  },
  {
   "cell_type": "markdown",
   "metadata": {},
   "source": [
    "Sometimes I've used this as a way to call particular functions chosen at runtime -- for example, depending on some input from the user, or a command line parameter. You could do the same thing with `if` statements, as long as you know the name of each function when you write the program..."
   ]
  },
  {
   "cell_type": "code",
   "execution_count": 33,
   "metadata": {
    "collapsed": false
   },
   "outputs": [
    {
     "name": "stdout",
     "output_type": "stream",
     "text": [
      "Function A!\n",
      "Function B!\n",
      "Function C!\n",
      "No such function: d\n",
      "No such function: e\n"
     ]
    }
   ],
   "source": [
    "def function_a(): print('Function A!')\n",
    "def function_b(): print('Function B!')\n",
    "def function_c(): print('Function C!')\n",
    "    \n",
    "def pick_a_function(letter):\n",
    "    function = 'function_%s'%(letter.lower())\n",
    "    if function in globals():\n",
    "        globals()[function]() # Note the brackets here\n",
    "    else:\n",
    "        print('No such function: %s'%(letter))\n",
    "\n",
    "for x in 'abcde':\n",
    "    pick_a_function(x)"
   ]
  },
  {
   "cell_type": "markdown",
   "metadata": {},
   "source": [
    "## 4.4 Memory, copies and references to variables"
   ]
  },
  {
   "cell_type": "markdown",
   "metadata": {},
   "source": [
    "In languages like C, you have to know where every bit of data actually 'lives' in memory. In those languages there is a very clear difference between the **value** of a variable and a **reference** (or pointer) to the location in memory where that value is stored. That difference is mostly hidden from you in Python. This is only really important when working with big arrays of data (this will be covered next week), but it might help to know some basics in standard Python first.\n",
    "\n",
    "The `id()` built-in function gives you a number that refers to the location in memory associated with a Python variable (it's just an arbitrary number, not a memory address or anything like that)."
   ]
  },
  {
   "cell_type": "code",
   "execution_count": 34,
   "metadata": {
    "collapsed": false
   },
   "outputs": [
    {
     "name": "stdout",
     "output_type": "stream",
     "text": [
      "(1, 1)\n",
      "ID of a: 4299172024\n",
      "ID of b: 4299172024\n"
     ]
    }
   ],
   "source": [
    "a = 1\n",
    "b = 1\n",
    "print(a,b)\n",
    "print('ID of a: %d'%id(a))\n",
    "print('ID of b: %d'%id(b))"
   ]
  },
  {
   "cell_type": "code",
   "execution_count": 35,
   "metadata": {
    "collapsed": false
   },
   "outputs": [
    {
     "name": "stdout",
     "output_type": "stream",
     "text": [
      "(1, 2)\n",
      "ID of a: 4299172024\n",
      "ID of b: 4299172000\n"
     ]
    }
   ],
   "source": [
    "b = b + 1\n",
    "print(a,b)\n",
    "print('ID of a: %d'%id(a))\n",
    "print('ID of b: %d'%id(b))"
   ]
  },
  {
   "cell_type": "markdown",
   "metadata": {},
   "source": [
    "The distinction between references and copies is most relevant to lists and similar objects. The following is the most important thing to remember about all this:"
   ]
  },
  {
   "cell_type": "code",
   "execution_count": 36,
   "metadata": {
    "collapsed": false
   },
   "outputs": [
    {
     "name": "stdout",
     "output_type": "stream",
     "text": [
      "[1, 2, 'Something else!', 4]\n",
      "[1, 2, 'Something else!', 4]\n"
     ]
    }
   ],
   "source": [
    "a = [1,2,3,4]\n",
    "b = a\n",
    "b[2] = 'Something else!'\n",
    "print(a)\n",
    "print(b)"
   ]
  },
  {
   "cell_type": "markdown",
   "metadata": {},
   "source": [
    "In some cases, including `list`s it's possible (but in principle a waste of time and memory) to make a copy by creating a new object initialized with the values of the old one:"
   ]
  },
  {
   "cell_type": "code",
   "execution_count": null,
   "metadata": {
    "collapsed": false
   },
   "outputs": [],
   "source": [
    "a = [1,2,3,4]\n",
    "b = list(a)\n",
    "b[2] = 'Something else!'\n",
    "print(a)\n",
    "print(b)"
   ]
  },
  {
   "cell_type": "markdown",
   "metadata": {},
   "source": [
    "The most generally safe way to copy values, rather than assign multiple references to the same thing, is using the `copy` function in the `copy` standard library module."
   ]
  },
  {
   "cell_type": "code",
   "execution_count": null,
   "metadata": {
    "collapsed": false
   },
   "outputs": [],
   "source": [
    "import copy\n",
    "a = [1,2,3,4]\n",
    "b = copy.copy(a)\n",
    "b[2] = 'Something else!'\n",
    "print(a)\n",
    "print(b)"
   ]
  },
  {
   "cell_type": "markdown",
   "metadata": {},
   "source": [
    "In C or Fortran, you also have to specifically create and delete (allocate and deallocated) blocks in memory to store the variables you want. In Python, this is managed invisibly in the background by part of the interpreter called the 'garbage collector' (GC). This keeps track of all the allocated memory and periodically frees any that it's sure is not going to be used again. More-or-less, it checks that the are no references to the variable in scope (i.e. the memory used by the variables defined inside a function is available to be freed once the function has returned).\n",
    "\n",
    "You almost never need to care about the GC, although there are ways to interact with it. The only one you're likely to see is the built-in function `del()`, which explicitly deletes any references to the variable (i.e. marks it as out of scope after that point, rather than, say, at the end of the block of code that defines the variable.\n",
    "\n",
    "This has the effect of helping the GC to clear up the memory associated with the deleted variable **as soon as possible**, rather than at some unspecified time in the future. `del` doesn't actually free any the memory itself. If there are multiple references to the same bit of memory, `del`'ing only one of them will have no effect.\n",
    "\n",
    "This is sometimes a useful optimization when you're doing something that takes a huge chunk of memory on a machine that doesn't have much. For example, loading huge images in three different bands and processing each one in sequence in the same block of code. There is no point using `del` except for such cases, because the GC is usually very reliable enough in keeping the memory usage of your code down."
   ]
  },
  {
   "cell_type": "code",
   "execution_count": null,
   "metadata": {
    "collapsed": true
   },
   "outputs": [],
   "source": [
    "x = range(0,20)\n",
    "print('x is:',x)\n",
    "del(x)\n",
    "print('y is:', y)\n",
    "print('x is:', y,x)"
   ]
  },
  {
   "cell_type": "code",
   "execution_count": null,
   "metadata": {
    "collapsed": false
   },
   "outputs": [],
   "source": [
    "x = range(0,20)\n",
    "y = x # y and x now refer to the same value\n",
    "print(\"\"\"I can be sure y and x refer to the same thing, \n",
    "because their Python object ids are the same: \n",
    "%d and %d.\n",
    "\"\"\"%(id(y),id(x)))\n",
    "\n",
    "del(x)\n",
    "print(\"y is still defined after x is deleted:\")\n",
    "print(y) # y is still there, so the memory is not going to be freed yet"
   ]
  },
  {
   "cell_type": "markdown",
   "metadata": {},
   "source": [
    "Note that `del(x)` and `x = None` are not the same thing. Setting a variable to `None` is not the same as deleting it."
   ]
  },
  {
   "cell_type": "code",
   "execution_count": null,
   "metadata": {
    "collapsed": false
   },
   "outputs": [],
   "source": [
    "x = None\n",
    "id(x)"
   ]
  },
  {
   "cell_type": "markdown",
   "metadata": {},
   "source": [
    "----\n",
    "*Further reading:*\n",
    "    - the gc module and gc.collect() function"
   ]
  },
  {
   "cell_type": "markdown",
   "metadata": {},
   "source": [
    "# 5. Getting things done with Python"
   ]
  },
  {
   "cell_type": "markdown",
   "metadata": {},
   "source": [
    "## 5.1 Exceptions and debugging"
   ]
  },
  {
   "cell_type": "markdown",
   "metadata": {},
   "source": [
    "Above we saw errors result in things like this:"
   ]
  },
  {
   "cell_type": "code",
   "execution_count": 37,
   "metadata": {
    "collapsed": false
   },
   "outputs": [
    {
     "ename": "ZeroDivisionError",
     "evalue": "integer division or modulo by zero",
     "output_type": "error",
     "traceback": [
      "\u001b[0;31m---------------------------------------------------------------------------\u001b[0m",
      "\u001b[0;31mZeroDivisionError\u001b[0m                         Traceback (most recent call last)",
      "\u001b[0;32m<ipython-input-37-0f9f90da76dc>\u001b[0m in \u001b[0;36m<module>\u001b[0;34m()\u001b[0m\n\u001b[0;32m----> 1\u001b[0;31m \u001b[0;32mprint\u001b[0m\u001b[0;34m(\u001b[0m\u001b[0;36m1\u001b[0m\u001b[0;34m/\u001b[0m\u001b[0;36m0\u001b[0m\u001b[0;34m)\u001b[0m\u001b[0;34m\u001b[0m\u001b[0m\n\u001b[0m",
      "\u001b[0;31mZeroDivisionError\u001b[0m: integer division or modulo by zero"
     ]
    }
   ],
   "source": [
    "print(1/0)"
   ]
  },
  {
   "cell_type": "markdown",
   "metadata": {},
   "source": [
    "This `ZeroDivisionError` is an example of an `Exception`. Rather than crashing the program, exceptions can be 'trapped' and handled as a special case using a `try...except` block. You probably won't need to do this very often unless you're writing code that will be published and used by others, but it's worth knowing that it exists. "
   ]
  },
  {
   "cell_type": "code",
   "execution_count": null,
   "metadata": {
    "collapsed": false
   },
   "outputs": [],
   "source": [
    "x = 1\n",
    "y = 0\n",
    "\n",
    "try:\n",
    "    answer = x/y\n",
    "except ZeroDivisionError as e:\n",
    "    print('Python complained about %s, but keep going...'%(e.args[0]))\n",
    "    answer = 0.0\n",
    "    \n",
    "print(answer)"
   ]
  },
  {
   "cell_type": "markdown",
   "metadata": {},
   "source": [
    "This is useful when working with files and connections to databases, which we'll look in subsequent weeks."
   ]
  },
  {
   "cell_type": "markdown",
   "metadata": {},
   "source": [
    "IPython has a built-in debugger. After an exception is triggered, you can type %debug at the next prompt (don't do anything else in between!) and you will be taken to a command prompt called `ipdb`. This is more limited than the regular ipython prompt, but it has some special, one letter commands that allow you to inspect the state of the whole program frozen at the point of failure. \n",
    "\n",
    "If you've never used an interactive debugger before, the learning curve for `ipdb` will be steep, but the investment will be worth it, especially if you write a lot of Python code. Many people figure out why programs crash by writing hundreds of print statements everywhere -- the debugger is usually a much more efficient way. "
   ]
  },
  {
   "cell_type": "markdown",
   "metadata": {},
   "source": [
    "If you want to try the debugger now, execute this series of commands in a separate IPython session, then type %debug when the exception occurs.\n",
    "\n",
    "```python\n",
    "for i,x in enumerate(xrange(10.0,0,-1)):\n",
    "    y = 1/(x-2)\n",
    "```"
   ]
  },
  {
   "cell_type": "markdown",
   "metadata": {},
   "source": [
    "- Type `print i` to see the value of `i`\n",
    "- Type 'help pdb' to get help using the debugger.\n",
    "- Type 'q' or 'exit' to get out of the debugger."
   ]
  },
  {
   "cell_type": "markdown",
   "metadata": {},
   "source": [
    "----\n",
    "*Further reading:*\n",
    "- the `finally` statement\n",
    "- the `assert` statement"
   ]
  },
  {
   "cell_type": "markdown",
   "metadata": {},
   "source": [
    "## 5.2 File input and output"
   ]
  },
  {
   "cell_type": "markdown",
   "metadata": {},
   "source": [
    "Writing simple text files in Python is easy:"
   ]
  },
  {
   "cell_type": "code",
   "execution_count": null,
   "metadata": {
    "collapsed": true
   },
   "outputs": [],
   "source": [
    "f = open('myfile.txt','w') # To write to a file; f is the 'handle' of the open file\n",
    "f.write('Line 1\\n') # Note the explcit newline \\n\n",
    "f.write('Line 2\\n')\n",
    "f.write('Line 3\\n')\n",
    "f.close() # close the file"
   ]
  },
  {
   "cell_type": "code",
   "execution_count": null,
   "metadata": {
    "collapsed": false
   },
   "outputs": [],
   "source": [
    "!cat myfile.txt"
   ]
  },
  {
   "cell_type": "markdown",
   "metadata": {},
   "source": [
    "The '`w`' above is the 'mode' used to access the file. To read a file, use the 'r' mode:"
   ]
  },
  {
   "cell_type": "code",
   "execution_count": null,
   "metadata": {
    "collapsed": false
   },
   "outputs": [],
   "source": [
    "f = open('myfile.txt','r') # To read from a file\n",
    "for line in f.readlines():\n",
    "    print(line)\n",
    "f.close()"
   ]
  },
  {
   "cell_type": "markdown",
   "metadata": {},
   "source": [
    "Why are there now gaps between each line?"
   ]
  },
  {
   "cell_type": "code",
   "execution_count": null,
   "metadata": {
    "collapsed": false
   },
   "outputs": [],
   "source": [
    "f = open('myfile.txt','r')\n",
    "for line in f.readlines():\n",
    "    print(line.strip())\n",
    "f.close()"
   ]
  },
  {
   "cell_type": "markdown",
   "metadata": {},
   "source": [
    "The `with` syntax is alternative way to access files, that doesn't need the explicit 'close' statement. This has more uses than just accessing files, but that's the most common."
   ]
  },
  {
   "cell_type": "code",
   "execution_count": 38,
   "metadata": {
    "collapsed": false
   },
   "outputs": [
    {
     "ename": "IOError",
     "evalue": "[Errno 2] No such file or directory: 'myfile.txt'",
     "output_type": "error",
     "traceback": [
      "\u001b[0;31m---------------------------------------------------------------------------\u001b[0m",
      "\u001b[0;31mIOError\u001b[0m                                   Traceback (most recent call last)",
      "\u001b[0;32m<ipython-input-38-34094f9b2264>\u001b[0m in \u001b[0;36m<module>\u001b[0;34m()\u001b[0m\n\u001b[0;32m----> 1\u001b[0;31m \u001b[0;32mwith\u001b[0m \u001b[0mopen\u001b[0m\u001b[0;34m(\u001b[0m\u001b[0;34m'myfile.txt'\u001b[0m\u001b[0;34m,\u001b[0m\u001b[0;34m'r'\u001b[0m\u001b[0;34m)\u001b[0m \u001b[0;32mas\u001b[0m \u001b[0mf\u001b[0m\u001b[0;34m:\u001b[0m\u001b[0;34m\u001b[0m\u001b[0m\n\u001b[0m\u001b[1;32m      2\u001b[0m     \u001b[0;32mfor\u001b[0m \u001b[0mline\u001b[0m \u001b[0;32min\u001b[0m \u001b[0mf\u001b[0m\u001b[0;34m.\u001b[0m\u001b[0mreadlines\u001b[0m\u001b[0;34m(\u001b[0m\u001b[0;34m)\u001b[0m\u001b[0;34m:\u001b[0m\u001b[0;34m\u001b[0m\u001b[0m\n\u001b[1;32m      3\u001b[0m         \u001b[0;32mprint\u001b[0m\u001b[0;34m(\u001b[0m\u001b[0mline\u001b[0m\u001b[0;34m.\u001b[0m\u001b[0mstrip\u001b[0m\u001b[0;34m(\u001b[0m\u001b[0;34m)\u001b[0m\u001b[0;34m)\u001b[0m\u001b[0;34m\u001b[0m\u001b[0m\n",
      "\u001b[0;31mIOError\u001b[0m: [Errno 2] No such file or directory: 'myfile.txt'"
     ]
    }
   ],
   "source": [
    "with open('myfile.txt','r') as f:\n",
    "    for line in f.readlines():\n",
    "        print(line.strip())"
   ]
  },
  {
   "cell_type": "markdown",
   "metadata": {},
   "source": [
    "How is `file.read()` different from `file.readline()`?"
   ]
  },
  {
   "cell_type": "markdown",
   "metadata": {},
   "source": [
    "The `str.split()` function is the simplest way to chop up lines of ascii when reading tables."
   ]
  },
  {
   "cell_type": "code",
   "execution_count": null,
   "metadata": {
    "collapsed": false
   },
   "outputs": [],
   "source": [
    "data  = list()\n",
    "with open('myfile.txt','r') as f:\n",
    "    for line in f.readlines():\n",
    "        data.append(float(line.split()[1]))\n",
    "\n",
    "data"
   ]
  },
  {
   "cell_type": "markdown",
   "metadata": {},
   "source": [
    "If you had a large complicated table, trying to read it this way would get very messy. There is a better way (`numpy.loadtxt`) which we'll look at below."
   ]
  },
  {
   "cell_type": "markdown",
   "metadata": {},
   "source": [
    "The above deals with ascii text files. This is fine for small amounts of human-readable data. You can also use the same method to store binary data, but that's too complicated to cover here.\n",
    "\n",
    "The `pickle` module provides an easier way of 'saving' almost any python object in a binary format that python itself can read back in. Operations using `pickle` still require you to handle the opening and closing of the file."
   ]
  },
  {
   "cell_type": "code",
   "execution_count": null,
   "metadata": {
    "collapsed": false
   },
   "outputs": [],
   "source": [
    "my_list = [1, 'alpha', 2, 'beta', ['and','a','nested','list']]\n",
    "\n",
    "import pickle\n",
    "\n",
    "# Save the list\n",
    "with open('my_pickled_list.pkl','w') as f:\n",
    "    pickle.dump(my_list,f)\n",
    "    \n",
    "# Load the list\n",
    "with open('my_pickled_list.pkl','r') as f:\n",
    "    a_new_list = pickle.load(f)\n",
    "\n",
    "a_new_list"
   ]
  },
  {
   "cell_type": "markdown",
   "metadata": {},
   "source": [
    "`cPickle` is a much faster version of `pickle` for very large objects, but it has more limitations on what it can save. Don't expect that data saved with `pickle` or `cPickle` can be read on another machine or with a different version of python -- this may or may not be the case. This is mainly intended for short-term storage."
   ]
  },
  {
   "cell_type": "markdown",
   "metadata": {},
   "source": [
    "In later sessions we'll look at reading and writing two common file formats for scientific data, FITS and HDF5. We'll also look at how to read 'fortran formatted' binary files."
   ]
  },
  {
   "cell_type": "markdown",
   "metadata": {},
   "source": [
    "Numpy arrays can be saved with `numpy.savez` and `numpy.load`. Also `numpy` has routines for reading in ascii data tables. We'll look at this below."
   ]
  },
  {
   "cell_type": "markdown",
   "metadata": {},
   "source": [
    "----\n",
    "*Further reading:*\n",
    "\n",
    "These are all packages that can be used to write structured text files, like parameter files.\n",
    "\n",
    "- [configparser](https://pymotw.com/2/ConfigParser/)\n",
    "- [json](https://docs.python.org/2/library/json.html)\n",
    "- [yaml](https://en.wikipedia.org/wiki/YAML)"
   ]
  },
  {
   "cell_type": "markdown",
   "metadata": {},
   "source": [
    "## 5.3 Working with the filesystem"
   ]
  },
  {
   "cell_type": "code",
   "execution_count": 39,
   "metadata": {
    "collapsed": false
   },
   "outputs": [
    {
     "data": {
      "text/plain": [
       "'/Users/andrew/python/tutorial2016/python-durham2017/git'"
      ]
     },
     "execution_count": 39,
     "metadata": {},
     "output_type": "execute_result"
    }
   ],
   "source": [
    "import os\n",
    "os.getcwd()"
   ]
  },
  {
   "cell_type": "code",
   "execution_count": 40,
   "metadata": {
    "collapsed": false
   },
   "outputs": [
    {
     "data": {
      "text/plain": [
       "'/Users/andrew/python/tutorial2016'"
      ]
     },
     "execution_count": 40,
     "metadata": {},
     "output_type": "execute_result"
    }
   ],
   "source": [
    "os.path.abspath('../../')"
   ]
  },
  {
   "cell_type": "code",
   "execution_count": 41,
   "metadata": {
    "collapsed": false
   },
   "outputs": [
    {
     "data": {
      "text/plain": [
       "('/Users/andrew/python/tutorial2016/python-durham2017', 'git')"
      ]
     },
     "execution_count": 41,
     "metadata": {},
     "output_type": "execute_result"
    }
   ],
   "source": [
    "os.path.split(os.getcwd())"
   ]
  },
  {
   "cell_type": "code",
   "execution_count": 42,
   "metadata": {
    "collapsed": false
   },
   "outputs": [
    {
     "data": {
      "text/plain": [
       "'first_element/second_element/third_element'"
      ]
     },
     "execution_count": 42,
     "metadata": {},
     "output_type": "execute_result"
    }
   ],
   "source": [
    "os.path.join('first_element','second_element','third_element')"
   ]
  },
  {
   "cell_type": "code",
   "execution_count": 43,
   "metadata": {
    "collapsed": false
   },
   "outputs": [],
   "source": [
    "if os.path.exists('./new_dir'): # check if directory exists\n",
    "    os.rmdir('./new_dir') # if so, remove it\n",
    "    \n",
    "os.makedirs('./new_dir') # make a new directory"
   ]
  },
  {
   "cell_type": "code",
   "execution_count": 44,
   "metadata": {
    "collapsed": false
   },
   "outputs": [
    {
     "ename": "OSError",
     "evalue": "[Errno 17] File exists: './new_dir'",
     "output_type": "error",
     "traceback": [
      "\u001b[0;31m---------------------------------------------------------------------------\u001b[0m",
      "\u001b[0;31mOSError\u001b[0m                                   Traceback (most recent call last)",
      "\u001b[0;32m<ipython-input-44-e1e3fd145c8e>\u001b[0m in \u001b[0;36m<module>\u001b[0;34m()\u001b[0m\n\u001b[0;32m----> 1\u001b[0;31m \u001b[0mos\u001b[0m\u001b[0;34m.\u001b[0m\u001b[0mmakedirs\u001b[0m\u001b[0;34m(\u001b[0m\u001b[0;34m'./new_dir'\u001b[0m\u001b[0;34m)\u001b[0m\u001b[0;34m\u001b[0m\u001b[0m\n\u001b[0m",
      "\u001b[0;32m/Users/andrew/python/miniconda2/lib/python2.7/os.pyc\u001b[0m in \u001b[0;36mmakedirs\u001b[0;34m(name, mode)\u001b[0m\n\u001b[1;32m    155\u001b[0m         \u001b[0;32mif\u001b[0m \u001b[0mtail\u001b[0m \u001b[0;34m==\u001b[0m \u001b[0mcurdir\u001b[0m\u001b[0;34m:\u001b[0m           \u001b[0;31m# xxx/newdir/. exists if xxx/newdir exists\u001b[0m\u001b[0;34m\u001b[0m\u001b[0m\n\u001b[1;32m    156\u001b[0m             \u001b[0;32mreturn\u001b[0m\u001b[0;34m\u001b[0m\u001b[0m\n\u001b[0;32m--> 157\u001b[0;31m     \u001b[0mmkdir\u001b[0m\u001b[0;34m(\u001b[0m\u001b[0mname\u001b[0m\u001b[0;34m,\u001b[0m \u001b[0mmode\u001b[0m\u001b[0;34m)\u001b[0m\u001b[0;34m\u001b[0m\u001b[0m\n\u001b[0m\u001b[1;32m    158\u001b[0m \u001b[0;34m\u001b[0m\u001b[0m\n\u001b[1;32m    159\u001b[0m \u001b[0;32mdef\u001b[0m \u001b[0mremovedirs\u001b[0m\u001b[0;34m(\u001b[0m\u001b[0mname\u001b[0m\u001b[0;34m)\u001b[0m\u001b[0;34m:\u001b[0m\u001b[0;34m\u001b[0m\u001b[0m\n",
      "\u001b[0;31mOSError\u001b[0m: [Errno 17] File exists: './new_dir'"
     ]
    }
   ],
   "source": [
    "os.makedirs('./new_dir') # This is to show that makedirs raises an error if the path already exists"
   ]
  },
  {
   "cell_type": "code",
   "execution_count": 47,
   "metadata": {
    "collapsed": false
   },
   "outputs": [
    {
     "name": "stdout",
     "output_type": "stream",
     "text": [
      "Directory exists\n"
     ]
    }
   ],
   "source": [
    "# This is the right way to avoid that error, and is an example of how to handle\n",
    "# exceptions.\n",
    "try:\n",
    "    os.makedirs('./new_dir')\n",
    "except OSError:\n",
    "    print('Directory exists')\n",
    "\n",
    "# Execution will continue as normal now, because we trapped and handled the OSError"
   ]
  },
  {
   "cell_type": "markdown",
   "metadata": {},
   "source": [
    "--- \n",
    "Further reading:\n",
    "- next week we'll look at `subprocess`, which is a way to run external programs from inside python.\n",
    "- we'll also look at `glob`, which is an extremely useful way to find all the files matching a particular pattern."
   ]
  },
  {
   "cell_type": "markdown",
   "metadata": {},
   "source": [
    "## 5.4 Working with numerical data using numpy"
   ]
  },
  {
   "cell_type": "markdown",
   "metadata": {},
   "source": [
    "Python lists can hold any mix of data types and you don't have to specify how much memory they contain when you create them -- they can keep growing automatically. However, both these advantages make them extremely slow and memory-inefficient.\n",
    "\n",
    "The numpy package is fundamental to serious scientific computing with Python. To quote directly from the [numpy website](http://www.numpy.org/), numpy adds:\n",
    "\n",
    "> - a powerful N-dimensional array object\n",
    "> - sophisticated (broadcasting) functions\n",
    "> - tools for integrating C/C++ and Fortran code\n",
    "> - useful linear algebra, Fourier transform, and random number capabilities\n",
    "\n",
    "> Besides its obvious scientific uses, NumPy can also be used as an efficient multi-dimensional container of generic data. Arbitrary data-types can be defined. This allows NumPy to seamlessly and speedily integrate with a wide variety of databases.\n",
    "\n",
    "Numpy arrays allow vectorized operations on homogeneous chunks of memory of fixed size, representing many elements of data of a single uniform type (integers or floats or whatever). Many of the functions in numpy are written directly in C or Fortran and take advantage of industry-standard libaries like [`LAPACK`](https://en.wikipedia.org/wiki/LAPACK).\n",
    "\n",
    "There's an official [numpy tutorial](https://docs.scipy.org/doc/numpy-dev/user/quickstart.html) -- it would be pointless to repeat all of that here, so you should follow that (or another `numpy` tutorial) if you're unfamiliar with `numpy`. We'll look more at how to use `numpy` for specific tasks next week. For now, the following basics should be understandable with some experimentation\n",
    "\n",
    "Tip: 'vectorized' means that if you're using Python loops to operate on `numpy` arrays, you're *probably* doing it wrong.\n",
    "\n",
    "Scipy is a library of more complex routines that build on numpy. We'll also look at a few Scipy routines next week."
   ]
  },
  {
   "cell_type": "code",
   "execution_count": 1,
   "metadata": {
    "collapsed": false
   },
   "outputs": [],
   "source": [
    "import numpy as np"
   ]
  },
  {
   "cell_type": "markdown",
   "metadata": {},
   "source": [
    "### 5.4.1 Creating arrays"
   ]
  },
  {
   "cell_type": "markdown",
   "metadata": {},
   "source": [
    "Numpy arrays can only hold data of a single type, called the `dtype` of the array."
   ]
  },
  {
   "cell_type": "code",
   "execution_count": null,
   "metadata": {
    "collapsed": false
   },
   "outputs": [],
   "source": [
    "x = np.zeros(10,dtype=np.int)\n",
    "y = np.zeros(10,dtype=np.float64)\n",
    "print(x)\n",
    "print(y)"
   ]
  },
  {
   "cell_type": "code",
   "execution_count": null,
   "metadata": {
    "collapsed": false
   },
   "outputs": [],
   "source": [
    "x = np.empty(10,dtype=np.int32)\n",
    "print(x)"
   ]
  },
  {
   "cell_type": "code",
   "execution_count": null,
   "metadata": {
    "collapsed": false
   },
   "outputs": [],
   "source": [
    "x = np.ones(10)\n",
    "y = np.repeat(2,10)\n",
    "print(x)\n",
    "print x.dtype\n",
    "print(y)\n",
    "print y.dtype"
   ]
  },
  {
   "cell_type": "markdown",
   "metadata": {},
   "source": [
    "`arange`, `linspace` and `logspace` create 1-dimensional sequences."
   ]
  },
  {
   "cell_type": "code",
   "execution_count": null,
   "metadata": {
    "collapsed": false
   },
   "outputs": [],
   "source": [
    "x = np.arange(0,10)\n",
    "print(x)\n",
    "y = np.arange(100,200,10)\n",
    "print(y)"
   ]
  },
  {
   "cell_type": "code",
   "execution_count": null,
   "metadata": {
    "collapsed": false
   },
   "outputs": [],
   "source": [
    "x = np.linspace(100,200,10)\n",
    "print(x)"
   ]
  },
  {
   "cell_type": "code",
   "execution_count": null,
   "metadata": {
    "collapsed": false
   },
   "outputs": [],
   "source": [
    "y = np.logspace(-1,3,20)\n",
    "print(y)"
   ]
  },
  {
   "cell_type": "markdown",
   "metadata": {},
   "source": [
    "String `dtype`s have a fixed length. "
   ]
  },
  {
   "cell_type": "code",
   "execution_count": null,
   "metadata": {
    "collapsed": false
   },
   "outputs": [],
   "source": [
    "x = np.repeat('hello',10)\n",
    "print(x)\n",
    "print('The dtype of this string array is %s'%(x.dtype))\n",
    "x[3] = 'longstring'\n",
    "print(x)"
   ]
  },
  {
   "cell_type": "code",
   "execution_count": null,
   "metadata": {
    "collapsed": false
   },
   "outputs": [],
   "source": [
    "x = np.array([1,2,3,4])\n",
    "print(x)\n",
    "print(x.dtype)"
   ]
  },
  {
   "cell_type": "code",
   "execution_count": null,
   "metadata": {
    "collapsed": false
   },
   "outputs": [],
   "source": [
    "x = np.array([1,2,3,4],dtype=np.float32)\n",
    "print(x)\n",
    "print(x.dtype)"
   ]
  },
  {
   "cell_type": "code",
   "execution_count": null,
   "metadata": {
    "collapsed": false
   },
   "outputs": [],
   "source": [
    "x = np.array([1,2,3.0,4,'hello'])\n",
    "print(x)\n",
    "print(x.dtype)"
   ]
  },
  {
   "cell_type": "markdown",
   "metadata": {},
   "source": [
    "The most generic `dtype` is `np.object`; this can represent anything (it stores references to objects rather than the objects themselves) but on the downside is useless for mathematical operations."
   ]
  },
  {
   "cell_type": "code",
   "execution_count": null,
   "metadata": {
    "collapsed": false
   },
   "outputs": [],
   "source": [
    "a = lambda y: y+1\n",
    "b = lambda y: y+2\n",
    "\n",
    "x = np.array([a,b])\n",
    "print(x)\n",
    "print(x.dtype)\n",
    "\n",
    "y = np.array([1,2],dtype=np.object)\n",
    "np.log10(y)"
   ]
  },
  {
   "cell_type": "markdown",
   "metadata": {},
   "source": [
    "The shape of arrays is easy to find:"
   ]
  },
  {
   "cell_type": "code",
   "execution_count": null,
   "metadata": {
    "collapsed": false
   },
   "outputs": [],
   "source": [
    "x = np.zeros((4,3))\n",
    "print(x)\n",
    "print(x.shape)"
   ]
  },
  {
   "cell_type": "markdown",
   "metadata": {},
   "source": [
    "### 5.4.2 Slicing"
   ]
  },
  {
   "cell_type": "code",
   "execution_count": null,
   "metadata": {
    "collapsed": false
   },
   "outputs": [],
   "source": [
    "x = np.ones((5,5))\n",
    "x[1:3,1:3] = 0\n",
    "print(x)"
   ]
  },
  {
   "cell_type": "markdown",
   "metadata": {},
   "source": [
    "### 5.4.3 Arithmetic"
   ]
  },
  {
   "cell_type": "code",
   "execution_count": 1,
   "metadata": {
    "collapsed": false
   },
   "outputs": [
    {
     "ename": "NameError",
     "evalue": "name 'np' is not defined",
     "output_type": "error",
     "traceback": [
      "\u001b[0;31m---------------------------------------------------------------------------\u001b[0m",
      "\u001b[0;31mNameError\u001b[0m                                 Traceback (most recent call last)",
      "\u001b[0;32m<ipython-input-1-ae5de39d94d7>\u001b[0m in \u001b[0;36m<module>\u001b[0;34m()\u001b[0m\n\u001b[0;32m----> 1\u001b[0;31m \u001b[0mx\u001b[0m \u001b[0;34m=\u001b[0m \u001b[0mnp\u001b[0m\u001b[0;34m.\u001b[0m\u001b[0mones\u001b[0m\u001b[0;34m(\u001b[0m\u001b[0;34m(\u001b[0m\u001b[0;36m4\u001b[0m\u001b[0;34m,\u001b[0m\u001b[0;36m4\u001b[0m\u001b[0;34m)\u001b[0m\u001b[0;34m)\u001b[0m \u001b[0;34m+\u001b[0m \u001b[0;36m2\u001b[0m\u001b[0;34m\u001b[0m\u001b[0m\n\u001b[0m\u001b[1;32m      2\u001b[0m \u001b[0;32mprint\u001b[0m\u001b[0;34m(\u001b[0m\u001b[0mx\u001b[0m\u001b[0;34m)\u001b[0m\u001b[0;34m\u001b[0m\u001b[0m\n",
      "\u001b[0;31mNameError\u001b[0m: name 'np' is not defined"
     ]
    }
   ],
   "source": [
    "x = np.ones((4,4)) + 2\n",
    "print(x)"
   ]
  },
  {
   "cell_type": "code",
   "execution_count": null,
   "metadata": {
    "collapsed": false
   },
   "outputs": [],
   "source": [
    "x = np.ones((4,4))*4\n",
    "print(x)"
   ]
  },
  {
   "cell_type": "code",
   "execution_count": null,
   "metadata": {
    "collapsed": false
   },
   "outputs": [],
   "source": [
    "10*(-0.4*np.log10(x))"
   ]
  },
  {
   "cell_type": "markdown",
   "metadata": {},
   "source": [
    "### 5.4.4 Saving numpy arrays to disk"
   ]
  },
  {
   "cell_type": "code",
   "execution_count": null,
   "metadata": {
    "collapsed": false
   },
   "outputs": [],
   "source": [
    "x = np.ones((10,10))\n",
    "np.savez('my_numpy_array.npz',x)\n",
    "\n",
    "# This is more complicated than you might expect. Read the documentation for savez!\n",
    "y = np.load('my_numpy_array.npz')\n",
    "print(y.keys())\n",
    "print(y['arr_0'])"
   ]
  },
  {
   "cell_type": "markdown",
   "metadata": {},
   "source": [
    "### 5.4.5 Random numbers"
   ]
  },
  {
   "cell_type": "code",
   "execution_count": null,
   "metadata": {
    "collapsed": false
   },
   "outputs": [],
   "source": [
    "np.random.seed(42) # Sets the seed of the random number generator\n",
    "np.random.random((3,4)) # Generates an array of random floats"
   ]
  },
  {
   "cell_type": "markdown",
   "metadata": {},
   "source": [
    "There are other routines in `np.random` to draw randomly from non-uniform distributions."
   ]
  },
  {
   "cell_type": "markdown",
   "metadata": {},
   "source": [
    "### 5.4.6 Histograms"
   ]
  },
  {
   "cell_type": "markdown",
   "metadata": {},
   "source": [
    "Group values in an array into bins. Extremely useful."
   ]
  },
  {
   "cell_type": "code",
   "execution_count": 3,
   "metadata": {
    "collapsed": false
   },
   "outputs": [
    {
     "name": "stdout",
     "output_type": "stream",
     "text": [
      "[0 0 0 0 0 0 1 1 0 0 2 0 1 1 0 3 4 2 4 0 1 3 6 5 3 2 5 4 3 8 2 4 2 4 0 5 5\n",
      " 2 2 1 1 2 1 1 0 1 3 2 1 2 0 0 0 0 0 0 0 0 0]\n"
     ]
    }
   ],
   "source": [
    "x = np.random.normal(size=100) # What does this do?\n",
    "counts, bins = np.histogram(x,bins=np.arange(-3,3,0.1))\n",
    "print(counts)"
   ]
  },
  {
   "cell_type": "markdown",
   "metadata": {},
   "source": [
    "### 5.4.7 Statistics, logic and `where`"
   ]
  },
  {
   "cell_type": "code",
   "execution_count": 4,
   "metadata": {
    "collapsed": false
   },
   "outputs": [
    {
     "data": {
      "text/plain": [
       "(8, 0)"
      ]
     },
     "execution_count": 4,
     "metadata": {},
     "output_type": "execute_result"
    }
   ],
   "source": [
    "counts.max(), counts.min()"
   ]
  },
  {
   "cell_type": "code",
   "execution_count": 5,
   "metadata": {
    "collapsed": false
   },
   "outputs": [
    {
     "data": {
      "text/plain": [
       "(1.0, 1.6949152542372881, 1.8708670815656447)"
      ]
     },
     "execution_count": 5,
     "metadata": {},
     "output_type": "execute_result"
    }
   ],
   "source": [
    "np.median(counts), np.mean(counts), np.std(counts)"
   ]
  },
  {
   "cell_type": "code",
   "execution_count": 6,
   "metadata": {
    "collapsed": false
   },
   "outputs": [
    {
     "data": {
      "text/plain": [
       "array([False, False, False, False, False, False, False, False, False,\n",
       "       False, False, False, False, False, False, False,  True, False,\n",
       "        True, False, False, False,  True,  True, False, False,  True,\n",
       "        True, False,  True, False,  True, False,  True, False,  True,\n",
       "        True, False, False, False, False, False, False, False, False,\n",
       "       False, False, False, False, False, False, False, False, False,\n",
       "       False, False, False, False, False], dtype=bool)"
      ]
     },
     "execution_count": 6,
     "metadata": {},
     "output_type": "execute_result"
    }
   ],
   "source": [
    "counts > 3"
   ]
  },
  {
   "cell_type": "code",
   "execution_count": 7,
   "metadata": {
    "collapsed": false
   },
   "outputs": [
    {
     "data": {
      "text/plain": [
       "11"
      ]
     },
     "execution_count": 7,
     "metadata": {},
     "output_type": "execute_result"
    }
   ],
   "source": [
    "np.sum(counts >  3) # What's happening here?"
   ]
  },
  {
   "cell_type": "markdown",
   "metadata": {},
   "source": [
    "What the indices of the elements of counts that are greater than 3? To find these, use `where`. This is probably one of the most important functions in all of `numpy`."
   ]
  },
  {
   "cell_type": "code",
   "execution_count": 8,
   "metadata": {
    "collapsed": false
   },
   "outputs": [
    {
     "data": {
      "text/plain": [
       "(array([16, 18, 22, 23, 26, 27, 29, 31, 33, 35, 36]),)"
      ]
     },
     "execution_count": 8,
     "metadata": {},
     "output_type": "execute_result"
    }
   ],
   "source": [
    "w = np.where(counts > 3)\n",
    "w"
   ]
  },
  {
   "cell_type": "code",
   "execution_count": 9,
   "metadata": {
    "collapsed": false
   },
   "outputs": [
    {
     "data": {
      "text/plain": [
       "1"
      ]
     },
     "execution_count": 9,
     "metadata": {},
     "output_type": "execute_result"
    }
   ],
   "source": [
    "len(w) # This should be the same as np.sum(counts>3), right?"
   ]
  },
  {
   "cell_type": "markdown",
   "metadata": {},
   "source": [
    "What's going on here? Let's try another way..."
   ]
  },
  {
   "cell_type": "code",
   "execution_count": 10,
   "metadata": {
    "collapsed": false
   },
   "outputs": [
    {
     "ename": "AttributeError",
     "evalue": "'tuple' object has no attribute 'shape'",
     "output_type": "error",
     "traceback": [
      "\u001b[0;31m---------------------------------------------------------------------------\u001b[0m",
      "\u001b[0;31mAttributeError\u001b[0m                            Traceback (most recent call last)",
      "\u001b[0;32m<ipython-input-10-73e98846e7ba>\u001b[0m in \u001b[0;36m<module>\u001b[0;34m()\u001b[0m\n\u001b[0;32m----> 1\u001b[0;31m \u001b[0mw\u001b[0m\u001b[0;34m.\u001b[0m\u001b[0mshape\u001b[0m\u001b[0;34m\u001b[0m\u001b[0m\n\u001b[0m",
      "\u001b[0;31mAttributeError\u001b[0m: 'tuple' object has no attribute 'shape'"
     ]
    }
   ],
   "source": [
    "w.shape"
   ]
  },
  {
   "cell_type": "markdown",
   "metadata": {},
   "source": [
    "It seems `np.where` is returning a *tuple* -- perhaps we didn't notice the ',)' on the end when we printed the value of `w` above (well done if you did...). The tuple has one element, which is the array `w`."
   ]
  },
  {
   "cell_type": "code",
   "execution_count": 11,
   "metadata": {
    "collapsed": false
   },
   "outputs": [
    {
     "name": "stdout",
     "output_type": "stream",
     "text": [
      "11\n",
      "[16 18 22 23 26 27 29 31 33 35 36]\n"
     ]
    }
   ],
   "source": [
    "print(len(w[0]))\n",
    "print(w[0])"
   ]
  },
  {
   "cell_type": "markdown",
   "metadata": {},
   "source": [
    "**This is a quirk of the `where` function. Remember it!**"
   ]
  },
  {
   "cell_type": "markdown",
   "metadata": {},
   "source": [
    "`w` can be used as an index on `counts` (we don't need to worry that it's a tuple for this purpose)"
   ]
  },
  {
   "cell_type": "code",
   "execution_count": 12,
   "metadata": {
    "collapsed": false
   },
   "outputs": [
    {
     "data": {
      "text/plain": [
       "array([4, 4, 6, 5, 5, 4, 8, 4, 4, 5, 5])"
      ]
     },
     "execution_count": 12,
     "metadata": {},
     "output_type": "execute_result"
    }
   ],
   "source": [
    "counts[w] # This still works fine \n",
    "counts[w[0]] # This is the same thing, for indexing purposes"
   ]
  },
  {
   "cell_type": "markdown",
   "metadata": {},
   "source": [
    "### 5.4.8 Reading data from a file with `np.loadtxt`"
   ]
  },
  {
   "cell_type": "code",
   "execution_count": 13,
   "metadata": {
    "collapsed": false
   },
   "outputs": [
    {
     "name": "stdout",
     "output_type": "stream",
     "text": [
      "[[  1.00000000e+02   3.00000000e+01   1.00000000e+08]\n",
      " [  3.40000000e+01   1.95000000e+01   1.00000000e+04]\n",
      " [  2.04000000e+02   1.84000000e+01   3.40000000e+05]\n",
      " [  4.00000000e+01   7.00000000e+00   5.40000000e+06]]\n"
     ]
    }
   ],
   "source": [
    "# Here's a typical ascii table (complete with poor formatting)\n",
    "s = \"\"\"# Header\n",
    "# Mass Radius Flux\n",
    "100.0, 30.0, 1e8\n",
    "34.0, 19.5, 1e4\n",
    "204.0, 18.4 , 3.4e5\n",
    "40.0, 7.0, 5.4e6\n",
    "\"\"\"\n",
    "\n",
    "# Save it to a file\n",
    "with open('my_table.dat','w') as f:\n",
    "    f.write(s)\n",
    "    \n",
    "# We have to specify how the columns are separated\n",
    "# (in this case, with a ',')\n",
    "\n",
    "data = np.loadtxt('my_table.dat',delimiter=',')\n",
    "print(data)"
   ]
  },
  {
   "cell_type": "markdown",
   "metadata": {},
   "source": [
    "We can also 'unpack' the columns."
   ]
  },
  {
   "cell_type": "code",
   "execution_count": 14,
   "metadata": {
    "collapsed": false
   },
   "outputs": [
    {
     "name": "stdout",
     "output_type": "stream",
     "text": [
      "[ 100.   34.  204.   40.]\n",
      "[ 30.   19.5  18.4   7. ]\n",
      "[  1.00000000e+08   1.00000000e+04   3.40000000e+05   5.40000000e+06]\n"
     ]
    }
   ],
   "source": [
    "mass, radius, flux = np.loadtxt('my_table.dat',delimiter=',',unpack=True)\n",
    "print(mass)\n",
    "print(radius)\n",
    "print(flux)"
   ]
  },
  {
   "cell_type": "markdown",
   "metadata": {},
   "source": [
    "Read the documentation for `loadtxt`, in particular paying attention to the options:\n",
    "- `usecols`\n",
    "- `skiprows`\n",
    "- `dtype`"
   ]
  },
  {
   "cell_type": "markdown",
   "metadata": {},
   "source": [
    "How could you use `loadtxt` to read the following file?"
   ]
  },
  {
   "cell_type": "code",
   "execution_count": null,
   "metadata": {
    "collapsed": true
   },
   "outputs": [],
   "source": [
    "# First execute this cell to write the file\n",
    "s = \"\"\"Header\n",
    "Mass Radius Flux\n",
    "A, 100.0, 30.0, 1e8\n",
    "B, 34.0, 19.5, 1e4\n",
    "C, 204.0, 18.4 , 3.4e5\n",
    "D, 40.0, 7.0, 5.4e6\n",
    "\"\"\"\n",
    "with open('my_table_2.dat','w') as f:\n",
    "    f.write(s)"
   ]
  },
  {
   "cell_type": "code",
   "execution_count": null,
   "metadata": {
    "collapsed": true
   },
   "outputs": [],
   "source": [
    "# Try to read it here..."
   ]
  },
  {
   "cell_type": "markdown",
   "metadata": {},
   "source": [
    "See also `numpy.genfromtext`, which offers more advanced options."
   ]
  },
  {
   "cell_type": "markdown",
   "metadata": {},
   "source": [
    "----\n",
    "*Further reading*\n",
    "- next week we'll cover more details of `numpy`, and the `astropy` package which contains even more useful ways to read and write data files."
   ]
  },
  {
   "cell_type": "markdown",
   "metadata": {
    "collapsed": true
   },
   "source": [
    "## 5.5 Making plots with matplotlib"
   ]
  },
  {
   "cell_type": "markdown",
   "metadata": {},
   "source": [
    "`matplotlib` is a comprehensive package for making plots with Python. \n",
    "\n",
    "`matplotlib` can seem complicated and sometimes frustrating, in part because it started life as an 'emulator' for the functionality of MatLab, in part because it tries to do everything. \n",
    "\n",
    "Some people really don't like it and there are a number of new alternatives. This tutorial is based on `matplotlib` only because I don't use those alternatives, and because `matplotlib` is still overwhelmingly more common. \n",
    "\n",
    "Here are some other tutorials about `matplotlib`:\n",
    "\n",
    "[anaconda.org](https://anaconda.org/ijstokes/16-visualization-matplotlib/notebook)\n",
    "\n",
    "It's also worth looking at the gallery of examples [here](http://matplotlib.org/gallery.html).\n",
    "\n",
    "Frustratingly there are some small differences between making plots in a jupyter notebook, making them in an ipython terminal, and making them in by running python code from a file. Watch out for these below. More about plots in jupyter notebooks [here](http://nbviewer.jupyter.org/github/ipython/ipython/blob/1.x/examples/notebooks/Part%203%20-%20Plotting%20with%20Matplotlib.ipynb)."
   ]
  },
  {
   "cell_type": "code",
   "execution_count": 15,
   "metadata": {
    "collapsed": false
   },
   "outputs": [],
   "source": [
    "import matplotlib\n",
    "\n",
    "# Because we're working in a Jupyter notebook, we have to do this, which we wouldn't have \n",
    "# to do in IPython or when running from a file\n",
    "%matplotlib inline"
   ]
  },
  {
   "cell_type": "markdown",
   "metadata": {},
   "source": [
    "Importing the `matplotlib` module on its own is not very useful. There is a submodule called `pyplot` that includes simple wrappers that make most of the standard types of plots. IPython can be started with the option --pylab that (among other things) automatically imports the functions from this module into the top level interactive scope (i.e. the same as typing `from matplotlib pyplot import *` at the prompt), but in non-interactive scripts it's clearer to import it with a shortened name, like this: "
   ]
  },
  {
   "cell_type": "code",
   "execution_count": 16,
   "metadata": {
    "collapsed": false
   },
   "outputs": [],
   "source": [
    "import matplotlib.pyplot as pl # Ignore any warnings about the font cache"
   ]
  },
  {
   "cell_type": "markdown",
   "metadata": {},
   "source": [
    "Just make a very simple line plot as quickly as possible:"
   ]
  },
  {
   "cell_type": "code",
   "execution_count": 17,
   "metadata": {
    "collapsed": false
   },
   "outputs": [
    {
     "data": {
      "image/png": "[encoded data removed]",
      "text/plain": [
       "<matplotlib.figure.Figure at 0x10aa93ad0>"
      ]
     },
     "metadata": {},
     "output_type": "display_data"
    }
   ],
   "source": [
    "pl.plot([1,2,3,4,5]);"
   ]
  },
  {
   "cell_type": "markdown",
   "metadata": {},
   "source": [
    "Now let's do the same thing separating the key elements as we would in a more complicated case. I've represented this as several stages so you can see what's happening with each step."
   ]
  },
  {
   "cell_type": "code",
   "execution_count": 18,
   "metadata": {
    "collapsed": false
   },
   "outputs": [
    {
     "name": "stdout",
     "output_type": "stream",
     "text": [
      "Created a figure with number 1\n"
     ]
    },
    {
     "data": {
      "image/png": "[encoded data removed]",
      "text/plain": [
       "<matplotlib.figure.Figure at 0x10cf541d0>"
      ]
     },
     "metadata": {},
     "output_type": "display_data"
    }
   ],
   "source": [
    "# Figures are the highest-level matplotlib object you need to worry about.\n",
    "f_a    = pl.figure() # This creates a new figure.\n",
    "print('Created a figure with number %d'%(f_a.number)) # Each figure has a unique number\n",
    "\n",
    "data = [1,2,3,4,5]\n",
    "pl.plot(data) # This draws a set of axes into the current figure\n",
    "\n",
    "ax = pl.gca() # This gets the current axis from the figure."
   ]
  },
  {
   "cell_type": "markdown",
   "metadata": {},
   "source": [
    "Resize the figure:"
   ]
  },
  {
   "cell_type": "code",
   "execution_count": 19,
   "metadata": {
    "collapsed": false
   },
   "outputs": [
    {
     "data": {
      "image/png": "[encoded data removed]",
      "text/plain": [
       "<matplotlib.figure.Figure at 0x10aa93790>"
      ]
     },
     "metadata": {},
     "output_type": "display_data"
    }
   ],
   "source": [
    "f_a    = pl.figure() \n",
    "pl.plot(data)\n",
    "f_a.set_size_inches(2.5,2.5) # Yes, inches..."
   ]
  },
  {
   "cell_type": "markdown",
   "metadata": {},
   "source": [
    "Plot two lines on the same figure."
   ]
  },
  {
   "cell_type": "code",
   "execution_count": 20,
   "metadata": {
    "collapsed": false
   },
   "outputs": [
    {
     "data": {
      "text/plain": [
       "[<matplotlib.lines.Line2D at 0x10aa93890>]"
      ]
     },
     "execution_count": 20,
     "metadata": {},
     "output_type": "execute_result"
    },
    {
     "data": {
      "image/png": "[encoded data removed]",
      "text/plain": [
       "<matplotlib.figure.Figure at 0x10d6b3750>"
      ]
     },
     "metadata": {},
     "output_type": "display_data"
    }
   ],
   "source": [
    "f_a    = pl.figure(figsize=(2.5,2.5)) \n",
    "pl.plot(data)\n",
    "pl.plot(data[::-1],c='r',linestyle='--') # This draws another line in the same axes."
   ]
  },
  {
   "cell_type": "markdown",
   "metadata": {},
   "source": [
    "Add axis labels."
   ]
  },
  {
   "cell_type": "code",
   "execution_count": 21,
   "metadata": {
    "collapsed": false
   },
   "outputs": [
    {
     "data": {
      "image/png": "[encoded data removed]",
      "text/plain": [
       "<matplotlib.figure.Figure at 0x10d82a3d0>"
      ]
     },
     "metadata": {},
     "output_type": "display_data"
    }
   ],
   "source": [
    "f_a    = pl.figure(figsize=(2.5,2.5)) \n",
    "pl.plot(data)\n",
    "pl.plot(data[::-1],c='r',linestyle='--')\n",
    "\n",
    "# Note that these are writen in LaTeX math mode, using $$! (they don't have to be, but it looks nicer)\n",
    "pl.xlabel('$r$ $\\mathrm{[kpc]}$',fontsize=12)\n",
    "pl.ylabel('$\\log_{10}\\;M(<r)/M_{\\odot}$',fontsize=12);"
   ]
  },
  {
   "cell_type": "markdown",
   "metadata": {},
   "source": [
    "Take away the tick labels at the corners:"
   ]
  },
  {
   "cell_type": "code",
   "execution_count": 22,
   "metadata": {
    "collapsed": false
   },
   "outputs": [
    {
     "data": {
      "image/png": "[encoded data removed]",
      "text/plain": [
       "<matplotlib.figure.Figure at 0x10d733410>"
      ]
     },
     "metadata": {},
     "output_type": "display_data"
    }
   ],
   "source": [
    "f_a    = pl.figure(figsize=(2.5,2.5)) \n",
    "pl.plot(data)\n",
    "pl.plot(data[::-1],c='r',linestyle='--')\n",
    "pl.xlabel('$r$ $\\mathrm{[kpc]}$',fontsize=12)\n",
    "pl.ylabel('$\\log_{10}\\;M(<r)/M_{\\odot}$',fontsize=12)\n",
    "\n",
    "ax = pl.gca() # gets the current axes\n",
    "for i in [0,-1]:\n",
    "    pl.setp(ax.get_xticklabels()[i],visible=False)\n",
    "    pl.setp(ax.get_yticklabels()[i],visible=False)"
   ]
  },
  {
   "cell_type": "markdown",
   "metadata": {},
   "source": [
    "Make the tick labels smaller using `fontsize`"
   ]
  },
  {
   "cell_type": "code",
   "execution_count": 23,
   "metadata": {
    "collapsed": false
   },
   "outputs": [
    {
     "data": {
      "image/png": "[encoded data removed]",
      "text/plain": [
       "<matplotlib.figure.Figure at 0x10d4b6350>"
      ]
     },
     "metadata": {},
     "output_type": "display_data"
    }
   ],
   "source": [
    "f_a    = pl.figure(figsize=(2.5,2.5)) \n",
    "pl.plot(data)\n",
    "pl.plot(data[::-1],c='r',linestyle='--')\n",
    "pl.xlabel('$r$ $\\mathrm{[kpc]}$',fontsize=12)\n",
    "pl.ylabel('$\\log_{10}\\;M(<r)/M_{\\odot}$',fontsize=12)\n",
    "ax = pl.gca()\n",
    "for i in [0,-1]:\n",
    "    pl.setp(ax.get_xticklabels()[i],visible=False)\n",
    "    pl.setp(ax.get_yticklabels()[i],visible=False)\n",
    "    \n",
    "pl.setp(ax.get_xticklabels(),fontsize=8); # suppress output\n",
    "pl.setp(ax.get_yticklabels(),fontsize=8); # suppress output"
   ]
  },
  {
   "cell_type": "markdown",
   "metadata": {},
   "source": [
    "Use LaTeX to render all the text on the plot, not just the math mode expressions we used for the axis labels:"
   ]
  },
  {
   "cell_type": "code",
   "execution_count": 24,
   "metadata": {
    "collapsed": false
   },
   "outputs": [
    {
     "data": {
      "image/png": "[encoded data removed]",
      "text/plain": [
       "<matplotlib.figure.Figure at 0x10d83e490>"
      ]
     },
     "metadata": {},
     "output_type": "display_data"
    }
   ],
   "source": [
    "# This may take a longer time to run because latex is being run in the background!\n",
    "from matplotlib import rc\n",
    "rc('text', usetex=True)\n",
    "\n",
    "f_a    = pl.figure(figsize=(2.5,2.5)) \n",
    "pl.plot(data)\n",
    "pl.plot(data[::-1],c='r',linestyle='--')\n",
    "pl.xlabel('$r$ $\\mathrm{[kpc]}$',fontsize=12)\n",
    "pl.ylabel('$\\log_{10}\\;M(<r)/M_{\\odot}$',fontsize=12)\n",
    "ax = pl.gca()\n",
    "for i in [0,-1]:\n",
    "    pl.setp(ax.get_xticklabels()[i],visible=False)\n",
    "    pl.setp(ax.get_yticklabels()[i],visible=False)\n",
    "    \n",
    "pl.setp(ax.get_xticklabels(),fontsize=8); # suppress output\n",
    "pl.setp(ax.get_yticklabels(),fontsize=8); # suppress output"
   ]
  },
  {
   "cell_type": "markdown",
   "metadata": {},
   "source": [
    "A more complete example, this time of a scatter plot. You should be able to figure out what's happening yourself using the docstrings for the routines involved, and a bit of googling.\n"
   ]
  },
  {
   "cell_type": "code",
   "execution_count": 25,
   "metadata": {
    "collapsed": false
   },
   "outputs": [],
   "source": [
    "# Here are some random data for two variables. Read the docs to figure out how they're generated.\n",
    "x = np.random.normal(loc=50,scale=20,size=1000)\n",
    "y = np.random.normal(loc=x+5,scale=10,size=1000)"
   ]
  },
  {
   "cell_type": "code",
   "execution_count": 26,
   "metadata": {
    "collapsed": false
   },
   "outputs": [
    {
     "data": {
      "image/png": "[encoded data removed]",
      "text/plain": [
       "<matplotlib.figure.Figure at 0x10dce5610>"
      ]
     },
     "metadata": {},
     "output_type": "display_data"
    }
   ],
   "source": [
    "f_b = pl.figure(figsize=(2.5,2.5))\n",
    "ax = pl.gca()\n",
    "ax.scatter(x,y,s=1,edgecolor='None',c='purple',label='$z=0$')\n",
    "ax.set_xlim(0,100)\n",
    "ax.set_ylim(0,100)\n",
    "ax.axhline(50.0,linestyle='--',c='grey',lw=0.5,zorder=-10) # What do these lines do?\n",
    "ax.axvline(50.0,linestyle='--',c='grey',lw=0.5,zorder=-10)\n",
    "for i in [0,-1]:\n",
    "    pl.setp(ax.get_xticklabels()[i],visible=False)\n",
    "    pl.setp(ax.get_yticklabels()[i],visible=False)\n",
    "ax.set_xlabel(r'$\\alpha$') # What happens without the r at the start here?\n",
    "ax.set_ylabel(r'$\\delta$')\n",
    "\n",
    "pl.legend(loc='upper left',fontsize=8, frameon=False,scatterpoints=3,markerscale=2);"
   ]
  },
  {
   "cell_type": "markdown",
   "metadata": {},
   "source": [
    "To save the figure, use `savefig`:"
   ]
  },
  {
   "cell_type": "code",
   "execution_count": 27,
   "metadata": {
    "collapsed": false
   },
   "outputs": [
    {
     "data": {
      "image/png": "[encoded data removed]",
      "text/plain": [
       "<matplotlib.figure.Figure at 0x10ddb26d0>"
      ]
     },
     "metadata": {},
     "output_type": "display_data"
    }
   ],
   "source": [
    "f_b = pl.figure(figsize=(2.5,2.5))\n",
    "ax  = pl.subplot(1,1,1)\n",
    "ax.scatter(x,y,s=1,edgecolor='None',c='purple',label='$z=0$')\n",
    "ax.set_xlim(0,100)\n",
    "ax.set_ylim(0,100)\n",
    "ax.axhline(50.0,linestyle='--',c='grey',lw=0.5,zorder=-10) # What do these lines do?\n",
    "ax.axvline(50.0,linestyle='--',c='grey',lw=0.5,zorder=-10)\n",
    "for i in [0,-1]:\n",
    "    pl.setp(ax.get_xticklabels()[i],visible=False)\n",
    "    pl.setp(ax.get_yticklabels()[i],visible=False)\n",
    "ax.set_xlabel(r'$\\alpha$') # What happens without the r at the start here?\n",
    "ax.set_ylabel(r'$\\delta$')\n",
    "\n",
    "pl.legend(loc='upper left',fontsize=8, frameon=False,scatterpoints=3,markerscale=2)\n",
    "\n",
    "# Save the figure as a png. To save in a differnt format, e.g. pdf, just change the extension!\n",
    "pl.savefig('my_scatter_plot.png',bbox_inches='tight',pad_inches=None)\n",
    "# Close the figure\n",
    "f.close();"
   ]
  },
  {
   "cell_type": "markdown",
   "metadata": {},
   "source": [
    "In a normal IPython you can also make plots interactively (one line at a time, rather than having to write out code for the whole plot each time as in the examples above). For this to work in a natural way, the easiest thing to do is to start IPython like this:\n",
    "```\n",
    "> ipython --pylab\n",
    "```\n",
    "With this option, all the commands in pyplot will be imported as if you'd written `from matplotlib.pyplot import *`, and the interactive plot windows will work as you might expect. So you can type:\n",
    "```\n",
    "In[ ] : plot([1,2,3,4])\n",
    "```\n",
    "and a window will pop up with the plot in it."
   ]
  },
  {
   "cell_type": "markdown",
   "metadata": {},
   "source": [
    "------\n",
    "*Further reading:*\n",
    "    - matplotlig.pyplot.savefig\n",
    "    - matplotlib.pyplot.imshow\n",
    "    - matplotlib.pyplot.hist\n",
    "    - matplotlib.pyplot.text"
   ]
  },
  {
   "cell_type": "markdown",
   "metadata": {},
   "source": [
    "# 6. Homework challenge"
   ]
  },
  {
   "cell_type": "markdown",
   "metadata": {},
   "source": [
    "Here is a data table, which we write to a file."
   ]
  },
  {
   "cell_type": "code",
   "execution_count": 28,
   "metadata": {
    "collapsed": false
   },
   "outputs": [
    {
     "name": "stdout",
     "output_type": "stream",
     "text": [
      "# Name  X       Y       counts     sigma (pixels)\r\n",
      "star    40      38      1e3         2\r\n",
      "star    50      80      1e4         2\r\n",
      "star    13.5    70      2e4         4\r\n",
      "star    80      22.3    5e5         3\r\n"
     ]
    }
   ],
   "source": [
    "data_file = \"\"\"# Name  X       Y       counts     sigma (pixels)\n",
    "star    40      38      1e3         2\n",
    "star    50      80      1e4         2\n",
    "star    13.5    70      2e4         4\n",
    "star    80      22.3    5e5         3\n",
    "\"\"\"\n",
    "with open('challenge_data.txt','w') as f:\n",
    "    f.write(data_file)\n",
    "\n",
    "!cat challenge_data.txt"
   ]
  },
  {
   "cell_type": "markdown",
   "metadata": {},
   "source": [
    "Each row in the file describes the image of a 'star' on a CCD with (NX,NY) = 100x100 pixels. These images are formed by counting individual photons, given by the 'counts' column (by the way, there is no optics, physics or real photon statistics in this problem at all). The probability distribution for each source is described by a Gaussian kernel around the point X,Y (in pixel coordinates, with 0,0 at the bottom left) with a dispersion given by the `sigma` column, in units of the CCD pixels.\n",
    "\n",
    "As well as these star images, the image should have a background of Poisson noise with mean 10 counts/pixel."
   ]
  },
  {
   "cell_type": "markdown",
   "metadata": {},
   "source": [
    "Write a program, `challenge.py`, that reads this table from the file, reports the total counts across the whole CCD and maximum count in a single pixel, and produces the following image of the CCD with the four stars on it, in `.png` format. **Note the the colour scale is showing the logarithm (base 10) of the counts.**"
   ]
  },
  {
   "cell_type": "markdown",
   "metadata": {},
   "source": [
    "```bash\n",
    "> python challenge.py challenge_data.txt\n",
    "```"
   ]
  },
  {
   "cell_type": "markdown",
   "metadata": {},
   "source": [
    "```\n",
    "Total counts:  6.311420e+05\n",
    "Maximum count: 8.714000e+03\n",
    "Wrote output to: /Users/andrew/python/tutorial2016/python-durham2017/examples/challenge.png\n",
    "```"
   ]
  },
  {
   "cell_type": "markdown",
   "metadata": {},
   "source": [
    "<img style=\"float: left;\" src=\"challenge.png\">"
   ]
  },
  {
   "cell_type": "markdown",
   "metadata": {},
   "source": [
    "You will probably need the following:\n",
    "\n",
    "- `numpy.histogram2d`\n",
    "- `matplotlib.pyplot.imshow`\n",
    "- A function (from `numpy`) to draw randomly from a 2D Gaussian distribution.\n",
    "- A similar function to draw from a Poisson distribution.\n",
    "- A `colorbar` (note the size of the colorbar relative to the plot in the example)\n",
    "\n",
    "The *colormap* is **viridis**. What is special about this colormap?\n",
    "\n",
    "The image should look the same if you make it twice.\n",
    "\n",
    "The orientation of the CCD might prove tricky. Read the documentation of `imshow` carefully.\n",
    "\n"
   ]
  }
 ],
 "metadata": {
  "anaconda-cloud": {},
  "kernelspec": {
   "display_name": "Python [default]",
   "language": "python",
   "name": "python2"
  },
  "language_info": {
   "codemirror_mode": {
    "name": "ipython",
    "version": 2
   },
   "file_extension": ".py",
   "mimetype": "text/x-python",
   "name": "python",
   "nbconvert_exporter": "python",
   "pygments_lexer": "ipython2",
   "version": "2.7.12"
  },
  "nbpresent": {
   "slides": {
    "01c466c9-505d-4818-80dd-e77a6a1089e4": {
     "id": "01c466c9-505d-4818-80dd-e77a6a1089e4",
     "prev": "fb425a68-d931-4921-b5b7-077e4f78e004",
     "regions": {
      "5cbbc1be-d439-40ec-8497-215079f2e204": {
       "attrs": {
        "height": 0.8,
        "width": 0.8,
        "x": 0.1,
        "y": 0.1
       },
       "content": {
        "cell": "e23e3d43-c225-49f0-b184-40635f728f5c",
        "part": "whole"
       },
       "id": "5cbbc1be-d439-40ec-8497-215079f2e204"
      }
     }
    },
    "02fca758-0667-472a-9cee-dafc55309e96": {
     "id": "02fca758-0667-472a-9cee-dafc55309e96",
     "prev": "a3143fec-95ac-4204-9c41-3f7c1be9e094",
     "regions": {
      "6e8002e1-bd4f-4e28-b98a-f6ee50681ccf": {
       "attrs": {
        "height": 0.8,
        "width": 0.8,
        "x": 0.1,
        "y": 0.1
       },
       "content": {
        "cell": "3fc647f5-2b9a-4f01-af86-d484165c4331",
        "part": "whole"
       },
       "id": "6e8002e1-bd4f-4e28-b98a-f6ee50681ccf"
      }
     }
    },
    "04535bd9-ef6b-4095-a475-2e40b181cc79": {
     "id": "04535bd9-ef6b-4095-a475-2e40b181cc79",
     "prev": "6bf5682e-0f31-4f09-9d04-c58875d896a5",
     "regions": {
      "5e19702f-965e-4462-9a79-5679742ddc64": {
       "attrs": {
        "height": 0.8,
        "width": 0.8,
        "x": 0.1,
        "y": 0.1
       },
       "content": {
        "cell": "bca9133f-ba7f-49d9-8663-de9243a20550",
        "part": "whole"
       },
       "id": "5e19702f-965e-4462-9a79-5679742ddc64"
      }
     }
    },
    "081b35b1-4b5b-403f-aa2f-f19d1106569f": {
     "id": "081b35b1-4b5b-403f-aa2f-f19d1106569f",
     "prev": "7d5052df-c1de-4c51-ac15-3f1b186b248b",
     "regions": {
      "6f97c446-7fb3-4c58-ab57-d57f35ea87a5": {
       "attrs": {
        "height": 0.8,
        "width": 0.8,
        "x": 0.1,
        "y": 0.1
       },
       "content": {
        "cell": "079bcc66-8ec5-451d-9ed9-f86f95ad6d19",
        "part": "whole"
       },
       "id": "6f97c446-7fb3-4c58-ab57-d57f35ea87a5"
      }
     }
    },
    "08a18291-19a0-4ca6-a227-4dca5c0d2931": {
     "id": "08a18291-19a0-4ca6-a227-4dca5c0d2931",
     "prev": "763445e1-603d-44d6-a208-22f8826309aa",
     "regions": {
      "60cc01ab-dc25-4d34-907d-4abd8a0fde8e": {
       "attrs": {
        "height": 0.8,
        "width": 0.8,
        "x": 0.1,
        "y": 0.1
       },
       "content": {
        "cell": "f623ef64-9074-419e-b2f0-9f7953d24a06",
        "part": "whole"
       },
       "id": "60cc01ab-dc25-4d34-907d-4abd8a0fde8e"
      }
     }
    },
    "08ed2649-9be1-44c4-ba23-de77cdd8c86a": {
     "id": "08ed2649-9be1-44c4-ba23-de77cdd8c86a",
     "prev": "45fa2dda-34c5-4624-ac5d-cfc5f3d548c3",
     "regions": {
      "1b4ece70-01c5-47b8-86a1-cccc4df87608": {
       "attrs": {
        "height": 0.8,
        "width": 0.8,
        "x": 0.1,
        "y": 0.1
       },
       "content": {
        "cell": "7c485f22-a5e7-4a03-8c76-064ad09369bb",
        "part": "whole"
       },
       "id": "1b4ece70-01c5-47b8-86a1-cccc4df87608"
      }
     }
    },
    "0947878a-d607-4a36-9685-bd4178b6ce3c": {
     "id": "0947878a-d607-4a36-9685-bd4178b6ce3c",
     "prev": "e199be0b-0af9-4f49-87d7-2ae0ac2dfe42",
     "regions": {
      "a3d940a0-a47e-4e01-8709-bcd27faed536": {
       "attrs": {
        "height": 0.8,
        "width": 0.8,
        "x": 0.1,
        "y": 0.1
       },
       "content": {
        "cell": "82050072-d792-4642-b30b-0d400fe331c6",
        "part": "whole"
       },
       "id": "a3d940a0-a47e-4e01-8709-bcd27faed536"
      }
     }
    },
    "09eef099-67b0-4a41-a27e-b4d4a3046eda": {
     "id": "09eef099-67b0-4a41-a27e-b4d4a3046eda",
     "prev": "9f7cf2be-8caa-479f-b0f2-33670ce5f15f",
     "regions": {
      "20ff61af-baa3-4bd6-af1c-6e26621301b6": {
       "attrs": {
        "height": 0.8,
        "width": 0.8,
        "x": 0.1,
        "y": 0.1
       },
       "content": {
        "cell": "aa343325-c5f8-48b6-bc56-cf33a422a46d",
        "part": "whole"
       },
       "id": "20ff61af-baa3-4bd6-af1c-6e26621301b6"
      }
     }
    },
    "0c4761fa-af5a-4eb5-8bff-e73e94f8b31f": {
     "id": "0c4761fa-af5a-4eb5-8bff-e73e94f8b31f",
     "prev": "732bf0d6-fe60-46e6-b863-2d299f834c36",
     "regions": {
      "a41e8549-18cb-467f-9c8b-b96a704c93bf": {
       "attrs": {
        "height": 0.8,
        "width": 0.8,
        "x": 0.1,
        "y": 0.1
       },
       "content": {
        "cell": "82bbf45f-84ef-43b1-ab78-21cdb0b05bb9",
        "part": "whole"
       },
       "id": "a41e8549-18cb-467f-9c8b-b96a704c93bf"
      }
     }
    },
    "0cdfcce0-0391-4095-b402-5cfd6b9aa2f7": {
     "id": "0cdfcce0-0391-4095-b402-5cfd6b9aa2f7",
     "prev": "c03c2fe4-14a9-4a69-8033-41295af1e554",
     "regions": {
      "dc9e2d61-92f2-4002-9152-ae9094e9376c": {
       "attrs": {
        "height": 0.8,
        "width": 0.8,
        "x": 0.1,
        "y": 0.1
       },
       "content": {
        "cell": "e7b463a7-55af-41cc-90fd-9ac5b1a8ca51",
        "part": "whole"
       },
       "id": "dc9e2d61-92f2-4002-9152-ae9094e9376c"
      }
     }
    },
    "0d0068f3-6f23-4613-8292-ed0f7856e410": {
     "id": "0d0068f3-6f23-4613-8292-ed0f7856e410",
     "prev": "a9dda65f-83e2-40e9-9c1d-3fcdf2fabd73",
     "regions": {
      "7da9b47e-d452-4bff-849f-4b500688d674": {
       "attrs": {
        "height": 0.8,
        "width": 0.8,
        "x": 0.1,
        "y": 0.1
       },
       "content": {
        "cell": "ffdc37a1-2820-428b-9956-8efa42dc9da9",
        "part": "whole"
       },
       "id": "7da9b47e-d452-4bff-849f-4b500688d674"
      }
     }
    },
    "0dcd59fb-40a4-4ce8-a19a-3a2c1d41aeb8": {
     "id": "0dcd59fb-40a4-4ce8-a19a-3a2c1d41aeb8",
     "prev": "ca0e315e-0f45-467d-81ca-2c88a93ce8f3",
     "regions": {
      "25e0dec8-6302-4eb0-b3c4-87c45711503f": {
       "attrs": {
        "height": 0.8,
        "width": 0.8,
        "x": 0.1,
        "y": 0.1
       },
       "content": {
        "cell": "9447cc6f-37cb-41ac-93fe-1edb0b4914d5",
        "part": "whole"
       },
       "id": "25e0dec8-6302-4eb0-b3c4-87c45711503f"
      }
     }
    },
    "0e21f4de-57ed-4b46-bca8-5192019cc3de": {
     "id": "0e21f4de-57ed-4b46-bca8-5192019cc3de",
     "prev": "311f5b54-3176-4541-aced-4b3776ed2b75",
     "regions": {
      "41f7ca36-7051-41fb-9750-e816ee2cf268": {
       "attrs": {
        "height": 0.8,
        "width": 0.8,
        "x": 0.1,
        "y": 0.1
       },
       "content": {
        "cell": "e2c36236-f396-4b78-835b-7798c429aa4e",
        "part": "whole"
       },
       "id": "41f7ca36-7051-41fb-9750-e816ee2cf268"
      }
     }
    },
    "0e660068-d5de-4bf4-8003-d1819007ff2b": {
     "id": "0e660068-d5de-4bf4-8003-d1819007ff2b",
     "prev": "08a18291-19a0-4ca6-a227-4dca5c0d2931",
     "regions": {
      "b030e35f-de3a-40d2-9867-640954fb429a": {
       "attrs": {
        "height": 0.8,
        "width": 0.8,
        "x": 0.1,
        "y": 0.1
       },
       "content": {
        "cell": "35d0ad51-cd62-41d1-915c-7f37bb7e4014",
        "part": "whole"
       },
       "id": "b030e35f-de3a-40d2-9867-640954fb429a"
      }
     }
    },
    "0ee2c0b0-263d-468b-9e53-7ffd79657964": {
     "id": "0ee2c0b0-263d-468b-9e53-7ffd79657964",
     "prev": "96c5cd35-0228-4cff-bf22-28a498e1a708",
     "regions": {
      "af0a2f10-e8c9-47f9-b6a7-6883ab184fa1": {
       "attrs": {
        "height": 0.8,
        "width": 0.8,
        "x": 0.1,
        "y": 0.1
       },
       "content": {
        "cell": "7a1c859d-8a0a-4fed-8231-36af6d08ba77",
        "part": "whole"
       },
       "id": "af0a2f10-e8c9-47f9-b6a7-6883ab184fa1"
      }
     }
    },
    "0f91ec57-0bdf-4dcb-96e5-cde750ee66d6": {
     "id": "0f91ec57-0bdf-4dcb-96e5-cde750ee66d6",
     "prev": "6c2f6ae4-f6d2-4394-a9ff-5b5e5e2a815a",
     "regions": {
      "3dea7615-051d-4ead-a612-1dab659e422c": {
       "attrs": {
        "height": 0.8,
        "width": 0.8,
        "x": 0.1,
        "y": 0.1
       },
       "content": {
        "cell": "ecfd10db-731d-44f8-8f90-a930ccf425b6",
        "part": "whole"
       },
       "id": "3dea7615-051d-4ead-a612-1dab659e422c"
      }
     }
    },
    "116ba7c2-76f3-4c40-b550-2ffebdeb625f": {
     "id": "116ba7c2-76f3-4c40-b550-2ffebdeb625f",
     "prev": "7e55f2b4-90c4-48f9-a300-20884b391521",
     "regions": {
      "df44c1d0-081e-4a26-9e09-a1b12f104ae6": {
       "attrs": {
        "height": 0.8,
        "width": 0.8,
        "x": 0.1,
        "y": 0.1
       },
       "content": {
        "cell": "b4169cb3-534f-41b3-87bb-ba5a51ac7cec",
        "part": "whole"
       },
       "id": "df44c1d0-081e-4a26-9e09-a1b12f104ae6"
      }
     }
    },
    "12b115a9-4c2f-464d-ba7b-7ea133dcc798": {
     "id": "12b115a9-4c2f-464d-ba7b-7ea133dcc798",
     "prev": "360ce0ec-a3a8-43a3-b10e-e1c7dfb5b121",
     "regions": {
      "8dcec4e1-363a-43cf-8db0-8a38dc310893": {
       "attrs": {
        "height": 0.8,
        "width": 0.8,
        "x": 0.1,
        "y": 0.1
       },
       "content": {
        "cell": "edb44895-c619-4495-bc5a-762a062eaafe",
        "part": "whole"
       },
       "id": "8dcec4e1-363a-43cf-8db0-8a38dc310893"
      }
     }
    },
    "1573e586-87cc-4fbc-a505-3386f7fc697b": {
     "id": "1573e586-87cc-4fbc-a505-3386f7fc697b",
     "prev": "1bff161c-4355-4734-8b48-f19bb1bc058a",
     "regions": {
      "249f5207-4a49-4b1b-a334-13ff8067c00e": {
       "attrs": {
        "height": 0.8,
        "width": 0.8,
        "x": 0.1,
        "y": 0.1
       },
       "content": {
        "cell": "6236e799-97c3-4992-9ebf-959f6c81e844",
        "part": "whole"
       },
       "id": "249f5207-4a49-4b1b-a334-13ff8067c00e"
      }
     }
    },
    "1637ad4f-478d-4c44-b323-62889ee6d909": {
     "id": "1637ad4f-478d-4c44-b323-62889ee6d909",
     "prev": "4ec78a18-3afc-42be-b9b2-b5ece19bf4ba",
     "regions": {
      "2e649609-ce72-49b2-ba13-53cc3e29dd3a": {
       "attrs": {
        "height": 0.8,
        "width": 0.8,
        "x": 0.1,
        "y": 0.1
       },
       "content": {
        "cell": "e955bfff-32f0-4ac2-9203-99af3be557da",
        "part": "whole"
       },
       "id": "2e649609-ce72-49b2-ba13-53cc3e29dd3a"
      }
     }
    },
    "1792a4cb-c7d4-47e6-ae6f-a31ce256a5c5": {
     "id": "1792a4cb-c7d4-47e6-ae6f-a31ce256a5c5",
     "prev": "879f0091-dfa6-468a-b04f-cec14c89412f",
     "regions": {
      "916e50f4-0d57-467c-b03a-64838f4f5440": {
       "attrs": {
        "height": 0.8,
        "width": 0.8,
        "x": 0.1,
        "y": 0.1
       },
       "content": {
        "cell": "d00b7776-c4b0-40f6-9e2a-6bfd3241eb34",
        "part": "whole"
       },
       "id": "916e50f4-0d57-467c-b03a-64838f4f5440"
      }
     }
    },
    "1a5cd7ef-7430-4ca2-ba22-a2d74761db3c": {
     "id": "1a5cd7ef-7430-4ca2-ba22-a2d74761db3c",
     "prev": "ae58b0be-9c35-45a7-adb1-62b375d78d7c",
     "regions": {
      "2b3fd072-002c-424c-9bfb-841b9f106a77": {
       "attrs": {
        "height": 0.8,
        "width": 0.8,
        "x": 0.1,
        "y": 0.1
       },
       "content": {
        "cell": "9bcb3dcb-5cbd-491a-8d78-37db303486ce",
        "part": "whole"
       },
       "id": "2b3fd072-002c-424c-9bfb-841b9f106a77"
      }
     }
    },
    "1bff161c-4355-4734-8b48-f19bb1bc058a": {
     "id": "1bff161c-4355-4734-8b48-f19bb1bc058a",
     "prev": "4c2f549a-bddd-40c2-9d76-e5270b36a01c",
     "regions": {
      "5d98d0ab-695a-4903-ad70-a0763546f608": {
       "attrs": {
        "height": 0.8,
        "width": 0.8,
        "x": 0.1,
        "y": 0.1
       },
       "content": {
        "cell": "919c9047-1afd-4bc3-a0eb-d1eb16f13f10",
        "part": "whole"
       },
       "id": "5d98d0ab-695a-4903-ad70-a0763546f608"
      }
     }
    },
    "1c291a10-e5fb-4cf9-9b78-f89436181a4a": {
     "id": "1c291a10-e5fb-4cf9-9b78-f89436181a4a",
     "prev": "370ec599-f501-446d-8882-aada6759ea7a",
     "regions": {
      "d803bb1d-a160-432b-8142-a85e219c24e6": {
       "attrs": {
        "height": 0.8,
        "width": 0.8,
        "x": 0.1,
        "y": 0.1
       },
       "content": {
        "cell": "235c10d5-4b37-4962-9be7-eef78eb49d57",
        "part": "whole"
       },
       "id": "d803bb1d-a160-432b-8142-a85e219c24e6"
      }
     }
    },
    "1ca5354a-6d5b-4bc9-8959-7bfa0f4f7f8d": {
     "id": "1ca5354a-6d5b-4bc9-8959-7bfa0f4f7f8d",
     "prev": "2d4d0931-cd2a-43d3-ac0d-830e080d6b4e",
     "regions": {
      "6b88be86-35ee-413a-a597-f6f3d61ba2e9": {
       "attrs": {
        "height": 0.8,
        "width": 0.8,
        "x": 0.1,
        "y": 0.1
       },
       "content": {
        "cell": "9aed49aa-29dc-4579-9d85-96b1e0e7581f",
        "part": "whole"
       },
       "id": "6b88be86-35ee-413a-a597-f6f3d61ba2e9"
      }
     }
    },
    "206bc849-90a2-43db-827b-1231f5c07a8e": {
     "id": "206bc849-90a2-43db-827b-1231f5c07a8e",
     "prev": "7baf36d0-df46-46e8-b081-9e6d0f2a4daf",
     "regions": {
      "c9b01e60-86f2-4474-93dc-7f4da7e9c6c6": {
       "attrs": {
        "height": 0.8,
        "width": 0.8,
        "x": 0.1,
        "y": 0.1
       },
       "content": {
        "cell": "d9b098b3-2006-4193-b72f-7b44b422b4d9",
        "part": "whole"
       },
       "id": "c9b01e60-86f2-4474-93dc-7f4da7e9c6c6"
      }
     }
    },
    "20a841d0-a1e7-43e9-b71c-7843d54a68e5": {
     "id": "20a841d0-a1e7-43e9-b71c-7843d54a68e5",
     "prev": "f773a670-a49c-4751-94a2-e9cbd9a4b83c",
     "regions": {
      "94e4ed5a-c7d2-46a6-ad6e-19fe4998bfe8": {
       "attrs": {
        "height": 0.8,
        "width": 0.8,
        "x": 0.1,
        "y": 0.1
       },
       "content": {
        "cell": "2e865e2e-db67-4b81-a0a2-3f9d9f59f91a",
        "part": "whole"
       },
       "id": "94e4ed5a-c7d2-46a6-ad6e-19fe4998bfe8"
      }
     }
    },
    "23a86cbe-cf31-4fe0-bd5f-3110acc1ae1e": {
     "id": "23a86cbe-cf31-4fe0-bd5f-3110acc1ae1e",
     "prev": "5d182c7d-9381-4688-889f-3cd8539ea105",
     "regions": {
      "8cab6a80-6494-4766-9ab9-68576af425d7": {
       "attrs": {
        "height": 0.8,
        "width": 0.8,
        "x": 0.1,
        "y": 0.1
       },
       "content": {
        "cell": "8a31168c-d620-497f-99f5-98e128e6d9c6",
        "part": "whole"
       },
       "id": "8cab6a80-6494-4766-9ab9-68576af425d7"
      }
     }
    },
    "24441077-d25b-4e28-bc39-b63cb04d3b79": {
     "id": "24441077-d25b-4e28-bc39-b63cb04d3b79",
     "prev": "50b399a5-cf14-41ef-a883-64680923635f",
     "regions": {
      "499dc2f6-ea63-4171-9fab-2b2d9f55f60e": {
       "attrs": {
        "height": 0.8,
        "width": 0.8,
        "x": 0.1,
        "y": 0.1
       },
       "content": {
        "cell": "7160a6c6-4f93-4c0c-a10f-41f2c3e3366a",
        "part": "whole"
       },
       "id": "499dc2f6-ea63-4171-9fab-2b2d9f55f60e"
      }
     }
    },
    "24a1ceca-785a-499d-a8ae-bc02041b5da9": {
     "id": "24a1ceca-785a-499d-a8ae-bc02041b5da9",
     "prev": "02fca758-0667-472a-9cee-dafc55309e96",
     "regions": {
      "c29f31da-d8f9-4090-917e-22707efa55de": {
       "attrs": {
        "height": 0.8,
        "width": 0.8,
        "x": 0.1,
        "y": 0.1
       },
       "content": {
        "cell": "17f62e3f-0919-4174-99ee-0aa75829e702",
        "part": "whole"
       },
       "id": "c29f31da-d8f9-4090-917e-22707efa55de"
      }
     }
    },
    "257637b3-dacc-4990-924d-13a83aa532f4": {
     "id": "257637b3-dacc-4990-924d-13a83aa532f4",
     "prev": "369bcfc5-dfde-43a7-aff2-c5aea711f46a",
     "regions": {
      "8512a99a-9916-456e-b158-86cfe2714d40": {
       "attrs": {
        "height": 0.8,
        "width": 0.8,
        "x": 0.1,
        "y": 0.1
       },
       "content": {
        "cell": "cf1b51c8-e693-4807-a1fc-a69e1fe109dc",
        "part": "whole"
       },
       "id": "8512a99a-9916-456e-b158-86cfe2714d40"
      }
     }
    },
    "26ab6037-df3d-4032-9de1-f1bed1716844": {
     "id": "26ab6037-df3d-4032-9de1-f1bed1716844",
     "prev": "2ddc8712-a888-4fd3-975c-1e6568506f7d",
     "regions": {
      "d69ce478-d771-4677-a6de-874b029c6030": {
       "attrs": {
        "height": 0.8,
        "width": 0.8,
        "x": 0.1,
        "y": 0.1
       },
       "content": {
        "cell": "c17f38c1-d562-4d34-ab3a-ec511561f943",
        "part": "whole"
       },
       "id": "d69ce478-d771-4677-a6de-874b029c6030"
      }
     }
    },
    "26c57f6a-c921-4490-93cd-77b3c79b1991": {
     "id": "26c57f6a-c921-4490-93cd-77b3c79b1991",
     "prev": "913c57a8-a954-4bcd-8980-31473d1b511d",
     "regions": {
      "53025e82-f588-4e9d-b3f5-8e5eb0581ee1": {
       "attrs": {
        "height": 0.8,
        "width": 0.8,
        "x": 0.1,
        "y": 0.1
       },
       "content": {
        "cell": "a0ce3b97-0ee9-45d9-9917-a96022864208",
        "part": "whole"
       },
       "id": "53025e82-f588-4e9d-b3f5-8e5eb0581ee1"
      }
     }
    },
    "26dcc28f-375f-48bd-97a2-0c36e012ab22": {
     "id": "26dcc28f-375f-48bd-97a2-0c36e012ab22",
     "prev": "7f8587d6-5ece-4a83-bbc1-c9a7cbd17626",
     "regions": {
      "3965e5fa-d5fe-4dc6-8221-37a9055cc1d3": {
       "attrs": {
        "height": 0.8,
        "width": 0.8,
        "x": 0.1,
        "y": 0.1
       },
       "content": {
        "cell": "aabd9ce3-0088-4179-be07-1a7fd632508f",
        "part": "whole"
       },
       "id": "3965e5fa-d5fe-4dc6-8221-37a9055cc1d3"
      }
     }
    },
    "27b2736b-6142-4a8a-a5c6-aeb903512f12": {
     "id": "27b2736b-6142-4a8a-a5c6-aeb903512f12",
     "prev": "fb05f6ad-bffc-462e-86af-c08787dba5cf",
     "regions": {
      "750ad5b2-9fd2-421b-8383-d6ba2eeafdf9": {
       "attrs": {
        "height": 0.8,
        "width": 0.8,
        "x": 0.1,
        "y": 0.1
       },
       "content": {
        "cell": "6af79bf0-8d07-48da-b5ae-8ea48cd6786e",
        "part": "whole"
       },
       "id": "750ad5b2-9fd2-421b-8383-d6ba2eeafdf9"
      }
     }
    },
    "28e29ed6-6684-44e7-8423-5ac21aade69d": {
     "id": "28e29ed6-6684-44e7-8423-5ac21aade69d",
     "prev": "4b4dd388-6515-4e58-bd19-3e391d867fd2",
     "regions": {
      "b752d836-71b7-4298-8fea-1e0192b29a9d": {
       "attrs": {
        "height": 0.8,
        "width": 0.8,
        "x": 0.1,
        "y": 0.1
       },
       "content": {
        "cell": "85bb4dc8-0795-44bc-98ce-21067ba6eee9",
        "part": "whole"
       },
       "id": "b752d836-71b7-4298-8fea-1e0192b29a9d"
      }
     }
    },
    "2d3137e4-774e-4e59-bf37-c85a7cdf539a": {
     "id": "2d3137e4-774e-4e59-bf37-c85a7cdf539a",
     "prev": "d33ff74c-27e0-48f8-807a-8e564035e50b",
     "regions": {
      "6dd379d1-6378-4923-979e-1fbc09779b99": {
       "attrs": {
        "height": 0.8,
        "width": 0.8,
        "x": 0.1,
        "y": 0.1
       },
       "content": {
        "cell": "58cf50e6-f01c-4033-bc80-f699541c5a6d",
        "part": "whole"
       },
       "id": "6dd379d1-6378-4923-979e-1fbc09779b99"
      }
     }
    },
    "2d4d0931-cd2a-43d3-ac0d-830e080d6b4e": {
     "id": "2d4d0931-cd2a-43d3-ac0d-830e080d6b4e",
     "prev": "37ab7529-9ffc-44cb-8297-4d9975563c30",
     "regions": {
      "c1924ca9-540c-4ff3-8a8b-5d6dc64e26f0": {
       "attrs": {
        "height": 0.8,
        "width": 0.8,
        "x": 0.1,
        "y": 0.1
       },
       "content": {
        "cell": "ef34df18-a3f8-4939-9945-b6c2a4fa6c72",
        "part": "whole"
       },
       "id": "c1924ca9-540c-4ff3-8a8b-5d6dc64e26f0"
      }
     }
    },
    "2ddc8712-a888-4fd3-975c-1e6568506f7d": {
     "id": "2ddc8712-a888-4fd3-975c-1e6568506f7d",
     "prev": "9c1b74df-b2d1-4028-a019-c11cee217f49",
     "regions": {
      "36cceefa-f382-4748-a85e-06fe04bf1103": {
       "attrs": {
        "height": 0.8,
        "width": 0.8,
        "x": 0.1,
        "y": 0.1
       },
       "content": {
        "cell": "95e6bb9d-ba1f-4363-825b-0d0c67409ff5",
        "part": "whole"
       },
       "id": "36cceefa-f382-4748-a85e-06fe04bf1103"
      }
     }
    },
    "2ddf67d5-b63b-47c3-88fa-f356d57dc5d1": {
     "id": "2ddf67d5-b63b-47c3-88fa-f356d57dc5d1",
     "prev": "dff4d689-bb4e-43ca-9bc2-6470ca1f96ef",
     "regions": {
      "2944e5c1-7f66-4648-ab43-a003591d0109": {
       "attrs": {
        "height": 0.8,
        "width": 0.8,
        "x": 0.1,
        "y": 0.1
       },
       "content": {
        "cell": "fc067995-7346-46a1-b0b1-4f51beafb276",
        "part": "whole"
       },
       "id": "2944e5c1-7f66-4648-ab43-a003591d0109"
      }
     }
    },
    "311f5b54-3176-4541-aced-4b3776ed2b75": {
     "id": "311f5b54-3176-4541-aced-4b3776ed2b75",
     "prev": "a38dd62d-998c-42d1-a8b7-31e909a93e7e",
     "regions": {
      "4a4a8611-218d-49a7-9c78-e9e3bf469869": {
       "attrs": {
        "height": 0.8,
        "width": 0.8,
        "x": 0.1,
        "y": 0.1
       },
       "content": {
        "cell": "5961f523-544f-4544-9ec9-ab541b3dfae1",
        "part": "whole"
       },
       "id": "4a4a8611-218d-49a7-9c78-e9e3bf469869"
      }
     }
    },
    "3236259e-9718-4eb6-9bb6-a1949ddc969a": {
     "id": "3236259e-9718-4eb6-9bb6-a1949ddc969a",
     "prev": "dd1b0eb1-2ecd-4cb5-b31d-fb37f261bf7d",
     "regions": {
      "6eb63c3a-fc14-452f-88bb-260e5de125da": {
       "attrs": {
        "height": 0.8,
        "width": 0.8,
        "x": 0.1,
        "y": 0.1
       },
       "content": {
        "cell": "d5bb3826-f989-49e1-a7c9-ff211e8d7212",
        "part": "whole"
       },
       "id": "6eb63c3a-fc14-452f-88bb-260e5de125da"
      }
     }
    },
    "329163e0-0f30-4ed0-8c96-d79f8c645a18": {
     "id": "329163e0-0f30-4ed0-8c96-d79f8c645a18",
     "prev": null,
     "regions": {
      "fb4994db-9a1b-45ea-b5b6-68a77d9dbdc4": {
       "attrs": {
        "height": 0.8,
        "width": 0.8,
        "x": 0.1,
        "y": 0.1
       },
       "content": {
        "cell": "55418107-5dfc-4e05-8510-c6f24170e522",
        "part": "whole"
       },
       "id": "fb4994db-9a1b-45ea-b5b6-68a77d9dbdc4"
      }
     }
    },
    "32b90e1b-aa9f-4ae1-912f-dcf04e17b610": {
     "id": "32b90e1b-aa9f-4ae1-912f-dcf04e17b610",
     "prev": "6ac33898-ba06-4cc3-a0e9-a157d86f7351",
     "regions": {
      "3a00f5ac-69e9-417e-921b-3943d57bdc1f": {
       "attrs": {
        "height": 0.8,
        "width": 0.8,
        "x": 0.1,
        "y": 0.1
       },
       "content": {
        "cell": "a8de09f5-0319-4fa3-99fc-7e58363e5013",
        "part": "whole"
       },
       "id": "3a00f5ac-69e9-417e-921b-3943d57bdc1f"
      }
     }
    },
    "332263da-55f7-4d38-8723-b68e53c37d52": {
     "id": "332263da-55f7-4d38-8723-b68e53c37d52",
     "prev": "bdf7a5f0-b096-46b3-9039-ac955be06f44",
     "regions": {
      "6593decf-93fb-4d80-8236-27ba31d8927f": {
       "attrs": {
        "height": 0.8,
        "width": 0.8,
        "x": 0.1,
        "y": 0.1
       },
       "content": {
        "cell": "a3a75ba6-14f3-493d-bda2-01b714403b1a",
        "part": "whole"
       },
       "id": "6593decf-93fb-4d80-8236-27ba31d8927f"
      }
     }
    },
    "3477fc1d-0b40-49d0-a889-0d230435ce98": {
     "id": "3477fc1d-0b40-49d0-a889-0d230435ce98",
     "prev": "440fa3f4-6ffa-4665-ac6f-bcb70348311d",
     "regions": {
      "ac1bfe4a-5931-4579-917b-9dacac3a6aae": {
       "attrs": {
        "height": 0.8,
        "width": 0.8,
        "x": 0.1,
        "y": 0.1
       },
       "content": {
        "cell": "9dd7484e-d2b9-44c5-8325-a73c5b7fc27d",
        "part": "whole"
       },
       "id": "ac1bfe4a-5931-4579-917b-9dacac3a6aae"
      }
     }
    },
    "359a6de6-4a17-46c3-b4f0-7f4241ca7fce": {
     "id": "359a6de6-4a17-46c3-b4f0-7f4241ca7fce",
     "prev": "8bcaf737-a0c9-407e-9cf6-b669e559b8df",
     "regions": {
      "48006895-8850-44fa-8d33-2f17667ef88b": {
       "attrs": {
        "height": 0.8,
        "width": 0.8,
        "x": 0.1,
        "y": 0.1
       },
       "content": {
        "cell": "dbfa89a9-5fc8-41b6-a8ad-816304215cbe",
        "part": "whole"
       },
       "id": "48006895-8850-44fa-8d33-2f17667ef88b"
      }
     }
    },
    "360ce0ec-a3a8-43a3-b10e-e1c7dfb5b121": {
     "id": "360ce0ec-a3a8-43a3-b10e-e1c7dfb5b121",
     "prev": "1ca5354a-6d5b-4bc9-8959-7bfa0f4f7f8d",
     "regions": {
      "e652381d-c5eb-45b3-8ebe-42d7acd575f1": {
       "attrs": {
        "height": 0.8,
        "width": 0.8,
        "x": 0.1,
        "y": 0.1
       },
       "content": {
        "cell": "37e95fc6-8cc1-4eb1-bf65-3e6de1c95406",
        "part": "whole"
       },
       "id": "e652381d-c5eb-45b3-8ebe-42d7acd575f1"
      }
     }
    },
    "369bcfc5-dfde-43a7-aff2-c5aea711f46a": {
     "id": "369bcfc5-dfde-43a7-aff2-c5aea711f46a",
     "prev": "f7897302-728c-4292-9e8b-b336c68cd2d1",
     "regions": {
      "cd9df000-e076-4852-acf7-7c882ec3266d": {
       "attrs": {
        "height": 0.8,
        "width": 0.8,
        "x": 0.1,
        "y": 0.1
       },
       "content": {
        "cell": "91eec441-c016-4250-8db3-040ec7f15656",
        "part": "whole"
       },
       "id": "cd9df000-e076-4852-acf7-7c882ec3266d"
      }
     }
    },
    "3700475a-6cd3-4052-bccc-c936f49ac1c6": {
     "id": "3700475a-6cd3-4052-bccc-c936f49ac1c6",
     "prev": "6add932f-8b62-4aec-9f29-5368e4a0ec05",
     "regions": {
      "1d729b51-5616-46cf-a7a0-6daafcfba6aa": {
       "attrs": {
        "height": 0.8,
        "width": 0.8,
        "x": 0.1,
        "y": 0.1
       },
       "content": {
        "cell": "2166c3f8-a79f-4d6b-858e-199f8d84ca13",
        "part": "whole"
       },
       "id": "1d729b51-5616-46cf-a7a0-6daafcfba6aa"
      }
     }
    },
    "370ec599-f501-446d-8882-aada6759ea7a": {
     "id": "370ec599-f501-446d-8882-aada6759ea7a",
     "prev": "26ab6037-df3d-4032-9de1-f1bed1716844",
     "regions": {
      "9e2000a2-be4f-47d5-97aa-4b94b993fe38": {
       "attrs": {
        "height": 0.8,
        "width": 0.8,
        "x": 0.1,
        "y": 0.1
       },
       "content": {
        "cell": "97cc78b6-ac2c-42f7-86a9-1ccfa24a3ad5",
        "part": "whole"
       },
       "id": "9e2000a2-be4f-47d5-97aa-4b94b993fe38"
      }
     }
    },
    "37319440-43ee-4d26-8836-4cd83299aa75": {
     "id": "37319440-43ee-4d26-8836-4cd83299aa75",
     "prev": "3a4fa4fd-b1c8-4df1-877c-c33c3087807c",
     "regions": {
      "49d3f9d5-d485-4869-b498-a997ddf5298c": {
       "attrs": {
        "height": 0.8,
        "width": 0.8,
        "x": 0.1,
        "y": 0.1
       },
       "content": {
        "cell": "0f6c7292-302c-42c4-8782-8855b468416c",
        "part": "whole"
       },
       "id": "49d3f9d5-d485-4869-b498-a997ddf5298c"
      }
     }
    },
    "37ab7529-9ffc-44cb-8297-4d9975563c30": {
     "id": "37ab7529-9ffc-44cb-8297-4d9975563c30",
     "prev": "83cd31ff-62e0-4ec4-b6bf-4c7fe1a03db6",
     "regions": {
      "451252f1-7ac4-4c2e-abd2-bef201afcfd2": {
       "attrs": {
        "height": 0.8,
        "width": 0.8,
        "x": 0.1,
        "y": 0.1
       },
       "content": {
        "cell": "3b4501f2-4e97-4708-8f57-9d774d74e64b",
        "part": "whole"
       },
       "id": "451252f1-7ac4-4c2e-abd2-bef201afcfd2"
      }
     }
    },
    "37f57ce6-e47f-4e9d-a004-b671e930e9d1": {
     "id": "37f57ce6-e47f-4e9d-a004-b671e930e9d1",
     "prev": "d76fd7e0-60be-49a2-8d1e-3c1922d9704e",
     "regions": {
      "83644deb-f633-4de3-83aa-2754313181c8": {
       "attrs": {
        "height": 0.8,
        "width": 0.8,
        "x": 0.1,
        "y": 0.1
       },
       "content": {
        "cell": "6fde83b3-7276-41a6-a215-16013c5de921",
        "part": "whole"
       },
       "id": "83644deb-f633-4de3-83aa-2754313181c8"
      }
     }
    },
    "38122040-3d10-487d-a747-8b3239313135": {
     "id": "38122040-3d10-487d-a747-8b3239313135",
     "prev": "6f37e1ea-7c02-4832-8b83-79d3e51a43a5",
     "regions": {
      "091a3214-999b-4c38-9acd-fef814f3fa53": {
       "attrs": {
        "height": 0.8,
        "width": 0.8,
        "x": 0.1,
        "y": 0.1
       },
       "content": {
        "cell": "b6f8908c-ec53-4292-92e7-2fb3b946c124",
        "part": "whole"
       },
       "id": "091a3214-999b-4c38-9acd-fef814f3fa53"
      }
     }
    },
    "39c26525-3859-4d62-9b25-95fa04c21283": {
     "id": "39c26525-3859-4d62-9b25-95fa04c21283",
     "prev": "1573e586-87cc-4fbc-a505-3386f7fc697b",
     "regions": {
      "4490c3ff-6cbc-4793-85fe-08671c78c03b": {
       "attrs": {
        "height": 0.8,
        "width": 0.8,
        "x": 0.1,
        "y": 0.1
       },
       "content": {
        "cell": "7fb3fe44-be9c-4f53-bb18-2ad15b5e15a3",
        "part": "whole"
       },
       "id": "4490c3ff-6cbc-4793-85fe-08671c78c03b"
      }
     }
    },
    "3a4fa4fd-b1c8-4df1-877c-c33c3087807c": {
     "id": "3a4fa4fd-b1c8-4df1-877c-c33c3087807c",
     "prev": "9dec4584-0aae-454a-b040-0411b88773b0",
     "regions": {
      "903f12f5-202b-47d9-b10f-7ad66c0643f1": {
       "attrs": {
        "height": 0.8,
        "width": 0.8,
        "x": 0.1,
        "y": 0.1
       },
       "content": {
        "cell": "92f1c944-022a-49f7-8738-9564875e4f18",
        "part": "whole"
       },
       "id": "903f12f5-202b-47d9-b10f-7ad66c0643f1"
      }
     }
    },
    "440fa3f4-6ffa-4665-ac6f-bcb70348311d": {
     "id": "440fa3f4-6ffa-4665-ac6f-bcb70348311d",
     "prev": "4e37415e-8b33-4e5c-b018-7d501e8c29ab",
     "regions": {
      "93da708e-1280-4969-abb8-06759b19c128": {
       "attrs": {
        "height": 0.8,
        "width": 0.8,
        "x": 0.1,
        "y": 0.1
       },
       "content": {
        "cell": "ba3981bb-0b58-4891-a83d-ee29eac08055",
        "part": "whole"
       },
       "id": "93da708e-1280-4969-abb8-06759b19c128"
      }
     }
    },
    "45fa2dda-34c5-4624-ac5d-cfc5f3d548c3": {
     "id": "45fa2dda-34c5-4624-ac5d-cfc5f3d548c3",
     "prev": "a1c6ebab-485c-44b3-9b3a-355805d59058",
     "regions": {
      "202ea1df-0c1e-47f7-b3fe-b20b6dc337db": {
       "attrs": {
        "height": 0.8,
        "width": 0.8,
        "x": 0.1,
        "y": 0.1
       },
       "content": {
        "cell": "6e359c7c-4d22-4b21-a25b-f5d0d027b6ff",
        "part": "whole"
       },
       "id": "202ea1df-0c1e-47f7-b3fe-b20b6dc337db"
      }
     }
    },
    "49ce850e-5c0f-47aa-8504-2880e289d474": {
     "id": "49ce850e-5c0f-47aa-8504-2880e289d474",
     "prev": "581085a6-206a-41a5-b632-023f509c8cb4",
     "regions": {
      "aacef580-a027-4a2f-aecc-d56e273e037a": {
       "attrs": {
        "height": 0.8,
        "width": 0.8,
        "x": 0.1,
        "y": 0.1
       },
       "content": {
        "cell": "8fec4fd6-51d1-4151-bf05-af22dc6a6a28",
        "part": "whole"
       },
       "id": "aacef580-a027-4a2f-aecc-d56e273e037a"
      }
     }
    },
    "4b47b2ba-acad-4e8d-ab33-9a2b63a06999": {
     "id": "4b47b2ba-acad-4e8d-ab33-9a2b63a06999",
     "prev": "26dcc28f-375f-48bd-97a2-0c36e012ab22",
     "regions": {
      "8a0147f9-de08-4e42-8606-93574c4bd9e8": {
       "attrs": {
        "height": 0.8,
        "width": 0.8,
        "x": 0.1,
        "y": 0.1
       },
       "content": {
        "cell": "4446194f-4105-4925-9301-76d8a48697c4",
        "part": "whole"
       },
       "id": "8a0147f9-de08-4e42-8606-93574c4bd9e8"
      }
     }
    },
    "4b4dd388-6515-4e58-bd19-3e391d867fd2": {
     "id": "4b4dd388-6515-4e58-bd19-3e391d867fd2",
     "prev": "86bee47f-7fa4-41a4-a763-a8f214664e1b",
     "regions": {
      "85df48b8-df28-42f6-ac66-9c8a2672ea28": {
       "attrs": {
        "height": 0.8,
        "width": 0.8,
        "x": 0.1,
        "y": 0.1
       },
       "content": {
        "cell": "7f62bc4b-b807-40be-8377-a32250dee331",
        "part": "whole"
       },
       "id": "85df48b8-df28-42f6-ac66-9c8a2672ea28"
      }
     }
    },
    "4c2f549a-bddd-40c2-9d76-e5270b36a01c": {
     "id": "4c2f549a-bddd-40c2-9d76-e5270b36a01c",
     "prev": "559c08eb-9aa8-4ca2-8d2e-626440bdc67e",
     "regions": {
      "f3321909-164f-4e29-8ae1-fc7c397a5335": {
       "attrs": {
        "height": 0.8,
        "width": 0.8,
        "x": 0.1,
        "y": 0.1
       },
       "content": {
        "cell": "1d070c84-8038-454a-baa7-05a601bc422f",
        "part": "whole"
       },
       "id": "f3321909-164f-4e29-8ae1-fc7c397a5335"
      }
     }
    },
    "4c95bc0a-8158-4591-a7bd-eb18a8ce5b7a": {
     "id": "4c95bc0a-8158-4591-a7bd-eb18a8ce5b7a",
     "prev": "c89b7210-e956-4242-b3f6-231edc3b9731",
     "regions": {
      "131428f4-b990-469f-b61c-32a0d4fac5f5": {
       "attrs": {
        "height": 0.8,
        "width": 0.8,
        "x": 0.1,
        "y": 0.1
       },
       "content": {
        "cell": "53b85df3-951e-4caf-95be-baecd0f521b2",
        "part": "whole"
       },
       "id": "131428f4-b990-469f-b61c-32a0d4fac5f5"
      }
     }
    },
    "4d922012-d02b-429e-b1f5-1dc776397f56": {
     "id": "4d922012-d02b-429e-b1f5-1dc776397f56",
     "prev": "09eef099-67b0-4a41-a27e-b4d4a3046eda",
     "regions": {
      "73335b4d-cbd8-4fc9-a09d-849136c92336": {
       "attrs": {
        "height": 0.8,
        "width": 0.8,
        "x": 0.1,
        "y": 0.1
       },
       "content": {
        "cell": "401eb39b-2db2-4576-8ecd-6233575cced2",
        "part": "whole"
       },
       "id": "73335b4d-cbd8-4fc9-a09d-849136c92336"
      }
     }
    },
    "4e37415e-8b33-4e5c-b018-7d501e8c29ab": {
     "id": "4e37415e-8b33-4e5c-b018-7d501e8c29ab",
     "prev": "f4949dee-825b-4461-8d6d-26091954e26f",
     "regions": {
      "58878981-cb40-4606-9b8b-770efd94cb23": {
       "attrs": {
        "height": 0.8,
        "width": 0.8,
        "x": 0.1,
        "y": 0.1
       },
       "content": {
        "cell": "70cc1e21-b33e-46b5-aaaa-c527c9ab321b",
        "part": "whole"
       },
       "id": "58878981-cb40-4606-9b8b-770efd94cb23"
      }
     }
    },
    "4ec78a18-3afc-42be-b9b2-b5ece19bf4ba": {
     "id": "4ec78a18-3afc-42be-b9b2-b5ece19bf4ba",
     "prev": "cc1014ab-b6c2-4c45-aad3-f08702debe87",
     "regions": {
      "45405c3e-2415-4e86-b2e8-6d2a41abe307": {
       "attrs": {
        "height": 0.8,
        "width": 0.8,
        "x": 0.1,
        "y": 0.1
       },
       "content": {
        "cell": "f91fb9eb-c779-46e9-9813-011a10c263f7",
        "part": "whole"
       },
       "id": "45405c3e-2415-4e86-b2e8-6d2a41abe307"
      }
     }
    },
    "50113a6e-974b-4643-819b-51a08799955e": {
     "id": "50113a6e-974b-4643-819b-51a08799955e",
     "prev": "df1bdec6-6ddc-470b-b84e-d05c8f7b076a",
     "regions": {
      "d5067cf3-b0e8-48ea-b1ed-cc139ba0afa9": {
       "attrs": {
        "height": 0.8,
        "width": 0.8,
        "x": 0.1,
        "y": 0.1
       },
       "content": {
        "cell": "a49c67a9-a8f9-4efe-bbf5-3a379a2fb73f",
        "part": "whole"
       },
       "id": "d5067cf3-b0e8-48ea-b1ed-cc139ba0afa9"
      }
     }
    },
    "50b399a5-cf14-41ef-a883-64680923635f": {
     "id": "50b399a5-cf14-41ef-a883-64680923635f",
     "prev": "feb1d664-2302-4f1a-b416-0c760080cac7",
     "regions": {
      "293a63b7-353a-4fad-82f9-8b63e3819437": {
       "attrs": {
        "height": 0.8,
        "width": 0.8,
        "x": 0.1,
        "y": 0.1
       },
       "content": {
        "cell": "36de7060-30bd-4d1d-9a0f-1a27658a59fe",
        "part": "whole"
       },
       "id": "293a63b7-353a-4fad-82f9-8b63e3819437"
      }
     }
    },
    "541e05f4-3f1a-483e-9aa1-c97e956c9a52": {
     "id": "541e05f4-3f1a-483e-9aa1-c97e956c9a52",
     "prev": "73a1046d-5fc1-411e-bb1e-1295c6142e4f",
     "regions": {
      "c85671fc-c063-4f7c-be18-60c5a0f610d6": {
       "attrs": {
        "height": 0.8,
        "width": 0.8,
        "x": 0.1,
        "y": 0.1
       },
       "content": {
        "cell": "fe265057-fef6-416d-8590-00ff7bea9fce",
        "part": "whole"
       },
       "id": "c85671fc-c063-4f7c-be18-60c5a0f610d6"
      }
     }
    },
    "559c08eb-9aa8-4ca2-8d2e-626440bdc67e": {
     "id": "559c08eb-9aa8-4ca2-8d2e-626440bdc67e",
     "prev": "9217a19b-eb0a-41ec-a147-2a42275aec26",
     "regions": {
      "db664bc6-4fd9-423e-877c-46d9cb7f02b1": {
       "attrs": {
        "height": 0.8,
        "width": 0.8,
        "x": 0.1,
        "y": 0.1
       },
       "content": {
        "cell": "980ceb10-2ee6-46b7-bd25-03b2345cb868",
        "part": "whole"
       },
       "id": "db664bc6-4fd9-423e-877c-46d9cb7f02b1"
      }
     }
    },
    "57166f66-3101-4022-899f-603898b4e7bc": {
     "id": "57166f66-3101-4022-899f-603898b4e7bc",
     "prev": "d47b1559-aba6-4e6b-a314-02816246f86c",
     "regions": {
      "3dfa059a-2408-4485-add2-972812b98216": {
       "attrs": {
        "height": 0.8,
        "width": 0.8,
        "x": 0.1,
        "y": 0.1
       },
       "content": {
        "cell": "4af161b5-e629-4be4-aa08-e1fef0a6f14b",
        "part": "whole"
       },
       "id": "3dfa059a-2408-4485-add2-972812b98216"
      }
     }
    },
    "579b5085-d8c8-4ff9-9701-d86b984d066e": {
     "id": "579b5085-d8c8-4ff9-9701-d86b984d066e",
     "prev": "a2e668ca-a29f-40c0-b871-92027a88dd1e",
     "regions": {
      "8485e21c-b7ac-47e5-9bc2-b58df4de5398": {
       "attrs": {
        "height": 0.8,
        "width": 0.8,
        "x": 0.1,
        "y": 0.1
       },
       "content": {
        "cell": "09d09680-894b-4d2a-816d-8f00420b7611",
        "part": "whole"
       },
       "id": "8485e21c-b7ac-47e5-9bc2-b58df4de5398"
      }
     }
    },
    "581085a6-206a-41a5-b632-023f509c8cb4": {
     "id": "581085a6-206a-41a5-b632-023f509c8cb4",
     "prev": "5d269da5-8114-48e7-99d1-75ea9cd12e1c",
     "regions": {
      "2b063fe7-50dc-4c87-b1e6-95973bbee8e7": {
       "attrs": {
        "height": 0.8,
        "width": 0.8,
        "x": 0.1,
        "y": 0.1
       },
       "content": {
        "cell": "5e0778bb-1fd6-4b1f-a1ae-23b569b40888",
        "part": "whole"
       },
       "id": "2b063fe7-50dc-4c87-b1e6-95973bbee8e7"
      }
     }
    },
    "58b6e184-7a25-400a-a1a2-5040d77184fb": {
     "id": "58b6e184-7a25-400a-a1a2-5040d77184fb",
     "prev": "867b12f7-7427-4948-b079-f7b341250ebf",
     "regions": {
      "26d8a427-fcaf-4a44-8093-3161916e40b1": {
       "attrs": {
        "height": 0.8,
        "width": 0.8,
        "x": 0.1,
        "y": 0.1
       },
       "content": {
        "cell": "24bdbf21-f6ea-47bb-92e1-62371717d705",
        "part": "whole"
       },
       "id": "26d8a427-fcaf-4a44-8093-3161916e40b1"
      }
     }
    },
    "5986c8b5-70a6-451b-8fa5-cb60ba643006": {
     "id": "5986c8b5-70a6-451b-8fa5-cb60ba643006",
     "prev": "081b35b1-4b5b-403f-aa2f-f19d1106569f",
     "regions": {
      "c939cc1d-9ac6-4554-8c60-d274726deae5": {
       "attrs": {
        "height": 0.8,
        "width": 0.8,
        "x": 0.1,
        "y": 0.1
       },
       "content": {
        "cell": "ddd27ca9-0ff5-4369-810a-d130b8f4939c",
        "part": "whole"
       },
       "id": "c939cc1d-9ac6-4554-8c60-d274726deae5"
      }
     }
    },
    "5a3807db-84c7-413d-8876-ecb7e130ce2e": {
     "id": "5a3807db-84c7-413d-8876-ecb7e130ce2e",
     "prev": "5f0555ca-9b91-4f05-92c7-14870efc282d",
     "regions": {
      "3a396137-a9ee-49ad-a011-3749188caf69": {
       "attrs": {
        "height": 0.8,
        "width": 0.8,
        "x": 0.1,
        "y": 0.1
       },
       "content": {
        "cell": "0045c0ed-74e7-4ab9-b435-fcf0a0d9e634",
        "part": "whole"
       },
       "id": "3a396137-a9ee-49ad-a011-3749188caf69"
      }
     }
    },
    "5d182c7d-9381-4688-889f-3cd8539ea105": {
     "id": "5d182c7d-9381-4688-889f-3cd8539ea105",
     "prev": "e399fd20-f054-4872-bed0-1d44725d6502",
     "regions": {
      "983dfc03-7034-49a9-944c-a9667caa5308": {
       "attrs": {
        "height": 0.8,
        "width": 0.8,
        "x": 0.1,
        "y": 0.1
       },
       "content": {
        "cell": "7d00614e-fae2-4b98-8311-67f2a9366aee",
        "part": "whole"
       },
       "id": "983dfc03-7034-49a9-944c-a9667caa5308"
      }
     }
    },
    "5d269da5-8114-48e7-99d1-75ea9cd12e1c": {
     "id": "5d269da5-8114-48e7-99d1-75ea9cd12e1c",
     "prev": "28e29ed6-6684-44e7-8423-5ac21aade69d",
     "regions": {
      "94e0350d-6615-4d92-b3ef-e3d9ea23e23c": {
       "attrs": {
        "height": 0.8,
        "width": 0.8,
        "x": 0.1,
        "y": 0.1
       },
       "content": {
        "cell": "de8c212c-3ba2-4f87-9a94-bcdee832cd22",
        "part": "whole"
       },
       "id": "94e0350d-6615-4d92-b3ef-e3d9ea23e23c"
      }
     }
    },
    "5f0555ca-9b91-4f05-92c7-14870efc282d": {
     "id": "5f0555ca-9b91-4f05-92c7-14870efc282d",
     "prev": "8e9d98bb-8e9e-4248-8d83-ff295f7307d7",
     "regions": {
      "ef7d03d2-853b-4e27-ac15-879f6d5fe108": {
       "attrs": {
        "height": 0.8,
        "width": 0.8,
        "x": 0.1,
        "y": 0.1
       },
       "content": {
        "cell": "6ca286ca-bdcf-4e0b-8790-815336fa7e5d",
        "part": "whole"
       },
       "id": "ef7d03d2-853b-4e27-ac15-879f6d5fe108"
      }
     }
    },
    "6198c108-c6de-4455-9e22-e81a733c5ae3": {
     "id": "6198c108-c6de-4455-9e22-e81a733c5ae3",
     "prev": "1792a4cb-c7d4-47e6-ae6f-a31ce256a5c5",
     "regions": {
      "e349754d-90d1-47a6-a551-b9f18db334ff": {
       "attrs": {
        "height": 0.8,
        "width": 0.8,
        "x": 0.1,
        "y": 0.1
       },
       "content": {
        "cell": "7644eaed-28fc-45ac-a358-d2b81cbd0009",
        "part": "whole"
       },
       "id": "e349754d-90d1-47a6-a551-b9f18db334ff"
      }
     }
    },
    "61a948c0-3cc1-48c5-a61c-1533047239d0": {
     "id": "61a948c0-3cc1-48c5-a61c-1533047239d0",
     "prev": "a329a217-226d-43f0-bf74-05dc1c971278",
     "regions": {
      "8549607a-1a69-4bd9-9c38-f5a4c38cad56": {
       "attrs": {
        "height": 0.8,
        "width": 0.8,
        "x": 0.1,
        "y": 0.1
       },
       "content": {
        "cell": "bf38515e-d1fa-40f2-a381-9d7c51321672",
        "part": "whole"
       },
       "id": "8549607a-1a69-4bd9-9c38-f5a4c38cad56"
      }
     }
    },
    "621d0a6a-8226-4903-bd01-f1cb1e752b1a": {
     "id": "621d0a6a-8226-4903-bd01-f1cb1e752b1a",
     "prev": "744892a0-0181-42e9-ba70-aceff15649d8",
     "regions": {
      "5903940e-df94-4406-97eb-c9971b2d738f": {
       "attrs": {
        "height": 0.8,
        "width": 0.8,
        "x": 0.1,
        "y": 0.1
       },
       "content": {
        "cell": "2c5c7285-21b7-45ae-a0ed-3990c974d3a9",
        "part": "whole"
       },
       "id": "5903940e-df94-4406-97eb-c9971b2d738f"
      }
     }
    },
    "626bff26-0849-4886-9547-17f72c3e0a28": {
     "id": "626bff26-0849-4886-9547-17f72c3e0a28",
     "prev": "61a948c0-3cc1-48c5-a61c-1533047239d0",
     "regions": {
      "8111a242-46de-47d7-b369-480e4f966349": {
       "attrs": {
        "height": 0.8,
        "width": 0.8,
        "x": 0.1,
        "y": 0.1
       },
       "content": {
        "cell": "a77c0481-0bbf-4568-9000-07772e34aa83",
        "part": "whole"
       },
       "id": "8111a242-46de-47d7-b369-480e4f966349"
      }
     }
    },
    "633f1e27-de5d-480a-a8df-1fa8ef4ed25e": {
     "id": "633f1e27-de5d-480a-a8df-1fa8ef4ed25e",
     "prev": "8b64d519-89b5-4460-9eca-a19e7640dd1e",
     "regions": {
      "41230778-0c19-4a37-945b-84356e8a3e57": {
       "attrs": {
        "height": 0.8,
        "width": 0.8,
        "x": 0.1,
        "y": 0.1
       },
       "content": {
        "cell": "bf63d311-0aab-40be-8c7c-ae7d499ef92d",
        "part": "whole"
       },
       "id": "41230778-0c19-4a37-945b-84356e8a3e57"
      }
     }
    },
    "64a1d866-41f6-45bc-bc45-b90c6df2a7a3": {
     "id": "64a1d866-41f6-45bc-bc45-b90c6df2a7a3",
     "prev": "cfd1c07a-6110-4cff-82dd-d918a500ca58",
     "regions": {
      "a2bfedbe-3513-4ed9-a2e7-5285a15b5ecc": {
       "attrs": {
        "height": 0.8,
        "width": 0.8,
        "x": 0.1,
        "y": 0.1
       },
       "content": {
        "cell": "3710b189-6450-420a-95bd-2ba7722f2ac7",
        "part": "whole"
       },
       "id": "a2bfedbe-3513-4ed9-a2e7-5285a15b5ecc"
      }
     }
    },
    "68b6bda0-d70c-4682-89cc-a7267c6b1eff": {
     "id": "68b6bda0-d70c-4682-89cc-a7267c6b1eff",
     "prev": "69e2e0de-1f73-4ff4-826c-df405664faba",
     "regions": {
      "74a0e191-1ee6-492b-9390-afc3c0c8671f": {
       "attrs": {
        "height": 0.8,
        "width": 0.8,
        "x": 0.1,
        "y": 0.1
       },
       "content": {
        "cell": "c164744c-1ed8-449b-b557-262a7920585b",
        "part": "whole"
       },
       "id": "74a0e191-1ee6-492b-9390-afc3c0c8671f"
      }
     }
    },
    "69e2e0de-1f73-4ff4-826c-df405664faba": {
     "id": "69e2e0de-1f73-4ff4-826c-df405664faba",
     "prev": "5986c8b5-70a6-451b-8fa5-cb60ba643006",
     "regions": {
      "ad3ddcd2-c964-4c33-babe-640de81dbfe0": {
       "attrs": {
        "height": 0.8,
        "width": 0.8,
        "x": 0.1,
        "y": 0.1
       },
       "content": {
        "cell": "77a81564-76e7-49b7-bf27-a1636cdc2de5",
        "part": "whole"
       },
       "id": "ad3ddcd2-c964-4c33-babe-640de81dbfe0"
      }
     }
    },
    "6ac33898-ba06-4cc3-a0e9-a157d86f7351": {
     "id": "6ac33898-ba06-4cc3-a0e9-a157d86f7351",
     "prev": "9e49350e-8c1a-4ead-8a4f-a600c51241ae",
     "regions": {
      "fd1f4d45-ce72-46ae-8b9f-0c60ec418a9d": {
       "attrs": {
        "height": 0.8,
        "width": 0.8,
        "x": 0.1,
        "y": 0.1
       },
       "content": {
        "cell": "c1419c32-24a6-44a6-88a4-bc0d23f400ca",
        "part": "whole"
       },
       "id": "fd1f4d45-ce72-46ae-8b9f-0c60ec418a9d"
      }
     }
    },
    "6add932f-8b62-4aec-9f29-5368e4a0ec05": {
     "id": "6add932f-8b62-4aec-9f29-5368e4a0ec05",
     "prev": "c2f83f7b-cb3c-4976-b681-167d2e76023d",
     "regions": {
      "a38e1831-5fe1-479e-8766-257577a71e23": {
       "attrs": {
        "height": 0.8,
        "width": 0.8,
        "x": 0.1,
        "y": 0.1
       },
       "content": {
        "cell": "0bb034ee-7940-471d-a488-32d66b78de6b",
        "part": "whole"
       },
       "id": "a38e1831-5fe1-479e-8766-257577a71e23"
      }
     }
    },
    "6bf5682e-0f31-4f09-9d04-c58875d896a5": {
     "id": "6bf5682e-0f31-4f09-9d04-c58875d896a5",
     "prev": "ec3476a1-ba59-4fdd-9655-93fd9c5997b4",
     "regions": {
      "6e8dc1b2-ee64-4cde-b8a6-d9a07fc80dbe": {
       "attrs": {
        "height": 0.8,
        "width": 0.8,
        "x": 0.1,
        "y": 0.1
       },
       "content": {
        "cell": "24fdb113-0ad6-4a3a-b308-af0a4986f6e2",
        "part": "whole"
       },
       "id": "6e8dc1b2-ee64-4cde-b8a6-d9a07fc80dbe"
      }
     }
    },
    "6c2f6ae4-f6d2-4394-a9ff-5b5e5e2a815a": {
     "id": "6c2f6ae4-f6d2-4394-a9ff-5b5e5e2a815a",
     "prev": "e8892b08-4099-4e2f-a30c-249a80da65f6",
     "regions": {
      "076856a5-61cd-4fb0-9195-ebde8c67eb34": {
       "attrs": {
        "height": 0.8,
        "width": 0.8,
        "x": 0.1,
        "y": 0.1
       },
       "content": {
        "cell": "2f9d8344-bb34-4c75-8f16-a72e88eacb08",
        "part": "whole"
       },
       "id": "076856a5-61cd-4fb0-9195-ebde8c67eb34"
      }
     }
    },
    "6dbee9a1-6840-4d8f-b1d4-ad7be3632bc8": {
     "id": "6dbee9a1-6840-4d8f-b1d4-ad7be3632bc8",
     "prev": "c59f7d22-efc2-4160-abf4-5e2b432b3f4e",
     "regions": {
      "67953f6a-e58a-4949-9b66-fac3ac875cc6": {
       "attrs": {
        "height": 0.8,
        "width": 0.8,
        "x": 0.1,
        "y": 0.1
       },
       "content": {
        "cell": "504b9d26-f056-44ac-b85c-8d3c93b3d214",
        "part": "whole"
       },
       "id": "67953f6a-e58a-4949-9b66-fac3ac875cc6"
      }
     }
    },
    "6f37e1ea-7c02-4832-8b83-79d3e51a43a5": {
     "id": "6f37e1ea-7c02-4832-8b83-79d3e51a43a5",
     "prev": "2ddf67d5-b63b-47c3-88fa-f356d57dc5d1",
     "regions": {
      "d4b1f3aa-76a2-42c9-86cb-3ca8ad9acbc6": {
       "attrs": {
        "height": 0.8,
        "width": 0.8,
        "x": 0.1,
        "y": 0.1
       },
       "content": {
        "cell": "f360ecec-cb18-4e14-94a7-ea2f4bf1e569",
        "part": "whole"
       },
       "id": "d4b1f3aa-76a2-42c9-86cb-3ca8ad9acbc6"
      }
     }
    },
    "6f696c16-f3d1-4f6e-a311-0c3f31cac9f3": {
     "id": "6f696c16-f3d1-4f6e-a311-0c3f31cac9f3",
     "prev": "76125ec2-46ad-4d25-8824-ac1811776a75",
     "regions": {
      "3144d6ff-7d21-44d5-9882-740775662e49": {
       "attrs": {
        "height": 0.8,
        "width": 0.8,
        "x": 0.1,
        "y": 0.1
       },
       "content": {
        "cell": "2a43f008-03bd-43f1-8e3e-2ef7490f5c2b",
        "part": "whole"
       },
       "id": "3144d6ff-7d21-44d5-9882-740775662e49"
      }
     }
    },
    "701697ff-cd45-4a42-877d-0c2c2492904d": {
     "id": "701697ff-cd45-4a42-877d-0c2c2492904d",
     "prev": "64a1d866-41f6-45bc-bc45-b90c6df2a7a3",
     "regions": {
      "c7741f85-9df8-42d8-b63c-7b4d1f7c0764": {
       "attrs": {
        "height": 0.8,
        "width": 0.8,
        "x": 0.1,
        "y": 0.1
       },
       "content": {
        "cell": "5d3f36c9-0fa9-41a8-93cd-6c4289a59362",
        "part": "whole"
       },
       "id": "c7741f85-9df8-42d8-b63c-7b4d1f7c0764"
      }
     }
    },
    "71347889-c168-47af-bfb5-42eff429180a": {
     "id": "71347889-c168-47af-bfb5-42eff429180a",
     "prev": "0e21f4de-57ed-4b46-bca8-5192019cc3de",
     "regions": {
      "0e51fb0e-e8ad-4d02-90f7-b55ee29b4fd0": {
       "attrs": {
        "height": 0.8,
        "width": 0.8,
        "x": 0.1,
        "y": 0.1
       },
       "content": {
        "cell": "16164829-d2e3-4af1-ab7e-36cc2c78f698",
        "part": "whole"
       },
       "id": "0e51fb0e-e8ad-4d02-90f7-b55ee29b4fd0"
      }
     }
    },
    "732bf0d6-fe60-46e6-b863-2d299f834c36": {
     "id": "732bf0d6-fe60-46e6-b863-2d299f834c36",
     "prev": "27b2736b-6142-4a8a-a5c6-aeb903512f12",
     "regions": {
      "69f90618-1790-4907-b3de-23c841b3cb4f": {
       "attrs": {
        "height": 0.8,
        "width": 0.8,
        "x": 0.1,
        "y": 0.1
       },
       "content": {
        "cell": "254867da-35fc-4d84-825c-8caa8a5065d4",
        "part": "whole"
       },
       "id": "69f90618-1790-4907-b3de-23c841b3cb4f"
      }
     }
    },
    "73a1046d-5fc1-411e-bb1e-1295c6142e4f": {
     "id": "73a1046d-5fc1-411e-bb1e-1295c6142e4f",
     "prev": "f1ce1f65-2f7a-4bdf-804a-4aa4a53414b2",
     "regions": {
      "eaa1f8f3-5e2e-41a7-b8de-e8b1e9f1cf89": {
       "attrs": {
        "height": 0.8,
        "width": 0.8,
        "x": 0.1,
        "y": 0.1
       },
       "content": {
        "cell": "88880f8d-2380-4a54-bce7-ad9db55f102c",
        "part": "whole"
       },
       "id": "eaa1f8f3-5e2e-41a7-b8de-e8b1e9f1cf89"
      }
     }
    },
    "744892a0-0181-42e9-ba70-aceff15649d8": {
     "id": "744892a0-0181-42e9-ba70-aceff15649d8",
     "prev": "6dbee9a1-6840-4d8f-b1d4-ad7be3632bc8",
     "regions": {
      "6d6d7637-7e5b-4994-80fd-f4f23785c250": {
       "attrs": {
        "height": 0.8,
        "width": 0.8,
        "x": 0.1,
        "y": 0.1
       },
       "content": {
        "cell": "6aa07598-f3b2-477e-9398-95d00a4b6e81",
        "part": "whole"
       },
       "id": "6d6d7637-7e5b-4994-80fd-f4f23785c250"
      }
     }
    },
    "76125ec2-46ad-4d25-8824-ac1811776a75": {
     "id": "76125ec2-46ad-4d25-8824-ac1811776a75",
     "prev": "3477fc1d-0b40-49d0-a889-0d230435ce98",
     "regions": {
      "c7325937-06c4-4e13-b078-99a4060784b3": {
       "attrs": {
        "height": 0.8,
        "width": 0.8,
        "x": 0.1,
        "y": 0.1
       },
       "content": {
        "cell": "4751d06c-1a43-45eb-a93d-5c07299fd61f",
        "part": "whole"
       },
       "id": "c7325937-06c4-4e13-b078-99a4060784b3"
      }
     }
    },
    "763445e1-603d-44d6-a208-22f8826309aa": {
     "id": "763445e1-603d-44d6-a208-22f8826309aa",
     "prev": "ae78f38c-3d0b-4e35-960f-9015845ad926",
     "regions": {
      "e0879839-1653-4ac6-81e2-57a63a5e848d": {
       "attrs": {
        "height": 0.8,
        "width": 0.8,
        "x": 0.1,
        "y": 0.1
       },
       "content": {
        "cell": "207f0a5d-8acb-4dff-aeeb-56e84a0a469b",
        "part": "whole"
       },
       "id": "e0879839-1653-4ac6-81e2-57a63a5e848d"
      }
     }
    },
    "77020329-e59f-405d-b993-a07343140838": {
     "id": "77020329-e59f-405d-b993-a07343140838",
     "prev": "caa91582-795f-4d0f-bed3-baeb8a2eb540",
     "regions": {
      "3ee0d2a3-268d-412e-a1bf-6977505e8d30": {
       "attrs": {
        "height": 0.8,
        "width": 0.8,
        "x": 0.1,
        "y": 0.1
       },
       "content": {
        "cell": "9709c6a4-eb8c-4d9b-aaaf-048d100cd346",
        "part": "whole"
       },
       "id": "3ee0d2a3-268d-412e-a1bf-6977505e8d30"
      }
     }
    },
    "775ab0c4-a8bf-4744-875f-1de3c40c3b82": {
     "id": "775ab0c4-a8bf-4744-875f-1de3c40c3b82",
     "prev": "7ad66ea3-72a8-4db8-9aec-e31e4bb309b6",
     "regions": {
      "b0030b51-7f27-42bd-a314-86294b7bdb2e": {
       "attrs": {
        "height": 0.8,
        "width": 0.8,
        "x": 0.1,
        "y": 0.1
       },
       "content": {
        "cell": "5f405052-6ede-49a6-83ee-56739d816ded",
        "part": "whole"
       },
       "id": "b0030b51-7f27-42bd-a314-86294b7bdb2e"
      }
     }
    },
    "787d56be-12e5-450e-9984-73675db5131d": {
     "id": "787d56be-12e5-450e-9984-73675db5131d",
     "prev": "37f57ce6-e47f-4e9d-a004-b671e930e9d1",
     "regions": {
      "e2d8016d-125a-4769-b3e3-254878bc3044": {
       "attrs": {
        "height": 0.8,
        "width": 0.8,
        "x": 0.1,
        "y": 0.1
       },
       "content": {
        "cell": "c00920f8-01d8-4bf9-9efa-b481dca180a0",
        "part": "whole"
       },
       "id": "e2d8016d-125a-4769-b3e3-254878bc3044"
      }
     }
    },
    "7ad66ea3-72a8-4db8-9aec-e31e4bb309b6": {
     "id": "7ad66ea3-72a8-4db8-9aec-e31e4bb309b6",
     "prev": "d5064941-d820-482a-b870-e1e4c0f1a8a3",
     "regions": {
      "2b840292-677b-452c-a599-01932ab11f40": {
       "attrs": {
        "height": 0.8,
        "width": 0.8,
        "x": 0.1,
        "y": 0.1
       },
       "content": {
        "cell": "a263ed43-f12d-48c8-92e4-f46ab3d190ec",
        "part": "whole"
       },
       "id": "2b840292-677b-452c-a599-01932ab11f40"
      }
     }
    },
    "7b974f5e-d7e1-47e9-8501-dcd67c9049ae": {
     "id": "7b974f5e-d7e1-47e9-8501-dcd67c9049ae",
     "prev": "996905a8-06cc-4eb6-b096-160e3f6ab975",
     "regions": {
      "47b9beb4-9c6e-4e0d-ab55-1abd1102d9a2": {
       "attrs": {
        "height": 0.8,
        "width": 0.8,
        "x": 0.1,
        "y": 0.1
       },
       "content": {
        "cell": "b05b17c1-c1b2-4cd2-885c-9d4d2e43323d",
        "part": "whole"
       },
       "id": "47b9beb4-9c6e-4e0d-ab55-1abd1102d9a2"
      }
     }
    },
    "7baf36d0-df46-46e8-b081-9e6d0f2a4daf": {
     "id": "7baf36d0-df46-46e8-b081-9e6d0f2a4daf",
     "prev": "0e660068-d5de-4bf4-8003-d1819007ff2b",
     "regions": {
      "bf554337-b864-445a-97b8-db34faf72f4a": {
       "attrs": {
        "height": 0.8,
        "width": 0.8,
        "x": 0.1,
        "y": 0.1
       },
       "content": {
        "cell": "bac873dd-fef4-471b-8ed9-943cb207ebc2",
        "part": "whole"
       },
       "id": "bf554337-b864-445a-97b8-db34faf72f4a"
      }
     }
    },
    "7d5052df-c1de-4c51-ac15-3f1b186b248b": {
     "id": "7d5052df-c1de-4c51-ac15-3f1b186b248b",
     "prev": "ef357950-e5a4-44b3-bef3-c9456b5e3ee8",
     "regions": {
      "f4d868d3-5cc7-4f97-a13b-03ecb23f5e2f": {
       "attrs": {
        "height": 0.8,
        "width": 0.8,
        "x": 0.1,
        "y": 0.1
       },
       "content": {
        "cell": "8419e81d-87b2-421e-b0e7-d04969d35479",
        "part": "whole"
       },
       "id": "f4d868d3-5cc7-4f97-a13b-03ecb23f5e2f"
      }
     }
    },
    "7e55f2b4-90c4-48f9-a300-20884b391521": {
     "id": "7e55f2b4-90c4-48f9-a300-20884b391521",
     "prev": "579b5085-d8c8-4ff9-9701-d86b984d066e",
     "regions": {
      "a8602773-5fb6-4e9f-813b-c361cd4d58dd": {
       "attrs": {
        "height": 0.8,
        "width": 0.8,
        "x": 0.1,
        "y": 0.1
       },
       "content": {
        "cell": "03a14c03-d71f-4e42-9817-3ef9f546b29b",
        "part": "whole"
       },
       "id": "a8602773-5fb6-4e9f-813b-c361cd4d58dd"
      }
     }
    },
    "7f8587d6-5ece-4a83-bbc1-c9a7cbd17626": {
     "id": "7f8587d6-5ece-4a83-bbc1-c9a7cbd17626",
     "prev": "9424e623-9a97-48ee-afaa-6f02e400572b",
     "regions": {
      "caaad5ff-cad0-4c12-b923-dc5e5b7eeb31": {
       "attrs": {
        "height": 0.8,
        "width": 0.8,
        "x": 0.1,
        "y": 0.1
       },
       "content": {
        "cell": "835daf4f-bc85-4d23-9544-7057fdd03072",
        "part": "whole"
       },
       "id": "caaad5ff-cad0-4c12-b923-dc5e5b7eeb31"
      }
     }
    },
    "830047e2-6188-4669-a87d-91ae45fd2e10": {
     "id": "830047e2-6188-4669-a87d-91ae45fd2e10",
     "prev": "0d0068f3-6f23-4613-8292-ed0f7856e410",
     "regions": {
      "983e86df-65c3-488f-bb41-8ee4b26ef6db": {
       "attrs": {
        "height": 0.8,
        "width": 0.8,
        "x": 0.1,
        "y": 0.1
       },
       "content": {
        "cell": "f7d17061-fd4e-4605-8886-0c0724fcfba3",
        "part": "whole"
       },
       "id": "983e86df-65c3-488f-bb41-8ee4b26ef6db"
      }
     }
    },
    "83cd31ff-62e0-4ec4-b6bf-4c7fe1a03db6": {
     "id": "83cd31ff-62e0-4ec4-b6bf-4c7fe1a03db6",
     "prev": "cd45e55d-5a5c-4f4e-9e5e-f91dbbe35691",
     "regions": {
      "2082a75f-5a96-4e71-b3de-443f0d5f43b6": {
       "attrs": {
        "height": 0.8,
        "width": 0.8,
        "x": 0.1,
        "y": 0.1
       },
       "content": {
        "cell": "d6966604-5e54-470e-8eed-c928beab1540",
        "part": "whole"
       },
       "id": "2082a75f-5a96-4e71-b3de-443f0d5f43b6"
      }
     }
    },
    "867b12f7-7427-4948-b079-f7b341250ebf": {
     "id": "867b12f7-7427-4948-b079-f7b341250ebf",
     "prev": "96b60232-1de5-4e0c-bc5c-3e0077a58628",
     "regions": {
      "b75dff48-f70d-403e-bbcb-efae27d25d11": {
       "attrs": {
        "height": 0.8,
        "width": 0.8,
        "x": 0.1,
        "y": 0.1
       },
       "content": {
        "cell": "95bd6e33-fe2d-4367-88f3-fe0862b76de0",
        "part": "whole"
       },
       "id": "b75dff48-f70d-403e-bbcb-efae27d25d11"
      }
     }
    },
    "86bee47f-7fa4-41a4-a763-a8f214664e1b": {
     "id": "86bee47f-7fa4-41a4-a763-a8f214664e1b",
     "prev": "04535bd9-ef6b-4095-a475-2e40b181cc79",
     "regions": {
      "625791ff-ccda-4994-8b67-8a4a5648d5a7": {
       "attrs": {
        "height": 0.8,
        "width": 0.8,
        "x": 0.1,
        "y": 0.1
       },
       "content": {
        "cell": "6f9cae44-8913-481b-a7b4-137b369d66a0",
        "part": "whole"
       },
       "id": "625791ff-ccda-4994-8b67-8a4a5648d5a7"
      }
     }
    },
    "879f0091-dfa6-468a-b04f-cec14c89412f": {
     "id": "879f0091-dfa6-468a-b04f-cec14c89412f",
     "prev": "32b90e1b-aa9f-4ae1-912f-dcf04e17b610",
     "regions": {
      "b5a44c98-f776-4d25-b0a2-5a971157ec01": {
       "attrs": {
        "height": 0.8,
        "width": 0.8,
        "x": 0.1,
        "y": 0.1
       },
       "content": {
        "cell": "8111a913-147b-4e19-845e-c5c36b3090cd",
        "part": "whole"
       },
       "id": "b5a44c98-f776-4d25-b0a2-5a971157ec01"
      }
     }
    },
    "8b64d519-89b5-4460-9eca-a19e7640dd1e": {
     "id": "8b64d519-89b5-4460-9eca-a19e7640dd1e",
     "prev": "d033e243-c4d0-4f5e-8f33-939a1e3a28a9",
     "regions": {
      "6a33130d-df38-4fd7-8a92-3d41855e61a2": {
       "attrs": {
        "height": 0.8,
        "width": 0.8,
        "x": 0.1,
        "y": 0.1
       },
       "content": {
        "cell": "20b44229-ce1e-4d9d-8ec1-e947bfb70a36",
        "part": "whole"
       },
       "id": "6a33130d-df38-4fd7-8a92-3d41855e61a2"
      }
     }
    },
    "8bcaf737-a0c9-407e-9cf6-b669e559b8df": {
     "id": "8bcaf737-a0c9-407e-9cf6-b669e559b8df",
     "prev": "8e74a0ec-4403-48e6-a19c-e0dcc621468b",
     "regions": {
      "a8c60817-671a-433b-a556-5f806d5139b7": {
       "attrs": {
        "height": 0.8,
        "width": 0.8,
        "x": 0.1,
        "y": 0.1
       },
       "content": {
        "cell": "7a28c3b8-764c-42b2-a318-91c1927b5092",
        "part": "whole"
       },
       "id": "a8c60817-671a-433b-a556-5f806d5139b7"
      }
     }
    },
    "8c82f4a8-9e47-49eb-9830-34c48a705046": {
     "id": "8c82f4a8-9e47-49eb-9830-34c48a705046",
     "prev": "e34eb7ff-4f8c-4068-a4fc-152303c9d26e",
     "regions": {
      "30548aeb-b313-43f3-a648-c95b54df065f": {
       "attrs": {
        "height": 0.8,
        "width": 0.8,
        "x": 0.1,
        "y": 0.1
       },
       "content": {
        "cell": "eb750acd-2b89-4219-b1b6-62572cfc7534",
        "part": "whole"
       },
       "id": "30548aeb-b313-43f3-a648-c95b54df065f"
      }
     }
    },
    "8e74a0ec-4403-48e6-a19c-e0dcc621468b": {
     "id": "8e74a0ec-4403-48e6-a19c-e0dcc621468b",
     "prev": "08ed2649-9be1-44c4-ba23-de77cdd8c86a",
     "regions": {
      "5c11c4c2-a74a-4443-89fa-2d35a69e9f28": {
       "attrs": {
        "height": 0.8,
        "width": 0.8,
        "x": 0.1,
        "y": 0.1
       },
       "content": {
        "cell": "6c93ab54-8075-4309-a77a-b88ace0ba6c4",
        "part": "whole"
       },
       "id": "5c11c4c2-a74a-4443-89fa-2d35a69e9f28"
      }
     }
    },
    "8e9d98bb-8e9e-4248-8d83-ff295f7307d7": {
     "id": "8e9d98bb-8e9e-4248-8d83-ff295f7307d7",
     "prev": "50113a6e-974b-4643-819b-51a08799955e",
     "regions": {
      "fe01c9a4-63da-4916-af28-2b45d2069fc6": {
       "attrs": {
        "height": 0.8,
        "width": 0.8,
        "x": 0.1,
        "y": 0.1
       },
       "content": {
        "cell": "a5909d81-c522-4abe-b587-73096cc70578",
        "part": "whole"
       },
       "id": "fe01c9a4-63da-4916-af28-2b45d2069fc6"
      }
     }
    },
    "913c57a8-a954-4bcd-8980-31473d1b511d": {
     "id": "913c57a8-a954-4bcd-8980-31473d1b511d",
     "prev": "1c291a10-e5fb-4cf9-9b78-f89436181a4a",
     "regions": {
      "c4ece02c-5155-4f4c-8d6f-cad7a7a63ebe": {
       "attrs": {
        "height": 0.8,
        "width": 0.8,
        "x": 0.1,
        "y": 0.1
       },
       "content": {
        "cell": "f86a5f88-d06d-48c3-a17f-7c9f103cd911",
        "part": "whole"
       },
       "id": "c4ece02c-5155-4f4c-8d6f-cad7a7a63ebe"
      }
     }
    },
    "9217a19b-eb0a-41ec-a147-2a42275aec26": {
     "id": "9217a19b-eb0a-41ec-a147-2a42275aec26",
     "prev": "afc5304e-7071-4e01-8666-8e2ce49c0aae",
     "regions": {
      "686fe234-a018-44be-90a7-5c273dbe769b": {
       "attrs": {
        "height": 0.8,
        "width": 0.8,
        "x": 0.1,
        "y": 0.1
       },
       "content": {
        "cell": "fd408d13-5d95-4d85-9d56-2b0d68c8454e",
        "part": "whole"
       },
       "id": "686fe234-a018-44be-90a7-5c273dbe769b"
      }
     }
    },
    "9424e623-9a97-48ee-afaa-6f02e400572b": {
     "id": "9424e623-9a97-48ee-afaa-6f02e400572b",
     "prev": "ef7131df-f0e7-4c6f-bdc3-f167c2c5d4c0",
     "regions": {
      "8899e8f4-6e3b-4919-929f-e99ec7d5f632": {
       "attrs": {
        "height": 0.8,
        "width": 0.8,
        "x": 0.1,
        "y": 0.1
       },
       "content": {
        "cell": "0bd9cb33-20ca-469d-8bf0-24f0b38ba0d7",
        "part": "whole"
       },
       "id": "8899e8f4-6e3b-4919-929f-e99ec7d5f632"
      }
     }
    },
    "96b60232-1de5-4e0c-bc5c-3e0077a58628": {
     "id": "96b60232-1de5-4e0c-bc5c-3e0077a58628",
     "prev": "be3bfc02-72ac-4adc-a6cd-8ba466987eef",
     "regions": {
      "3a8ac721-1146-46e4-badd-e9fa18a5a483": {
       "attrs": {
        "height": 0.8,
        "width": 0.8,
        "x": 0.1,
        "y": 0.1
       },
       "content": {
        "cell": "e1fa269c-7be6-4dbd-9be1-a2d0c6d62dd8",
        "part": "whole"
       },
       "id": "3a8ac721-1146-46e4-badd-e9fa18a5a483"
      }
     }
    },
    "96c5cd35-0228-4cff-bf22-28a498e1a708": {
     "id": "96c5cd35-0228-4cff-bf22-28a498e1a708",
     "prev": "bb0a9f96-2c08-4063-b48f-ec0b61efffd4",
     "regions": {
      "4037a524-1035-4620-b3b7-53a952d48387": {
       "attrs": {
        "height": 0.8,
        "width": 0.8,
        "x": 0.1,
        "y": 0.1
       },
       "content": {
        "cell": "0c962e1a-c929-418d-9844-b21a38de7237",
        "part": "whole"
       },
       "id": "4037a524-1035-4620-b3b7-53a952d48387"
      }
     }
    },
    "996905a8-06cc-4eb6-b096-160e3f6ab975": {
     "id": "996905a8-06cc-4eb6-b096-160e3f6ab975",
     "prev": "c56bc3c1-b589-4573-b829-28e4f1c45f02",
     "regions": {
      "f9f680f8-4624-4d7d-9608-299a747d2b59": {
       "attrs": {
        "height": 0.8,
        "width": 0.8,
        "x": 0.1,
        "y": 0.1
       },
       "content": {
        "cell": "55c49efa-b790-4953-b98f-e505369f1c91",
        "part": "whole"
       },
       "id": "f9f680f8-4624-4d7d-9608-299a747d2b59"
      }
     }
    },
    "9bc25433-11b1-4677-8fde-452c77195271": {
     "id": "9bc25433-11b1-4677-8fde-452c77195271",
     "prev": "71347889-c168-47af-bfb5-42eff429180a",
     "regions": {
      "5b61945c-d297-4804-b664-8bcb00dd39b2": {
       "attrs": {
        "height": 0.8,
        "width": 0.8,
        "x": 0.1,
        "y": 0.1
       },
       "content": {
        "cell": "c1fb7f36-1084-44c7-bdeb-7793637e353c",
        "part": "whole"
       },
       "id": "5b61945c-d297-4804-b664-8bcb00dd39b2"
      }
     }
    },
    "9c1b74df-b2d1-4028-a019-c11cee217f49": {
     "id": "9c1b74df-b2d1-4028-a019-c11cee217f49",
     "prev": "57166f66-3101-4022-899f-603898b4e7bc",
     "regions": {
      "bb33fd3e-b074-44ae-bfb0-559d9f5e661b": {
       "attrs": {
        "height": 0.8,
        "width": 0.8,
        "x": 0.1,
        "y": 0.1
       },
       "content": {
        "cell": "f35d8ab8-c0b5-422b-ad56-a2b522002e5b",
        "part": "whole"
       },
       "id": "bb33fd3e-b074-44ae-bfb0-559d9f5e661b"
      }
     }
    },
    "9dec4584-0aae-454a-b040-0411b88773b0": {
     "id": "9dec4584-0aae-454a-b040-0411b88773b0",
     "prev": "2d3137e4-774e-4e59-bf37-c85a7cdf539a",
     "regions": {
      "b6649f16-66b1-401f-8984-a946445c90af": {
       "attrs": {
        "height": 0.8,
        "width": 0.8,
        "x": 0.1,
        "y": 0.1
       },
       "content": {
        "cell": "9d352191-bc99-4ecf-9296-71fe8bd88967",
        "part": "whole"
       },
       "id": "b6649f16-66b1-401f-8984-a946445c90af"
      }
     }
    },
    "9e49350e-8c1a-4ead-8a4f-a600c51241ae": {
     "id": "9e49350e-8c1a-4ead-8a4f-a600c51241ae",
     "prev": "830047e2-6188-4669-a87d-91ae45fd2e10",
     "regions": {
      "aaec81f2-6c05-4a71-a65c-4b029e3e8056": {
       "attrs": {
        "height": 0.8,
        "width": 0.8,
        "x": 0.1,
        "y": 0.1
       },
       "content": {
        "cell": "9a6063c7-f4a8-4862-8d9d-c8c92a2c5350",
        "part": "whole"
       },
       "id": "aaec81f2-6c05-4a71-a65c-4b029e3e8056"
      }
     }
    },
    "9e5665a0-419e-4331-aed0-8087f11ff2ce": {
     "id": "9e5665a0-419e-4331-aed0-8087f11ff2ce",
     "prev": "1637ad4f-478d-4c44-b323-62889ee6d909",
     "regions": {
      "59fd0d5a-3e8c-4fef-a4e7-a2951a79a434": {
       "attrs": {
        "height": 0.8,
        "width": 0.8,
        "x": 0.1,
        "y": 0.1
       },
       "content": {
        "cell": "f01f7063-1453-4cf6-b898-9ebc51e6f29c",
        "part": "whole"
       },
       "id": "59fd0d5a-3e8c-4fef-a4e7-a2951a79a434"
      }
     }
    },
    "9f7cf2be-8caa-479f-b0f2-33670ce5f15f": {
     "id": "9f7cf2be-8caa-479f-b0f2-33670ce5f15f",
     "prev": "bbf9250d-6aa6-4a75-aa27-25f639e5a12d",
     "regions": {
      "3f6ce7c3-c509-454b-89b6-fe9897b40bba": {
       "attrs": {
        "height": 0.8,
        "width": 0.8,
        "x": 0.1,
        "y": 0.1
       },
       "content": {
        "cell": "8043e705-8112-4e3b-90b6-a0d0d1ce52c3",
        "part": "whole"
       },
       "id": "3f6ce7c3-c509-454b-89b6-fe9897b40bba"
      }
     }
    },
    "a1c6ebab-485c-44b3-9b3a-355805d59058": {
     "id": "a1c6ebab-485c-44b3-9b3a-355805d59058",
     "prev": "621d0a6a-8226-4903-bd01-f1cb1e752b1a",
     "regions": {
      "275a0871-6e89-4456-9b63-4c4b19b1ef4b": {
       "attrs": {
        "height": 0.8,
        "width": 0.8,
        "x": 0.1,
        "y": 0.1
       },
       "content": {
        "cell": "9128aadf-a72a-4adf-9856-7e33bcc4eb45",
        "part": "whole"
       },
       "id": "275a0871-6e89-4456-9b63-4c4b19b1ef4b"
      }
     }
    },
    "a2e668ca-a29f-40c0-b871-92027a88dd1e": {
     "id": "a2e668ca-a29f-40c0-b871-92027a88dd1e",
     "prev": "a3b68e22-27a6-46b6-9a35-1ba56435eb42",
     "regions": {
      "19a73183-7ed3-419f-9e49-df67d3294335": {
       "attrs": {
        "height": 0.8,
        "width": 0.8,
        "x": 0.1,
        "y": 0.1
       },
       "content": {
        "cell": "58c8d06c-87d3-47a6-8bae-6b4d42dec587",
        "part": "whole"
       },
       "id": "19a73183-7ed3-419f-9e49-df67d3294335"
      }
     }
    },
    "a3143fec-95ac-4204-9c41-3f7c1be9e094": {
     "id": "a3143fec-95ac-4204-9c41-3f7c1be9e094",
     "prev": "da346b92-e42d-4b1b-b93d-47df2cd05a21",
     "regions": {
      "eac3fe04-58e4-42ee-843e-362a5a03d26a": {
       "attrs": {
        "height": 0.8,
        "width": 0.8,
        "x": 0.1,
        "y": 0.1
       },
       "content": {
        "cell": "8284df2d-3626-4fb8-8f08-e87e070e6df2",
        "part": "whole"
       },
       "id": "eac3fe04-58e4-42ee-843e-362a5a03d26a"
      }
     }
    },
    "a329a217-226d-43f0-bf74-05dc1c971278": {
     "id": "a329a217-226d-43f0-bf74-05dc1c971278",
     "prev": "b550886d-2d2a-408d-980f-707af16f2ae1",
     "regions": {
      "1f5f2790-aeb6-410d-ae45-f6d0f99db4f9": {
       "attrs": {
        "height": 0.8,
        "width": 0.8,
        "x": 0.1,
        "y": 0.1
       },
       "content": {
        "cell": "8fd9a24d-7d95-476e-b0b2-864bcd87ac63",
        "part": "whole"
       },
       "id": "1f5f2790-aeb6-410d-ae45-f6d0f99db4f9"
      }
     }
    },
    "a34fb588-8d0c-4774-b1c8-ab882d630d0e": {
     "id": "a34fb588-8d0c-4774-b1c8-ab882d630d0e",
     "prev": "bcc2c127-6e18-408d-bbaf-d1cd026a0b68",
     "regions": {
      "cb6373f4-1c4f-42c0-b4bf-9ac12f2a3401": {
       "attrs": {
        "height": 0.8,
        "width": 0.8,
        "x": 0.1,
        "y": 0.1
       },
       "content": {
        "cell": "ad4668a5-e41e-4034-9500-1d52a7ab7516",
        "part": "whole"
       },
       "id": "cb6373f4-1c4f-42c0-b4bf-9ac12f2a3401"
      }
     }
    },
    "a38dd62d-998c-42d1-a8b7-31e909a93e7e": {
     "id": "a38dd62d-998c-42d1-a8b7-31e909a93e7e",
     "prev": "5a3807db-84c7-413d-8876-ecb7e130ce2e",
     "regions": {
      "114a2b3e-969d-4c67-83e7-2c30a88b9d4a": {
       "attrs": {
        "height": 0.8,
        "width": 0.8,
        "x": 0.1,
        "y": 0.1
       },
       "content": {
        "cell": "467e5939-ba6e-4f1e-83f7-c32da288a2d6",
        "part": "whole"
       },
       "id": "114a2b3e-969d-4c67-83e7-2c30a88b9d4a"
      }
     }
    },
    "a3a18a69-cb7f-4370-a216-38991c7d8b74": {
     "id": "a3a18a69-cb7f-4370-a216-38991c7d8b74",
     "prev": "775ab0c4-a8bf-4744-875f-1de3c40c3b82",
     "regions": {
      "5472da0e-0222-4989-ba34-3289f0a9808f": {
       "attrs": {
        "height": 0.8,
        "width": 0.8,
        "x": 0.1,
        "y": 0.1
       },
       "content": {
        "cell": "3847422e-ea3f-4646-9f85-43375742b147",
        "part": "whole"
       },
       "id": "5472da0e-0222-4989-ba34-3289f0a9808f"
      }
     }
    },
    "a3b68e22-27a6-46b6-9a35-1ba56435eb42": {
     "id": "a3b68e22-27a6-46b6-9a35-1ba56435eb42",
     "prev": "0947878a-d607-4a36-9685-bd4178b6ce3c",
     "regions": {
      "de41d090-f4db-47e8-8106-9dee708e1db0": {
       "attrs": {
        "height": 0.8,
        "width": 0.8,
        "x": 0.1,
        "y": 0.1
       },
       "content": {
        "cell": "2edbbca1-8602-4c76-abaa-0ffa00ffeb64",
        "part": "whole"
       },
       "id": "de41d090-f4db-47e8-8106-9dee708e1db0"
      }
     }
    },
    "a6349790-de9e-4723-912b-ff943da65960": {
     "id": "a6349790-de9e-4723-912b-ff943da65960",
     "prev": "9bc25433-11b1-4677-8fde-452c77195271",
     "regions": {
      "edbe9ccb-eeff-46ec-bcfe-1ce6d779647c": {
       "attrs": {
        "height": 0.8,
        "width": 0.8,
        "x": 0.1,
        "y": 0.1
       },
       "content": {
        "cell": "ca011496-f8cf-4180-bf4a-7120230e558a",
        "part": "whole"
       },
       "id": "edbe9ccb-eeff-46ec-bcfe-1ce6d779647c"
      }
     }
    },
    "a6bb41c8-4672-45c4-bace-de60551a935f": {
     "id": "a6bb41c8-4672-45c4-bace-de60551a935f",
     "prev": "aa40a7ba-69aa-4603-a87d-c1f1be6dff07",
     "regions": {
      "95dce7e1-d28e-4f4e-b26a-b53826d6d044": {
       "attrs": {
        "height": 0.8,
        "width": 0.8,
        "x": 0.1,
        "y": 0.1
       },
       "content": {
        "cell": "9e99800b-eaa6-4614-b73a-fad0c8de57c0",
        "part": "whole"
       },
       "id": "95dce7e1-d28e-4f4e-b26a-b53826d6d044"
      }
     }
    },
    "a9dda65f-83e2-40e9-9c1d-3fcdf2fabd73": {
     "id": "a9dda65f-83e2-40e9-9c1d-3fcdf2fabd73",
     "prev": "359a6de6-4a17-46c3-b4f0-7f4241ca7fce",
     "regions": {
      "054d49cd-a124-48de-b56b-e9ad73a38367": {
       "attrs": {
        "height": 0.8,
        "width": 0.8,
        "x": 0.1,
        "y": 0.1
       },
       "content": {
        "cell": "8fbe3f11-17f5-4ef6-be89-7ae91b3873c9",
        "part": "whole"
       },
       "id": "054d49cd-a124-48de-b56b-e9ad73a38367"
      }
     }
    },
    "aa326643-637a-4c8e-8299-7f4b08037b9f": {
     "id": "aa326643-637a-4c8e-8299-7f4b08037b9f",
     "prev": "a6349790-de9e-4723-912b-ff943da65960",
     "regions": {
      "b2763d86-d09e-47a8-bdf4-c2365e9f2f3b": {
       "attrs": {
        "height": 0.8,
        "width": 0.8,
        "x": 0.1,
        "y": 0.1
       },
       "content": {
        "cell": "c241ccec-e94a-4416-a0d5-c9653d372156",
        "part": "whole"
       },
       "id": "b2763d86-d09e-47a8-bdf4-c2365e9f2f3b"
      }
     }
    },
    "aa40a7ba-69aa-4603-a87d-c1f1be6dff07": {
     "id": "aa40a7ba-69aa-4603-a87d-c1f1be6dff07",
     "prev": "b661434d-a88d-4b0e-87fe-2a1d02da3c77",
     "regions": {
      "7e523e89-5576-4ae1-acc6-eadac9fbfc77": {
       "attrs": {
        "height": 0.8,
        "width": 0.8,
        "x": 0.1,
        "y": 0.1
       },
       "content": {
        "cell": "59bbd269-d9b1-44aa-a67e-fdddcfd57fac",
        "part": "whole"
       },
       "id": "7e523e89-5576-4ae1-acc6-eadac9fbfc77"
      }
     }
    },
    "ae58b0be-9c35-45a7-adb1-62b375d78d7c": {
     "id": "ae58b0be-9c35-45a7-adb1-62b375d78d7c",
     "prev": "633f1e27-de5d-480a-a8df-1fa8ef4ed25e",
     "regions": {
      "7ba2a00d-92a3-4acd-b365-4cec79ebef73": {
       "attrs": {
        "height": 0.8,
        "width": 0.8,
        "x": 0.1,
        "y": 0.1
       },
       "content": {
        "cell": "7504f4fd-2c1b-473d-bd39-791b8421a970",
        "part": "whole"
       },
       "id": "7ba2a00d-92a3-4acd-b365-4cec79ebef73"
      }
     }
    },
    "ae78f38c-3d0b-4e35-960f-9015845ad926": {
     "id": "ae78f38c-3d0b-4e35-960f-9015845ad926",
     "prev": "68b6bda0-d70c-4682-89cc-a7267c6b1eff",
     "regions": {
      "93f228b4-76e6-46a4-942c-c92e9e60149a": {
       "attrs": {
        "height": 0.8,
        "width": 0.8,
        "x": 0.1,
        "y": 0.1
       },
       "content": {
        "cell": "09bb8c8b-6b64-4a3d-8b29-4f38c631e844",
        "part": "whole"
       },
       "id": "93f228b4-76e6-46a4-942c-c92e9e60149a"
      }
     },
     "theme": "47bb9acb-e0f6-4b7b-a467-ffb438456aa4"
    },
    "afc5304e-7071-4e01-8666-8e2ce49c0aae": {
     "id": "afc5304e-7071-4e01-8666-8e2ce49c0aae",
     "prev": "a3a18a69-cb7f-4370-a216-38991c7d8b74",
     "regions": {
      "81a334b1-658c-43da-99a3-9d9667844b5f": {
       "attrs": {
        "height": 0.8,
        "width": 0.8,
        "x": 0.1,
        "y": 0.1
       },
       "content": {
        "cell": "661c229f-f692-4128-9cea-64799fdf6df2",
        "part": "whole"
       },
       "id": "81a334b1-658c-43da-99a3-9d9667844b5f"
      }
     }
    },
    "b0205232-8966-4a75-b04b-fa32556cdfef": {
     "id": "b0205232-8966-4a75-b04b-fa32556cdfef",
     "prev": "0ee2c0b0-263d-468b-9e53-7ffd79657964",
     "regions": {
      "59bec3dd-6b72-41dd-b375-d4b5777b9106": {
       "attrs": {
        "height": 0.8,
        "width": 0.8,
        "x": 0.1,
        "y": 0.1
       },
       "content": {
        "cell": "710f7956-436b-447d-a726-3cf558c9e2b4",
        "part": "whole"
       },
       "id": "59bec3dd-6b72-41dd-b375-d4b5777b9106"
      }
     }
    },
    "b15f72d7-1b8d-4c9f-88dc-92919c240e16": {
     "id": "b15f72d7-1b8d-4c9f-88dc-92919c240e16",
     "prev": "fc75ba41-5b92-4fda-94f8-9dbfdbc7da79",
     "regions": {
      "e9d3b322-04ac-45c3-bb62-5ac48ee98ee2": {
       "attrs": {
        "height": 0.8,
        "width": 0.8,
        "x": 0.1,
        "y": 0.1
       },
       "content": {
        "cell": "a8632386-f11e-43b1-9b07-2a7054cd41dd",
        "part": "whole"
       },
       "id": "e9d3b322-04ac-45c3-bb62-5ac48ee98ee2"
      }
     }
    },
    "b2b234eb-1beb-48e9-bd82-eabe3f54dbae": {
     "id": "b2b234eb-1beb-48e9-bd82-eabe3f54dbae",
     "prev": "24441077-d25b-4e28-bc39-b63cb04d3b79",
     "regions": {
      "5379d23b-13c2-4315-85ea-30dee5db466b": {
       "attrs": {
        "height": 0.8,
        "width": 0.8,
        "x": 0.1,
        "y": 0.1
       },
       "content": {
        "cell": "24d114b7-a0bb-4f85-a345-60c96ac4db89",
        "part": "whole"
       },
       "id": "5379d23b-13c2-4315-85ea-30dee5db466b"
      }
     }
    },
    "b550886d-2d2a-408d-980f-707af16f2ae1": {
     "id": "b550886d-2d2a-408d-980f-707af16f2ae1",
     "prev": "58b6e184-7a25-400a-a1a2-5040d77184fb",
     "regions": {
      "d0ec9db0-50db-429f-b61d-5c1e185dccd8": {
       "attrs": {
        "height": 0.8,
        "width": 0.8,
        "x": 0.1,
        "y": 0.1
       },
       "content": {
        "cell": "347c2aba-10a6-4b3d-ad86-01a366459c7c",
        "part": "whole"
       },
       "id": "d0ec9db0-50db-429f-b61d-5c1e185dccd8"
      }
     }
    },
    "b661434d-a88d-4b0e-87fe-2a1d02da3c77": {
     "id": "b661434d-a88d-4b0e-87fe-2a1d02da3c77",
     "prev": "787d56be-12e5-450e-9984-73675db5131d",
     "regions": {
      "f880b2c3-9600-41ac-b309-587a2f780ae9": {
       "attrs": {
        "height": 0.8,
        "width": 0.8,
        "x": 0.1,
        "y": 0.1
       },
       "content": {
        "cell": "ed12fb97-091c-4ee1-abf3-2acf74caa42a",
        "part": "whole"
       },
       "id": "f880b2c3-9600-41ac-b309-587a2f780ae9"
      }
     }
    },
    "b6dea48b-72dd-41ab-976a-6f5ea2bba092": {
     "id": "b6dea48b-72dd-41ab-976a-6f5ea2bba092",
     "prev": "12b115a9-4c2f-464d-ba7b-7ea133dcc798",
     "regions": {
      "9b5896f2-897c-48b7-8c1e-90973d66c95b": {
       "attrs": {
        "height": 0.8,
        "width": 0.8,
        "x": 0.1,
        "y": 0.1
       },
       "content": {
        "cell": "d41e1984-ee5a-48fd-ae9f-31367a8c1f3a",
        "part": "whole"
       },
       "id": "9b5896f2-897c-48b7-8c1e-90973d66c95b"
      }
     }
    },
    "bae44841-a930-45c2-abff-d28d28de3b4c": {
     "id": "bae44841-a930-45c2-abff-d28d28de3b4c",
     "prev": "8c82f4a8-9e47-49eb-9830-34c48a705046",
     "regions": {
      "29bbba0e-7531-4755-b80f-ee389a0d485c": {
       "attrs": {
        "height": 0.8,
        "width": 0.8,
        "x": 0.1,
        "y": 0.1
       },
       "content": {
        "cell": "bc7a5fcb-641b-4a06-b770-272a6ddd9067",
        "part": "whole"
       },
       "id": "29bbba0e-7531-4755-b80f-ee389a0d485c"
      }
     }
    },
    "bb0a9f96-2c08-4063-b48f-ec0b61efffd4": {
     "id": "bb0a9f96-2c08-4063-b48f-ec0b61efffd4",
     "prev": "cff253a2-65b4-4d83-b7a9-ee13726b956b",
     "regions": {
      "b74e3b8c-97b9-4581-8c2f-bc20764d81a2": {
       "attrs": {
        "height": 0.8,
        "width": 0.8,
        "x": 0.1,
        "y": 0.1
       },
       "content": {
        "cell": "345233eb-980b-474e-8156-0bc8529b0928",
        "part": "whole"
       },
       "id": "b74e3b8c-97b9-4581-8c2f-bc20764d81a2"
      }
     }
    },
    "bbf9250d-6aa6-4a75-aa27-25f639e5a12d": {
     "id": "bbf9250d-6aa6-4a75-aa27-25f639e5a12d",
     "prev": "24a1ceca-785a-499d-a8ae-bc02041b5da9",
     "regions": {
      "45d60e92-f8c3-4ea9-9b02-f4ed10b2c2fa": {
       "attrs": {
        "height": 0.8,
        "width": 0.8,
        "x": 0.1,
        "y": 0.1
       },
       "content": {
        "cell": "9d0e889e-175b-4f11-b7b8-eb5eca1054ed",
        "part": "whole"
       },
       "id": "45d60e92-f8c3-4ea9-9b02-f4ed10b2c2fa"
      }
     }
    },
    "bcc2c127-6e18-408d-bbaf-d1cd026a0b68": {
     "id": "bcc2c127-6e18-408d-bbaf-d1cd026a0b68",
     "prev": "6f696c16-f3d1-4f6e-a311-0c3f31cac9f3",
     "regions": {
      "2d1d87fd-5f15-4eb7-9d27-7e11cb95bb21": {
       "attrs": {
        "height": 0.8,
        "width": 0.8,
        "x": 0.1,
        "y": 0.1
       },
       "content": {
        "cell": "afea09f1-71d5-4fc6-8d9b-a9b3766c2fdb",
        "part": "whole"
       },
       "id": "2d1d87fd-5f15-4eb7-9d27-7e11cb95bb21"
      }
     }
    },
    "bdf7a5f0-b096-46b3-9039-ac955be06f44": {
     "id": "bdf7a5f0-b096-46b3-9039-ac955be06f44",
     "prev": "39c26525-3859-4d62-9b25-95fa04c21283",
     "regions": {
      "0330d618-42b4-40e3-97c2-30607f1c80ed": {
       "attrs": {
        "height": 0.8,
        "width": 0.8,
        "x": 0.1,
        "y": 0.1
       },
       "content": {
        "cell": "7a33dbf4-3585-4af2-bc71-bbd87120cdcb",
        "part": "whole"
       },
       "id": "0330d618-42b4-40e3-97c2-30607f1c80ed"
      }
     }
    },
    "be3bfc02-72ac-4adc-a6cd-8ba466987eef": {
     "id": "be3bfc02-72ac-4adc-a6cd-8ba466987eef",
     "prev": "4d922012-d02b-429e-b1f5-1dc776397f56",
     "regions": {
      "a3b90314-a9e7-46d9-a112-d245d0a4157b": {
       "attrs": {
        "height": 0.8,
        "width": 0.8,
        "x": 0.1,
        "y": 0.1
       },
       "content": {
        "cell": "abd6ddab-e84d-46ad-ae54-7d2d8c5bab11",
        "part": "whole"
       },
       "id": "a3b90314-a9e7-46d9-a112-d245d0a4157b"
      }
     }
    },
    "c03c2fe4-14a9-4a69-8033-41295af1e554": {
     "id": "c03c2fe4-14a9-4a69-8033-41295af1e554",
     "prev": "b15f72d7-1b8d-4c9f-88dc-92919c240e16",
     "regions": {
      "e163ab97-c122-49e4-a85d-7a10fd29d103": {
       "attrs": {
        "height": 0.8,
        "width": 0.8,
        "x": 0.1,
        "y": 0.1
       },
       "content": {
        "cell": "164630db-cd1b-4ced-8999-bac9c8da77ef",
        "part": "whole"
       },
       "id": "e163ab97-c122-49e4-a85d-7a10fd29d103"
      }
     }
    },
    "c2f83f7b-cb3c-4976-b681-167d2e76023d": {
     "id": "c2f83f7b-cb3c-4976-b681-167d2e76023d",
     "prev": "116ba7c2-76f3-4c40-b550-2ffebdeb625f",
     "regions": {
      "a57526a0-9bab-4e9b-b69e-5fc92e07ec36": {
       "attrs": {
        "height": 0.8,
        "width": 0.8,
        "x": 0.1,
        "y": 0.1
       },
       "content": {
        "cell": "3c72b3f8-3240-45b2-ac73-8614df84fa5e",
        "part": "whole"
       },
       "id": "a57526a0-9bab-4e9b-b69e-5fc92e07ec36"
      }
     }
    },
    "c56bc3c1-b589-4573-b829-28e4f1c45f02": {
     "id": "c56bc3c1-b589-4573-b829-28e4f1c45f02",
     "prev": "d2070e49-1f82-4287-9ead-8af957713e86",
     "regions": {
      "394c0ce4-ea13-4049-ada4-8995d0fbbd30": {
       "attrs": {
        "height": 0.8,
        "width": 0.8,
        "x": 0.1,
        "y": 0.1
       },
       "content": {
        "cell": "5fa08020-d210-4b60-be94-d9e5849cb9d0",
        "part": "whole"
       },
       "id": "394c0ce4-ea13-4049-ada4-8995d0fbbd30"
      }
     }
    },
    "c59f7d22-efc2-4160-abf4-5e2b432b3f4e": {
     "id": "c59f7d22-efc2-4160-abf4-5e2b432b3f4e",
     "prev": "3236259e-9718-4eb6-9bb6-a1949ddc969a",
     "regions": {
      "7edce916-7c53-44e4-9f1a-94fcdd3cfd3b": {
       "attrs": {
        "height": 0.8,
        "width": 0.8,
        "x": 0.1,
        "y": 0.1
       },
       "content": {
        "cell": "e65df47b-845b-43ff-887a-a2e303ceaf68",
        "part": "whole"
       },
       "id": "7edce916-7c53-44e4-9f1a-94fcdd3cfd3b"
      }
     }
    },
    "c7deee0c-1ccf-46d9-a51e-ca9b49e449c7": {
     "id": "c7deee0c-1ccf-46d9-a51e-ca9b49e449c7",
     "prev": "fdd53036-6b25-44c3-8008-1a8950f65ea2",
     "regions": {
      "2268b92d-d37c-4594-9172-34b8986cd8b9": {
       "attrs": {
        "height": 0.8,
        "width": 0.8,
        "x": 0.1,
        "y": 0.1
       },
       "content": {
        "cell": "daca13df-d47f-44d9-8e90-d1b7660851c3",
        "part": "whole"
       },
       "id": "2268b92d-d37c-4594-9172-34b8986cd8b9"
      }
     }
    },
    "c89b7210-e956-4242-b3f6-231edc3b9731": {
     "id": "c89b7210-e956-4242-b3f6-231edc3b9731",
     "prev": "26c57f6a-c921-4490-93cd-77b3c79b1991",
     "regions": {
      "030b7cb6-7da1-4e30-b3b2-46d6513a548d": {
       "attrs": {
        "height": 0.8,
        "width": 0.8,
        "x": 0.1,
        "y": 0.1
       },
       "content": {
        "cell": "fde731d6-5149-4ee8-ad30-cf2bc9c5e32b",
        "part": "whole"
       },
       "id": "030b7cb6-7da1-4e30-b3b2-46d6513a548d"
      }
     }
    },
    "ca0e315e-0f45-467d-81ca-2c88a93ce8f3": {
     "id": "ca0e315e-0f45-467d-81ca-2c88a93ce8f3",
     "prev": "b6dea48b-72dd-41ab-976a-6f5ea2bba092",
     "regions": {
      "3c957e68-d52c-42bb-8f5c-df40c7cb0ffa": {
       "attrs": {
        "height": 0.8,
        "width": 0.8,
        "x": 0.1,
        "y": 0.1
       },
       "content": {
        "cell": "1a85efb9-4d82-473b-acd2-128833db8a86",
        "part": "whole"
       },
       "id": "3c957e68-d52c-42bb-8f5c-df40c7cb0ffa"
      }
     }
    },
    "caa91582-795f-4d0f-bed3-baeb8a2eb540": {
     "id": "caa91582-795f-4d0f-bed3-baeb8a2eb540",
     "prev": "3700475a-6cd3-4052-bccc-c936f49ac1c6",
     "regions": {
      "4f216bd6-1bbb-482b-bcad-e9253cdc34e7": {
       "attrs": {
        "height": 0.8,
        "width": 0.8,
        "x": 0.1,
        "y": 0.1
       },
       "content": {
        "cell": "7e7b4e2f-7e4e-499c-9a58-80e9393dfccb",
        "part": "whole"
       },
       "id": "4f216bd6-1bbb-482b-bcad-e9253cdc34e7"
      }
     }
    },
    "cc1014ab-b6c2-4c45-aad3-f08702debe87": {
     "id": "cc1014ab-b6c2-4c45-aad3-f08702debe87",
     "prev": "b0205232-8966-4a75-b04b-fa32556cdfef",
     "regions": {
      "62b1c4e1-be07-4d5b-9dc4-ed8108c8a280": {
       "attrs": {
        "height": 0.8,
        "width": 0.8,
        "x": 0.1,
        "y": 0.1
       },
       "content": {
        "cell": "00d604aa-562c-4ba8-9696-792740c4b40f",
        "part": "whole"
       },
       "id": "62b1c4e1-be07-4d5b-9dc4-ed8108c8a280"
      }
     }
    },
    "cd45e55d-5a5c-4f4e-9e5e-f91dbbe35691": {
     "id": "cd45e55d-5a5c-4f4e-9e5e-f91dbbe35691",
     "prev": "329163e0-0f30-4ed0-8c96-d79f8c645a18",
     "regions": {
      "3522739d-f0c8-4f4f-be66-5c4b62114740": {
       "attrs": {
        "height": 0.8,
        "width": 0.8,
        "x": 0.1,
        "y": 0.1
       },
       "content": {
        "cell": "6553d322-bd20-4e5c-a1cd-58e7b074b8dd",
        "part": "whole"
       },
       "id": "3522739d-f0c8-4f4f-be66-5c4b62114740"
      }
     }
    },
    "cfd1c07a-6110-4cff-82dd-d918a500ca58": {
     "id": "cfd1c07a-6110-4cff-82dd-d918a500ca58",
     "prev": "0f91ec57-0bdf-4dcb-96e5-cde750ee66d6",
     "regions": {
      "12090408-836a-421e-84ff-687e2d5062bc": {
       "attrs": {
        "height": 0.8,
        "width": 0.8,
        "x": 0.1,
        "y": 0.1
       },
       "content": {
        "cell": "f636dae1-f0d9-4ffa-a83c-c306977ba8f7",
        "part": "whole"
       },
       "id": "12090408-836a-421e-84ff-687e2d5062bc"
      }
     }
    },
    "cff253a2-65b4-4d83-b7a9-ee13726b956b": {
     "id": "cff253a2-65b4-4d83-b7a9-ee13726b956b",
     "prev": "541e05f4-3f1a-483e-9aa1-c97e956c9a52",
     "regions": {
      "f4a700e7-30d5-43b9-863e-5f9c2a4aed73": {
       "attrs": {
        "height": 0.8,
        "width": 0.8,
        "x": 0.1,
        "y": 0.1
       },
       "content": {
        "cell": "2120f2d5-76b6-4e67-a243-8fa7a5d45cd7",
        "part": "whole"
       },
       "id": "f4a700e7-30d5-43b9-863e-5f9c2a4aed73"
      }
     }
    },
    "d033e243-c4d0-4f5e-8f33-939a1e3a28a9": {
     "id": "d033e243-c4d0-4f5e-8f33-939a1e3a28a9",
     "prev": "aa326643-637a-4c8e-8299-7f4b08037b9f",
     "regions": {
      "12a946d5-c9f4-4657-81ad-07f271264f78": {
       "attrs": {
        "height": 0.8,
        "width": 0.8,
        "x": 0.1,
        "y": 0.1
       },
       "content": {
        "cell": "c7d3fa71-f6a0-43d2-adc6-8a78dc74a93b",
        "part": "whole"
       },
       "id": "12a946d5-c9f4-4657-81ad-07f271264f78"
      }
     }
    },
    "d2070e49-1f82-4287-9ead-8af957713e86": {
     "id": "d2070e49-1f82-4287-9ead-8af957713e86",
     "prev": "20a841d0-a1e7-43e9-b71c-7843d54a68e5",
     "regions": {
      "3c9aaf7c-a1db-4f8f-9b52-ffd3a5f9f26f": {
       "attrs": {
        "height": 0.8,
        "width": 0.8,
        "x": 0.1,
        "y": 0.1
       },
       "content": {
        "cell": "83255b8a-0e3b-4bc1-ab54-82e08866c04f",
        "part": "whole"
       },
       "id": "3c9aaf7c-a1db-4f8f-9b52-ffd3a5f9f26f"
      }
     }
    },
    "d33ff74c-27e0-48f8-807a-8e564035e50b": {
     "id": "d33ff74c-27e0-48f8-807a-8e564035e50b",
     "prev": "4b47b2ba-acad-4e8d-ab33-9a2b63a06999",
     "regions": {
      "dfda341c-beee-41f1-90c3-d1de44cb956f": {
       "attrs": {
        "height": 0.8,
        "width": 0.8,
        "x": 0.1,
        "y": 0.1
       },
       "content": {
        "cell": "89df01a1-de60-4ae0-b58a-e18acb386198",
        "part": "whole"
       },
       "id": "dfda341c-beee-41f1-90c3-d1de44cb956f"
      }
     }
    },
    "d440a85f-0146-420d-9a93-452143210f4a": {
     "id": "d440a85f-0146-420d-9a93-452143210f4a",
     "prev": "257637b3-dacc-4990-924d-13a83aa532f4",
     "regions": {
      "4ce0c36e-2c9e-4cfc-a60a-a6a7375d32f1": {
       "attrs": {
        "height": 0.8,
        "width": 0.8,
        "x": 0.1,
        "y": 0.1
       },
       "content": {
        "cell": "781ec376-f9b4-4bd1-acbf-a2968db34b8b",
        "part": "whole"
       },
       "id": "4ce0c36e-2c9e-4cfc-a60a-a6a7375d32f1"
      }
     }
    },
    "d47b1559-aba6-4e6b-a314-02816246f86c": {
     "id": "d47b1559-aba6-4e6b-a314-02816246f86c",
     "prev": "a6bb41c8-4672-45c4-bace-de60551a935f",
     "regions": {
      "69649409-6dc7-44f8-b661-d73508fa1456": {
       "attrs": {
        "height": 0.8,
        "width": 0.8,
        "x": 0.1,
        "y": 0.1
       },
       "content": {
        "cell": "f6333c15-9cd9-4f74-8ced-85284b847681",
        "part": "whole"
       },
       "id": "69649409-6dc7-44f8-b661-d73508fa1456"
      }
     }
    },
    "d5064941-d820-482a-b870-e1e4c0f1a8a3": {
     "id": "d5064941-d820-482a-b870-e1e4c0f1a8a3",
     "prev": "a34fb588-8d0c-4774-b1c8-ab882d630d0e",
     "regions": {
      "f1e0d8ca-7a83-4657-b517-bbba63b37b37": {
       "attrs": {
        "height": 0.8,
        "width": 0.8,
        "x": 0.1,
        "y": 0.1
       },
       "content": {
        "cell": "7588da9f-049d-4573-a93f-06383b040f9f",
        "part": "whole"
       },
       "id": "f1e0d8ca-7a83-4657-b517-bbba63b37b37"
      }
     }
    },
    "d76fd7e0-60be-49a2-8d1e-3c1922d9704e": {
     "id": "d76fd7e0-60be-49a2-8d1e-3c1922d9704e",
     "prev": "37319440-43ee-4d26-8836-4cd83299aa75",
     "regions": {
      "9bba9780-c205-4e5f-a56d-c177116ebf39": {
       "attrs": {
        "height": 0.8,
        "width": 0.8,
        "x": 0.1,
        "y": 0.1
       },
       "content": {
        "cell": "d1578356-a093-4155-ab8d-ec39db09c55d",
        "part": "whole"
       },
       "id": "9bba9780-c205-4e5f-a56d-c177116ebf39"
      }
     }
    },
    "da346b92-e42d-4b1b-b93d-47df2cd05a21": {
     "id": "da346b92-e42d-4b1b-b93d-47df2cd05a21",
     "prev": "01c466c9-505d-4818-80dd-e77a6a1089e4",
     "regions": {
      "f21c9cbd-0d12-436b-8db6-69e259fc709a": {
       "attrs": {
        "height": 0.8,
        "width": 0.8,
        "x": 0.1,
        "y": 0.1
       },
       "content": {
        "cell": "15b18720-e722-431a-98a5-f7df3b7d42ed",
        "part": "whole"
       },
       "id": "f21c9cbd-0d12-436b-8db6-69e259fc709a"
      }
     }
    },
    "dd1b0eb1-2ecd-4cb5-b31d-fb37f261bf7d": {
     "id": "dd1b0eb1-2ecd-4cb5-b31d-fb37f261bf7d",
     "prev": "1a5cd7ef-7430-4ca2-ba22-a2d74761db3c",
     "regions": {
      "7baf8c40-143b-43a1-acac-9ec94bba63db": {
       "attrs": {
        "height": 0.8,
        "width": 0.8,
        "x": 0.1,
        "y": 0.1
       },
       "content": {
        "cell": "a673765d-d9ee-445d-b340-2d083286ca6c",
        "part": "whole"
       },
       "id": "7baf8c40-143b-43a1-acac-9ec94bba63db"
      }
     }
    },
    "df1bdec6-6ddc-470b-b84e-d05c8f7b076a": {
     "id": "df1bdec6-6ddc-470b-b84e-d05c8f7b076a",
     "prev": "626bff26-0849-4886-9547-17f72c3e0a28",
     "regions": {
      "3d003fb7-3c34-4f6b-9c23-c63d0bc9cfed": {
       "attrs": {
        "height": 0.8,
        "width": 0.8,
        "x": 0.1,
        "y": 0.1
       },
       "content": {
        "cell": "7e8a37ab-8a99-46e6-b151-ab51ca8e4553",
        "part": "whole"
       },
       "id": "3d003fb7-3c34-4f6b-9c23-c63d0bc9cfed"
      }
     }
    },
    "dff4d689-bb4e-43ca-9bc2-6470ca1f96ef": {
     "id": "dff4d689-bb4e-43ca-9bc2-6470ca1f96ef",
     "prev": "0cdfcce0-0391-4095-b402-5cfd6b9aa2f7",
     "regions": {
      "57878da2-5b34-42bc-8de1-97b287ac6d9d": {
       "attrs": {
        "height": 0.8,
        "width": 0.8,
        "x": 0.1,
        "y": 0.1
       },
       "content": {
        "cell": "861cf00d-a81c-4f5d-aa40-cf899eb6417e",
        "part": "whole"
       },
       "id": "57878da2-5b34-42bc-8de1-97b287ac6d9d"
      }
     }
    },
    "e0d8b2a3-b00e-4c3e-a34b-42d4717cb7b1": {
     "id": "e0d8b2a3-b00e-4c3e-a34b-42d4717cb7b1",
     "prev": "eed40385-28f9-4913-b70d-47c4ee634a77",
     "regions": {
      "0bdddb4c-4ce9-4253-9817-1d1d6eccf5a5": {
       "attrs": {
        "height": 0.8,
        "width": 0.8,
        "x": 0.1,
        "y": 0.1
       },
       "content": {
        "cell": "359fa208-2764-4108-a049-88bca12f42d7",
        "part": "whole"
       },
       "id": "0bdddb4c-4ce9-4253-9817-1d1d6eccf5a5"
      }
     }
    },
    "e199be0b-0af9-4f49-87d7-2ae0ac2dfe42": {
     "id": "e199be0b-0af9-4f49-87d7-2ae0ac2dfe42",
     "prev": "9e5665a0-419e-4331-aed0-8087f11ff2ce",
     "regions": {
      "ff56b503-0293-4b49-b8b5-a408b36100a8": {
       "attrs": {
        "height": 0.8,
        "width": 0.8,
        "x": 0.1,
        "y": 0.1
       },
       "content": {
        "cell": "7f04e9e4-4645-4905-a9d8-a6d4db41d57e",
        "part": "whole"
       },
       "id": "ff56b503-0293-4b49-b8b5-a408b36100a8"
      }
     }
    },
    "e34eb7ff-4f8c-4068-a4fc-152303c9d26e": {
     "id": "e34eb7ff-4f8c-4068-a4fc-152303c9d26e",
     "prev": "0c4761fa-af5a-4eb5-8bff-e73e94f8b31f",
     "regions": {
      "c9257738-316c-43d8-8a46-2f0aed641d79": {
       "attrs": {
        "height": 0.8,
        "width": 0.8,
        "x": 0.1,
        "y": 0.1
       },
       "content": {
        "cell": "fc1e4ed1-3163-496a-a546-3b19fbd72361",
        "part": "whole"
       },
       "id": "c9257738-316c-43d8-8a46-2f0aed641d79"
      }
     }
    },
    "e399fd20-f054-4872-bed0-1d44725d6502": {
     "id": "e399fd20-f054-4872-bed0-1d44725d6502",
     "prev": "332263da-55f7-4d38-8723-b68e53c37d52",
     "regions": {
      "98aea759-ac85-4d93-a878-f4dfa1131c2a": {
       "attrs": {
        "height": 0.8,
        "width": 0.8,
        "x": 0.1,
        "y": 0.1
       },
       "content": {
        "cell": "a666b8b7-f49d-4885-a49c-e6c0bff71122",
        "part": "whole"
       },
       "id": "98aea759-ac85-4d93-a878-f4dfa1131c2a"
      }
     }
    },
    "e8892b08-4099-4e2f-a30c-249a80da65f6": {
     "id": "e8892b08-4099-4e2f-a30c-249a80da65f6",
     "prev": "7b974f5e-d7e1-47e9-8501-dcd67c9049ae",
     "regions": {
      "cbf86485-63f5-4a30-a993-32e0f54fca81": {
       "attrs": {
        "height": 0.8,
        "width": 0.8,
        "x": 0.1,
        "y": 0.1
       },
       "content": {
        "cell": "359471f5-f4d0-457c-b5b4-49548405ac04",
        "part": "whole"
       },
       "id": "cbf86485-63f5-4a30-a993-32e0f54fca81"
      }
     }
    },
    "ec3476a1-ba59-4fdd-9655-93fd9c5997b4": {
     "id": "ec3476a1-ba59-4fdd-9655-93fd9c5997b4",
     "prev": "0dcd59fb-40a4-4ce8-a19a-3a2c1d41aeb8",
     "regions": {
      "e8f5275d-61fc-4e04-8a93-0b2dba50a016": {
       "attrs": {
        "height": 0.8,
        "width": 0.8,
        "x": 0.1,
        "y": 0.1
       },
       "content": {
        "cell": "d11e0291-42f1-4eaa-9800-5275fc10257b",
        "part": "whole"
       },
       "id": "e8f5275d-61fc-4e04-8a93-0b2dba50a016"
      }
     }
    },
    "eed40385-28f9-4913-b70d-47c4ee634a77": {
     "id": "eed40385-28f9-4913-b70d-47c4ee634a77",
     "prev": "206bc849-90a2-43db-827b-1231f5c07a8e",
     "regions": {
      "c9d9c7b3-9aa2-4fb0-94c1-d5866e92561e": {
       "attrs": {
        "height": 0.8,
        "width": 0.8,
        "x": 0.1,
        "y": 0.1
       },
       "content": {
        "cell": "64ae035d-cf82-4b55-8ea7-ec5f1f5e464b",
        "part": "whole"
       },
       "id": "c9d9c7b3-9aa2-4fb0-94c1-d5866e92561e"
      }
     }
    },
    "ef357950-e5a4-44b3-bef3-c9456b5e3ee8": {
     "id": "ef357950-e5a4-44b3-bef3-c9456b5e3ee8",
     "prev": "d440a85f-0146-420d-9a93-452143210f4a",
     "regions": {
      "2a2e0f4e-d45c-48dc-aa6a-6c886318b264": {
       "attrs": {
        "height": 0.8,
        "width": 0.8,
        "x": 0.1,
        "y": 0.1
       },
       "content": {
        "cell": "df03578a-3341-4e64-9c59-a1243038bca1",
        "part": "whole"
       },
       "id": "2a2e0f4e-d45c-48dc-aa6a-6c886318b264"
      }
     }
    },
    "ef7131df-f0e7-4c6f-bdc3-f167c2c5d4c0": {
     "id": "ef7131df-f0e7-4c6f-bdc3-f167c2c5d4c0",
     "prev": "c7deee0c-1ccf-46d9-a51e-ca9b49e449c7",
     "regions": {
      "8c5903ba-e17b-4f16-8832-24ce5eb20f24": {
       "attrs": {
        "height": 0.8,
        "width": 0.8,
        "x": 0.1,
        "y": 0.1
       },
       "content": {
        "cell": "217c485d-8019-482e-a33f-b276f0db4432",
        "part": "whole"
       },
       "id": "8c5903ba-e17b-4f16-8832-24ce5eb20f24"
      }
     }
    },
    "f1ce1f65-2f7a-4bdf-804a-4aa4a53414b2": {
     "id": "f1ce1f65-2f7a-4bdf-804a-4aa4a53414b2",
     "prev": "4c95bc0a-8158-4591-a7bd-eb18a8ce5b7a",
     "regions": {
      "cb025a0f-7e0c-4ba0-9189-e970e3317111": {
       "attrs": {
        "height": 0.8,
        "width": 0.8,
        "x": 0.1,
        "y": 0.1
       },
       "content": {
        "cell": "3241ae94-2381-4215-b725-a9637f7b9b59",
        "part": "whole"
       },
       "id": "cb025a0f-7e0c-4ba0-9189-e970e3317111"
      }
     }
    },
    "f4949dee-825b-4461-8d6d-26091954e26f": {
     "id": "f4949dee-825b-4461-8d6d-26091954e26f",
     "prev": "38122040-3d10-487d-a747-8b3239313135",
     "regions": {
      "4142a028-1b7f-4e5f-bba4-e824b9fd7094": {
       "attrs": {
        "height": 0.8,
        "width": 0.8,
        "x": 0.1,
        "y": 0.1
       },
       "content": {
        "cell": "7adadcac-14b0-46d8-810d-caa19dfcd67b",
        "part": "whole"
       },
       "id": "4142a028-1b7f-4e5f-bba4-e824b9fd7094"
      }
     }
    },
    "f773a670-a49c-4751-94a2-e9cbd9a4b83c": {
     "id": "f773a670-a49c-4751-94a2-e9cbd9a4b83c",
     "prev": "b2b234eb-1beb-48e9-bd82-eabe3f54dbae",
     "regions": {
      "869d73c5-1c4e-480a-97aa-583779614b35": {
       "attrs": {
        "height": 0.8,
        "width": 0.8,
        "x": 0.1,
        "y": 0.1
       },
       "content": {
        "cell": "4dac8ea8-b599-4cba-8cbd-2aa519c4f61f",
        "part": "whole"
       },
       "id": "869d73c5-1c4e-480a-97aa-583779614b35"
      }
     }
    },
    "f7897302-728c-4292-9e8b-b336c68cd2d1": {
     "id": "f7897302-728c-4292-9e8b-b336c68cd2d1",
     "prev": "701697ff-cd45-4a42-877d-0c2c2492904d",
     "regions": {
      "68829ecc-d5a8-4f9c-846d-0c73cce76c6e": {
       "attrs": {
        "height": 0.8,
        "width": 0.8,
        "x": 0.1,
        "y": 0.1
       },
       "content": {
        "cell": "a27e8708-d743-476c-ba13-6470c5c5120d",
        "part": "whole"
       },
       "id": "68829ecc-d5a8-4f9c-846d-0c73cce76c6e"
      }
     }
    },
    "fb05f6ad-bffc-462e-86af-c08787dba5cf": {
     "id": "fb05f6ad-bffc-462e-86af-c08787dba5cf",
     "prev": "6198c108-c6de-4455-9e22-e81a733c5ae3",
     "regions": {
      "82fa3e8b-8fc7-494f-9e1b-c9b5c5003faa": {
       "attrs": {
        "height": 0.8,
        "width": 0.8,
        "x": 0.1,
        "y": 0.1
       },
       "content": {
        "cell": "992bb3dd-6798-4e75-86bb-32b9cd040ff8",
        "part": "whole"
       },
       "id": "82fa3e8b-8fc7-494f-9e1b-c9b5c5003faa"
      }
     }
    },
    "fb425a68-d931-4921-b5b7-077e4f78e004": {
     "id": "fb425a68-d931-4921-b5b7-077e4f78e004",
     "prev": "23a86cbe-cf31-4fe0-bd5f-3110acc1ae1e",
     "regions": {
      "ad42e4d9-e362-45ff-a30d-fcf0a6771794": {
       "attrs": {
        "height": 0.8,
        "width": 0.8,
        "x": 0.1,
        "y": 0.1
       },
       "content": {
        "cell": "ae8e58c5-f3e5-4243-9635-bd6275cb08dc",
        "part": "whole"
       },
       "id": "ad42e4d9-e362-45ff-a30d-fcf0a6771794"
      }
     }
    },
    "fc75ba41-5b92-4fda-94f8-9dbfdbc7da79": {
     "id": "fc75ba41-5b92-4fda-94f8-9dbfdbc7da79",
     "prev": "e0d8b2a3-b00e-4c3e-a34b-42d4717cb7b1",
     "regions": {
      "43b3b3fb-a56d-478d-8b31-8e7cfd38206d": {
       "attrs": {
        "height": 0.8,
        "width": 0.8,
        "x": 0.1,
        "y": 0.1
       },
       "content": {
        "cell": "f84a0152-e13f-4f6c-b77c-324e987ac0a7",
        "part": "whole"
       },
       "id": "43b3b3fb-a56d-478d-8b31-8e7cfd38206d"
      }
     }
    },
    "fdd53036-6b25-44c3-8008-1a8950f65ea2": {
     "id": "fdd53036-6b25-44c3-8008-1a8950f65ea2",
     "prev": "49ce850e-5c0f-47aa-8504-2880e289d474",
     "regions": {
      "5602ee4b-e20b-4384-8b32-64522092e602": {
       "attrs": {
        "height": 0.8,
        "width": 0.8,
        "x": 0.1,
        "y": 0.1
       },
       "content": {
        "cell": "55805755-1f2f-4857-8104-a184457a1b8f",
        "part": "whole"
       },
       "id": "5602ee4b-e20b-4384-8b32-64522092e602"
      }
     }
    },
    "feb1d664-2302-4f1a-b416-0c760080cac7": {
     "id": "feb1d664-2302-4f1a-b416-0c760080cac7",
     "prev": "77020329-e59f-405d-b993-a07343140838",
     "regions": {
      "81639168-2163-4365-85a1-f3c606901f4c": {
       "attrs": {
        "height": 0.8,
        "width": 0.8,
        "x": 0.1,
        "y": 0.1
       },
       "content": {
        "cell": "efc1f06d-1fd0-4387-8973-7d2eed23d6ee",
        "part": "whole"
       },
       "id": "81639168-2163-4365-85a1-f3c606901f4c"
      }
     }
    }
   },
   "themes": {
    "default": "7e51ce42-9aff-419e-b319-84d5ed9db2fd",
    "theme": {
     "47bb9acb-e0f6-4b7b-a467-ffb438456aa4": {
      "backgrounds": {
       "dc7afa04-bf90-40b1-82a5-726e3cff5267": {
        "background-color": "31af15d2-7e15-44c5-ab5e-e04b16a89eff",
        "id": "dc7afa04-bf90-40b1-82a5-726e3cff5267"
       }
      },
      "id": "47bb9acb-e0f6-4b7b-a467-ffb438456aa4",
      "palette": {
       "19cc588f-0593-49c9-9f4b-e4d7cc113b1c": {
        "id": "19cc588f-0593-49c9-9f4b-e4d7cc113b1c",
        "rgb": [
         252,
         252,
         252
        ]
       },
       "31af15d2-7e15-44c5-ab5e-e04b16a89eff": {
        "id": "31af15d2-7e15-44c5-ab5e-e04b16a89eff",
        "rgb": [
         68,
         68,
         68
        ]
       },
       "50f92c45-a630-455b-aec3-788680ec7410": {
        "id": "50f92c45-a630-455b-aec3-788680ec7410",
        "rgb": [
         197,
         226,
         245
        ]
       },
       "c5cc3653-2ee1-402a-aba2-7caae1da4f6c": {
        "id": "c5cc3653-2ee1-402a-aba2-7caae1da4f6c",
        "rgb": [
         43,
         126,
         184
        ]
       },
       "efa7f048-9acb-414c-8b04-a26811511a21": {
        "id": "efa7f048-9acb-414c-8b04-a26811511a21",
        "rgb": [
         25.118061674008803,
         73.60176211453744,
         107.4819383259912
        ]
       }
      },
      "rules": {
       "a": {
        "color": "19cc588f-0593-49c9-9f4b-e4d7cc113b1c"
       },
       "blockquote": {
        "color": "50f92c45-a630-455b-aec3-788680ec7410",
        "font-size": 3
       },
       "code": {
        "font-family": "Anonymous Pro"
       },
       "h1": {
        "color": "19cc588f-0593-49c9-9f4b-e4d7cc113b1c",
        "font-family": "Merriweather",
        "font-size": 8
       },
       "h2": {
        "color": "19cc588f-0593-49c9-9f4b-e4d7cc113b1c",
        "font-family": "Merriweather",
        "font-size": 6
       },
       "h3": {
        "color": "50f92c45-a630-455b-aec3-788680ec7410",
        "font-family": "Lato",
        "font-size": 5.5
       },
       "h4": {
        "color": "c5cc3653-2ee1-402a-aba2-7caae1da4f6c",
        "font-family": "Lato",
        "font-size": 5
       },
       "h5": {
        "font-family": "Lato"
       },
       "h6": {
        "font-family": "Lato"
       },
       "h7": {
        "font-family": "Lato"
       },
       "li": {
        "color": "50f92c45-a630-455b-aec3-788680ec7410",
        "font-size": 3.25
       },
       "pre": {
        "font-family": "Anonymous Pro",
        "font-size": 4
       }
      },
      "text-base": {
       "color": "19cc588f-0593-49c9-9f4b-e4d7cc113b1c",
       "font-family": "Lato",
       "font-size": 4
      }
     },
     "7e51ce42-9aff-419e-b319-84d5ed9db2fd": {
      "backgrounds": {
       "dc7afa04-bf90-40b1-82a5-726e3cff5267": {
        "background-color": "31af15d2-7e15-44c5-ab5e-e04b16a89eff",
        "id": "dc7afa04-bf90-40b1-82a5-726e3cff5267"
       }
      },
      "id": "7e51ce42-9aff-419e-b319-84d5ed9db2fd",
      "palette": {
       "19cc588f-0593-49c9-9f4b-e4d7cc113b1c": {
        "id": "19cc588f-0593-49c9-9f4b-e4d7cc113b1c",
        "rgb": [
         252,
         252,
         252
        ]
       },
       "31af15d2-7e15-44c5-ab5e-e04b16a89eff": {
        "id": "31af15d2-7e15-44c5-ab5e-e04b16a89eff",
        "rgb": [
         68,
         68,
         68
        ]
       },
       "50f92c45-a630-455b-aec3-788680ec7410": {
        "id": "50f92c45-a630-455b-aec3-788680ec7410",
        "rgb": [
         197,
         226,
         245
        ]
       },
       "c5cc3653-2ee1-402a-aba2-7caae1da4f6c": {
        "id": "c5cc3653-2ee1-402a-aba2-7caae1da4f6c",
        "rgb": [
         43,
         126,
         184
        ]
       },
       "efa7f048-9acb-414c-8b04-a26811511a21": {
        "id": "efa7f048-9acb-414c-8b04-a26811511a21",
        "rgb": [
         25.118061674008803,
         73.60176211453744,
         107.4819383259912
        ]
       }
      },
      "rules": {
       "a": {
        "color": "19cc588f-0593-49c9-9f4b-e4d7cc113b1c"
       },
       "blockquote": {
        "color": "50f92c45-a630-455b-aec3-788680ec7410",
        "font-size": 3
       },
       "code": {
        "font-family": "Anonymous Pro"
       },
       "h1": {
        "color": "19cc588f-0593-49c9-9f4b-e4d7cc113b1c",
        "font-family": "Merriweather",
        "font-size": 8
       },
       "h2": {
        "color": "19cc588f-0593-49c9-9f4b-e4d7cc113b1c",
        "font-family": "Merriweather",
        "font-size": 6
       },
       "h3": {
        "color": "50f92c45-a630-455b-aec3-788680ec7410",
        "font-family": "Lato",
        "font-size": 5.5
       },
       "h4": {
        "color": "c5cc3653-2ee1-402a-aba2-7caae1da4f6c",
        "font-family": "Lato",
        "font-size": 5
       },
       "h5": {
        "font-family": "Lato"
       },
       "h6": {
        "font-family": "Lato"
       },
       "h7": {
        "font-family": "Lato"
       },
       "li": {
        "color": "50f92c45-a630-455b-aec3-788680ec7410",
        "font-size": 3.25
       },
       "pre": {
        "font-family": "Anonymous Pro",
        "font-size": 4
       }
      },
      "text-base": {
       "color": "19cc588f-0593-49c9-9f4b-e4d7cc113b1c",
       "font-family": "Lato",
       "font-size": 4
      }
     },
     "8b192049-57c6-4174-8d1a-c7a1c67843c0": {
      "backgrounds": {
       "dc7afa04-bf90-40b1-82a5-726e3cff5267": {
        "background-color": "31af15d2-7e15-44c5-ab5e-e04b16a89eff",
        "id": "dc7afa04-bf90-40b1-82a5-726e3cff5267"
       }
      },
      "id": "8b192049-57c6-4174-8d1a-c7a1c67843c0",
      "palette": {
       "19cc588f-0593-49c9-9f4b-e4d7cc113b1c": {
        "id": "19cc588f-0593-49c9-9f4b-e4d7cc113b1c",
        "rgb": [
         252,
         252,
         252
        ]
       },
       "31af15d2-7e15-44c5-ab5e-e04b16a89eff": {
        "id": "31af15d2-7e15-44c5-ab5e-e04b16a89eff",
        "rgb": [
         68,
         68,
         68
        ]
       },
       "50f92c45-a630-455b-aec3-788680ec7410": {
        "id": "50f92c45-a630-455b-aec3-788680ec7410",
        "rgb": [
         197,
         226,
         245
        ]
       },
       "c5cc3653-2ee1-402a-aba2-7caae1da4f6c": {
        "id": "c5cc3653-2ee1-402a-aba2-7caae1da4f6c",
        "rgb": [
         43,
         126,
         184
        ]
       },
       "efa7f048-9acb-414c-8b04-a26811511a21": {
        "id": "efa7f048-9acb-414c-8b04-a26811511a21",
        "rgb": [
         25.118061674008803,
         73.60176211453744,
         107.4819383259912
        ]
       }
      },
      "rules": {
       "a": {
        "color": "19cc588f-0593-49c9-9f4b-e4d7cc113b1c"
       },
       "blockquote": {
        "color": "50f92c45-a630-455b-aec3-788680ec7410",
        "font-size": 3
       },
       "code": {
        "font-family": "Anonymous Pro"
       },
       "h1": {
        "color": "19cc588f-0593-49c9-9f4b-e4d7cc113b1c",
        "font-family": "Merriweather",
        "font-size": 8
       },
       "h2": {
        "color": "19cc588f-0593-49c9-9f4b-e4d7cc113b1c",
        "font-family": "Merriweather",
        "font-size": 6
       },
       "h3": {
        "color": "50f92c45-a630-455b-aec3-788680ec7410",
        "font-family": "Lato",
        "font-size": 5.5
       },
       "h4": {
        "color": "c5cc3653-2ee1-402a-aba2-7caae1da4f6c",
        "font-family": "Lato",
        "font-size": 5
       },
       "h5": {
        "font-family": "Lato"
       },
       "h6": {
        "font-family": "Lato"
       },
       "h7": {
        "font-family": "Lato"
       },
       "li": {
        "color": "50f92c45-a630-455b-aec3-788680ec7410",
        "font-size": 3.25
       },
       "pre": {
        "font-family": "Anonymous Pro",
        "font-size": 4
       }
      },
      "text-base": {
       "color": "19cc588f-0593-49c9-9f4b-e4d7cc113b1c",
       "font-family": "Lato",
       "font-size": 4
      }
     },
     "b1cb1e6e-1c46-4bac-b288-24786d12588d": {
      "backgrounds": {
       "dc7afa04-bf90-40b1-82a5-726e3cff5267": {
        "background-color": "31af15d2-7e15-44c5-ab5e-e04b16a89eff",
        "id": "dc7afa04-bf90-40b1-82a5-726e3cff5267"
       }
      },
      "id": "b1cb1e6e-1c46-4bac-b288-24786d12588d",
      "palette": {
       "19cc588f-0593-49c9-9f4b-e4d7cc113b1c": {
        "id": "19cc588f-0593-49c9-9f4b-e4d7cc113b1c",
        "rgb": [
         252,
         252,
         252
        ]
       },
       "31af15d2-7e15-44c5-ab5e-e04b16a89eff": {
        "id": "31af15d2-7e15-44c5-ab5e-e04b16a89eff",
        "rgb": [
         68,
         68,
         68
        ]
       },
       "50f92c45-a630-455b-aec3-788680ec7410": {
        "id": "50f92c45-a630-455b-aec3-788680ec7410",
        "rgb": [
         197,
         226,
         245
        ]
       },
       "c5cc3653-2ee1-402a-aba2-7caae1da4f6c": {
        "id": "c5cc3653-2ee1-402a-aba2-7caae1da4f6c",
        "rgb": [
         43,
         126,
         184
        ]
       },
       "efa7f048-9acb-414c-8b04-a26811511a21": {
        "id": "efa7f048-9acb-414c-8b04-a26811511a21",
        "rgb": [
         25.118061674008803,
         73.60176211453744,
         107.4819383259912
        ]
       }
      },
      "rules": {
       "a": {
        "color": "19cc588f-0593-49c9-9f4b-e4d7cc113b1c"
       },
       "blockquote": {
        "color": "50f92c45-a630-455b-aec3-788680ec7410",
        "font-size": 3
       },
       "code": {
        "font-family": "Anonymous Pro"
       },
       "h1": {
        "color": "19cc588f-0593-49c9-9f4b-e4d7cc113b1c",
        "font-family": "Merriweather",
        "font-size": 8
       },
       "h2": {
        "color": "19cc588f-0593-49c9-9f4b-e4d7cc113b1c",
        "font-family": "Merriweather",
        "font-size": 6
       },
       "h3": {
        "color": "50f92c45-a630-455b-aec3-788680ec7410",
        "font-family": "Lato",
        "font-size": 5.5
       },
       "h4": {
        "color": "c5cc3653-2ee1-402a-aba2-7caae1da4f6c",
        "font-family": "Lato",
        "font-size": 5
       },
       "h5": {
        "font-family": "Lato"
       },
       "h6": {
        "font-family": "Lato"
       },
       "h7": {
        "font-family": "Lato"
       },
       "li": {
        "color": "50f92c45-a630-455b-aec3-788680ec7410",
        "font-size": 3.25
       },
       "pre": {
        "font-family": "Anonymous Pro",
        "font-size": 4
       }
      },
      "text-base": {
       "color": "19cc588f-0593-49c9-9f4b-e4d7cc113b1c",
       "font-family": "Lato",
       "font-size": 4
      }
     }
    }
   }
  }
 },
 "nbformat": 4,
 "nbformat_minor": 0
}
