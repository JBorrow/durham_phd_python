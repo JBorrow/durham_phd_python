{
 "cells": [
  {
   "cell_type": "markdown",
   "metadata": {},
   "source": [
    "# More matplotlib"
   ]
  },
  {
   "cell_type": "markdown",
   "metadata": {},
   "source": [
    "Matplotlib is a huge package that you can spend years working with but still not figure out everything it can do or how to do it. I usually go straight to StackOverflow to figure out how to do 'X with matplotlib', where 'X' is something new I've seen in someone else's papers, something I've guessed should be possible, but I've no clue how to do it, or one of those things I learned a few months ago but have since forgotten."
   ]
  },
  {
   "cell_type": "markdown",
   "metadata": {},
   "source": [
    "This notebook introduces a few common things that are useful for making plots for astronomy papers.\n",
    "\n",
    "- Histograms\n",
    "- Legends\n",
    "- Grids of plots\n",
    "- Filling between lines\n",
    "- Errorbars\n",
    "- Shapes (patches)\n",
    "- Text"
   ]
  },
  {
   "cell_type": "markdown",
   "metadata": {},
   "source": [
    "Run the next cell to import numpy and matplotlib and create some data we'll use in a couple of the examples."
   ]
  },
  {
   "cell_type": "code",
   "execution_count": null,
   "metadata": {
    "collapsed": false
   },
   "outputs": [],
   "source": [
    "import numpy as np\n",
    "import matplotlib.pyplot as pl\n",
    "%matplotlib inline\n",
    "\n",
    "# Set up some data\n",
    "# (data from Hogg, Bovy & Lang 2010)\n",
    "line_data = np.array([\n",
    "       (1, 201.0, 592.0, 9.0, 61.0, -0.84),\n",
    "       (2, 244.0, 401.0, 4.0, 25.0, 0.31),\n",
    "       (3, 47.0, 583.0, 11.0, 38.0, 0.64),\n",
    "       (4, 287.0, 402.0, 7.0, 15.0, -0.27),\n",
    "       (5, 203.0, 495.0, 5.0, 21.0, -0.33),\n",
    "       (6, 58.0, 173.0, 9.0, 15.0, 0.67),\n",
    "       (7, 210.0, 479.0, 4.0, 27.0, -0.02),\n",
    "       (8, 202.0, 504.0, 4.0, 14.0, -0.05),\n",
    "       (9, 198.0, 510.0, 11.0, 30.0, -0.84),\n",
    "       (10, 158.0, 416.0, 7.0, 16.0, -0.69),\n",
    "       (11, 165.0, 393.0, 5.0, 14.0, 0.3),\n",
    "       (12, 201.0, 442.0, 5.0, 25.0, -0.46),\n",
    "       (13, 157.0, 317.0, 5.0, 52.0, -0.03),\n",
    "       (14, 131.0, 311.0, 6.0, 16.0, 0.5),\n",
    "       (15, 166.0, 400.0, 6.0, 34.0, 0.73),\n",
    "       (16, 160.0, 337.0, 5.0, 31.0, -0.52),\n",
    "       (17, 186.0, 423.0, 9.0, 42.0, 0.9),\n",
    "       (18, 125.0, 334.0, 8.0, 26.0, 0.4),\n",
    "       (19, 218.0, 533.0, 6.0, 16.0, -0.78),\n",
    "       (20, 146.0, 344.0, 5.0, 22.0, -0.56)], \n",
    "      dtype=[('ID', '<i4'), ('x', '<f8'), ('y', '<f8'), ('sigma_x', '<f8'), ('sigma_y', '<f8'), ('rho_xy', '<f8')])"
   ]
  },
  {
   "cell_type": "markdown",
   "metadata": {},
   "source": [
    "## Histograms"
   ]
  },
  {
   "cell_type": "markdown",
   "metadata": {},
   "source": [
    "In th first matplotlib notebook we made a scatter plot of some points with a Gaussian distribution of points in (x,y). Here's the data again:"
   ]
  },
  {
   "cell_type": "code",
   "execution_count": null,
   "metadata": {
    "collapsed": false
   },
   "outputs": [],
   "source": [
    "np.random.seed(42)\n",
    "x = np.random.normal(loc=50,scale=20,size=1000)\n",
    "y = np.random.normal(loc=x+5,scale=10,size=1000)"
   ]
  },
  {
   "cell_type": "markdown",
   "metadata": {},
   "source": [
    "Here's the scatter plot again:"
   ]
  },
  {
   "cell_type": "code",
   "execution_count": null,
   "metadata": {
    "collapsed": false
   },
   "outputs": [],
   "source": [
    "f_b = pl.figure(figsize=(4,4))\n",
    "ax = pl.gca()\n",
    "ax.scatter(x,y,s=1,edgecolor='None',c='purple',label='$z=0$')\n",
    "ax.set_xlim(0,100)\n",
    "ax.set_ylim(0,100)\n",
    "for i in [0,-1]:\n",
    "    pl.setp(ax.get_xticklabels()[i],visible=False)\n",
    "    pl.setp(ax.get_yticklabels()[i],visible=False)\n",
    "ax.set_xlabel(r'$x$')\n",
    "ax.set_ylabel(r'$y$');"
   ]
  },
  {
   "cell_type": "markdown",
   "metadata": {},
   "source": [
    "The following example shows a simple way to plot a histogram of the `x` coordinates of these points."
   ]
  },
  {
   "cell_type": "code",
   "execution_count": null,
   "metadata": {
    "collapsed": false
   },
   "outputs": [],
   "source": [
    "f = pl.figure(figsize=(4,4))\n",
    "\n",
    "bin_edges_x = np.arange(0,110,10)\n",
    "hx, junk_bins = np.histogram(x,bins=bin_edges_x) # junk_bins is just equal to bin_edges_x here\n",
    "pl.plot(bin_edges_x[:-1],hx,drawstyle='steps-post',c='k')\n",
    "ax = pl.gca()\n",
    "for i in [0,-1]:\n",
    "    pl.setp(ax.get_xticklabels()[i],visible=False)\n",
    "    pl.setp(ax.get_yticklabels()[i],visible=False)\n",
    "ax.set_xlabel(r'$x$')\n",
    "ax.set_ylabel(r'$N(x)$');\n",
    "\n",
    "# Just for this example, plot the edges of the bins as well\n",
    "for bin_edge in bin_edges_x[:-1]:\n",
    "    pl.axvline(bin_edge,c='lightgrey',lw=0.5,zorder=-10);"
   ]
  },
  {
   "cell_type": "markdown",
   "metadata": {},
   "source": [
    "Notice that the array of bin *edges* we use for the histogram is one element larger than the histogram itself, because the bin edges include the right-most edge. We have to chop this off with `[:-1]` when we pass the array of edges to `plot`. The option `steps-post` to `plot` tells it that each value in the array of `x` coordinates (i.e. `bin_edges_x`) is the *left-hand* side of a bin that extends to the next value.\n",
    "\n",
    "I prefer that way of doing it because it's simple, but there are alternatives. For example, you could use the `hist` function of `matplotlib`, which is just as easy to use but draws more 'stuff' on the plot (a bunch of rectangles, rather than a line)."
   ]
  },
  {
   "cell_type": "code",
   "execution_count": null,
   "metadata": {
    "collapsed": false
   },
   "outputs": [],
   "source": [
    "f = pl.figure(figsize=(4,4))\n",
    "h,junk_bins,patches = pl.hist(x,bins=np.arange(0,110,10),color='red')\n",
    "\n",
    "ax = pl.gca()\n",
    "for i in [0,-1]:\n",
    "    pl.setp(ax.get_xticklabels()[i],visible=False)\n",
    "    pl.setp(ax.get_yticklabels()[i],visible=False)\n",
    "ax.set_xlabel(r'$x$')\n",
    "ax.set_ylabel(r'$N(x)$');\n",
    "\n",
    "# Just for this example, plot the edges of the bins as well\n",
    "for bin_edge in bin_edges_x[:-1]:\n",
    "    pl.axvline(bin_edge,c='lightgrey',lw=0.5,zorder=-10);"
   ]
  },
  {
   "cell_type": "markdown",
   "metadata": {},
   "source": [
    "(Notice that `hist` returns the `patches` (rectangles) used to make the plot, as well as the histogram and the bins that you get from `np.histogram`.) \n",
    "\n",
    "You can make the matplotlib version draw a line instead using the option `histtype='step'`, as in the next example."
   ]
  },
  {
   "cell_type": "markdown",
   "metadata": {},
   "source": [
    "It's common to normalize histograms such that the total area underneath them is equal to 1. You can do this with the `normed=True` keyword argument (either in `numpy` or `matplotlib`)."
   ]
  },
  {
   "cell_type": "code",
   "execution_count": null,
   "metadata": {
    "collapsed": false
   },
   "outputs": [],
   "source": [
    "f = pl.figure(figsize=(4,4))\n",
    "\n",
    "h_matplot,junk_bins,patches = pl.hist(x,bins=np.arange(0,110,10),color='red',normed=True,histtype='step')\n",
    "\n",
    "ax = pl.gca()\n",
    "for i in [0,-1]:\n",
    "    pl.setp(ax.get_xticklabels()[i],visible=False)\n",
    "    pl.setp(ax.get_yticklabels()[i],visible=False)\n",
    "ax.set_xlabel(r'$x$')\n",
    "ax.set_ylabel(r'$N(x)$');"
   ]
  },
  {
   "cell_type": "markdown",
   "metadata": {},
   "source": [
    "We can plot the generating distribution (the Gaussian we sampled `x` from in the first place) over the top of the histogram. "
   ]
  },
  {
   "cell_type": "code",
   "execution_count": null,
   "metadata": {
    "collapsed": false
   },
   "outputs": [],
   "source": [
    "f = pl.figure(figsize=(4,4))\n",
    "\n",
    "h_matplot,junk_bins,patches = pl.hist(x,bins=np.arange(0,110,10),color='red',normed=True,histtype='step')\n",
    "\n",
    "# Import a useful routine to work with the normal distribution from the scipy package.\n",
    "from scipy.stats import norm\n",
    "xx = np.arange(0,100.1,0.1) # we need a lot of x values to make a smooth distribution\n",
    "# norm.pdf(x,mean,sigma) gives the value of the normal distribution at x\n",
    "pl.plot(xx,norm.pdf(xx,50,20.0),c='k',drawstyle='steps-post',ls='solid')\n",
    "pl.axvline(50,c='grey',ls='--') # helpful line at the mean of the distribution\n",
    "\n",
    "ax = pl.gca()\n",
    "for i in [0,-1]:\n",
    "    pl.setp(ax.get_xticklabels()[i],visible=False)\n",
    "    pl.setp(ax.get_yticklabels()[i],visible=False)\n",
    "ax.set_xlabel(r'$x$')\n",
    "ax.set_ylabel(r'$N(x)$');"
   ]
  },
  {
   "cell_type": "markdown",
   "metadata": {},
   "source": [
    "Last thing for this example: what if we wanted to plot the underlying Gaussian distribution at the same resolution as our binned `x` data?"
   ]
  },
  {
   "cell_type": "code",
   "execution_count": null,
   "metadata": {
    "collapsed": false
   },
   "outputs": [],
   "source": [
    "f = pl.figure(figsize=(4,4))\n",
    "\n",
    "h_matplot,junk_bins,patches = pl.hist(x,bins=np.arange(0,110,10),color='red',normed=True,histtype='step')\n",
    "\n",
    "from scipy.stats import norm\n",
    "# Smooth version as above\n",
    "xx = np.arange(0,100.1,0.1)\n",
    "pl.plot(xx,norm.pdf(xx,50,20.0),c='k',drawstyle='steps-post',ls='solid')\n",
    "# Blocky version\n",
    "pl.plot(bin_edges_x,norm.pdf(bin_edges_x,50,20.0),c='b',drawstyle='steps-post')\n",
    "\n",
    "pl.axvline(50,c='grey',ls='--') # helpful line at the mean of the distribution\n",
    "\n",
    "ax = pl.gca()\n",
    "for i in [0,-1]:\n",
    "    pl.setp(ax.get_xticklabels()[i],visible=False)\n",
    "    pl.setp(ax.get_yticklabels()[i],visible=False)\n",
    "ax.set_xlabel(r'$x$')\n",
    "ax.set_ylabel(r'$N(x)$');\n",
    "pl.xlim(0,100)"
   ]
  },
  {
   "cell_type": "markdown",
   "metadata": {},
   "source": [
    "**Quick Execise:** The blue histogram doesn't line up... see if you can fix it. \n",
    "\n",
    "This is quite an easy mistake to make, but the solution isn't as easy as it looks. Clue: you need to add one line to make different values of x to give to `norm.pdf`, and use these in the blocky-version `plot` line together with a change to one of the optional arguments. "
   ]
  },
  {
   "cell_type": "markdown",
   "metadata": {
    "collapsed": true
   },
   "source": [
    "The above example used two keyword arguments available in most `matplotlib` routines: \n",
    "- `alpha`: changes the transparency of lines or markers (`alpha=0` transparent, `alpha=1` solid)\n",
    "- `zorder`: changes the relative ordering of lines or markers (objects with high `zorder` are drawn on top of those with lower `zorder`)."
   ]
  },
  {
   "cell_type": "markdown",
   "metadata": {},
   "source": [
    "## Legends"
   ]
  },
  {
   "cell_type": "markdown",
   "metadata": {},
   "source": [
    "This example shows how to make a legend automatically by adding 'label=' arguments in routines that add points and lines to plots. This plot uses the data created in the first cell of the notebook."
   ]
  },
  {
   "cell_type": "code",
   "execution_count": null,
   "metadata": {
    "collapsed": false
   },
   "outputs": [],
   "source": [
    "pl.figure(figsize=(5,5))\n",
    "pl.scatter(line_data['x'],line_data['y'],marker='s',edgecolor='None',c='k',label='Positive')\n",
    "pl.scatter(-line_data['x'],-line_data['y'],marker='s',edgecolor='None',c='r',label='Negative')\n",
    "pl.legend(loc='lower right') # Loc is the location of the legend."
   ]
  },
  {
   "cell_type": "markdown",
   "metadata": {},
   "source": [
    "We can change the look of the legend using its many options. The next cell shows how to get rid of the box around it, change the symbols to be big squares rather than the default of three little squares, and put the labels on the left-hand side."
   ]
  },
  {
   "cell_type": "code",
   "execution_count": null,
   "metadata": {
    "collapsed": false
   },
   "outputs": [],
   "source": [
    "pl.figure(figsize=(5,5))\n",
    "pl.scatter(line_data['x'],line_data['y'],marker='s',edgecolor='None',c='k',label='Positive')\n",
    "pl.scatter(-line_data['x'],-line_data['y'],marker='s',edgecolor='None',c='r',label='Negatiave')\n",
    "pl.legend(loc='lower right',frameon=False,scatterpoints=1,markerscale=2,\n",
    "          markerfirst=False,handletextpad=0.2,fontsize=10);\n",
    "\n",
    "# Let's fix the x tick labels and add a grid while we're at it...\n",
    "ax = pl.gca()\n",
    "pl.setp(ax.get_xticklabels(),rotation=45)\n",
    "pl.grid(alpha=0.2,c='g');"
   ]
  },
  {
   "cell_type": "markdown",
   "metadata": {},
   "source": [
    "Sometimes we want to have even more control over the legend. You can build your own legend by passing explicit `handles` and `labels` as the first two arguments to `legend`. The `labels` are just the text for each entry. The `handles` are 'primitive' matplotlib objects -- for example, a line is `Line2D`. This allows us to control the order of the legend without changing the order of the plot, and (for example) to have a line in the legend even though the points on the plot were made with `scatter`."
   ]
  },
  {
   "cell_type": "code",
   "execution_count": null,
   "metadata": {
    "collapsed": false
   },
   "outputs": [],
   "source": [
    "pl.figure(figsize=(5,5))\n",
    "pl.scatter(line_data['x'],line_data['y'],marker='s',edgecolor='None',c='k')\n",
    "pl.scatter(-line_data['x'],-line_data['y'],marker='s',edgecolor='None',c='r')\n",
    "\n",
    "ax = pl.gca()\n",
    "pl.setp(ax.get_xticklabels(),rotation=45);\n",
    "pl.grid(alpha=0.2,c='g')\n",
    "\n",
    "# Make a list of handles and a list of labels (in the same order).\n",
    "handles = list()\n",
    "labels  = list()\n",
    "\n",
    "handles.append(pl.Line2D([0],[1],c='r',lw=4))\n",
    "labels.append('Negative')\n",
    "\n",
    "handles.append(pl.Line2D([0],[1],c='k',lw=4))\n",
    "labels.append('Positive')\n",
    "\n",
    "pl.legend(handles,labels,loc='lower right',frameon=False,scatterpoints=1,markerscale=2,\n",
    "          markerfirst=False,handletextpad=1.0,fontsize=10);"
   ]
  },
  {
   "cell_type": "markdown",
   "metadata": {},
   "source": [
    "This even allows us to put two legends on the same plot, **but** we need to use a trick, otherwise `matplotlib` removes the first legend when we plot the second one. The trick is to assign the first legend to a variable and then use `add_artist` to put the first legend back after the second call to `legend`."
   ]
  },
  {
   "cell_type": "code",
   "execution_count": null,
   "metadata": {
    "collapsed": false
   },
   "outputs": [],
   "source": [
    "pl.figure(figsize=(5,5))\n",
    "pl.scatter(line_data['x'],line_data['y'],marker='s',edgecolor='None',c='k')\n",
    "pl.scatter(-line_data['x'],-line_data['y'],marker='s',edgecolor='None',c='r')\n",
    "\n",
    "ax = pl.gca()\n",
    "pl.setp(ax.get_xticklabels(),rotation=45)\n",
    "pl.grid(alpha=0.2,c='g')\n",
    "\n",
    "# Make a list of handles and a list of labels (in the same order).\n",
    "handles = list()\n",
    "labels  = list()\n",
    "\n",
    "handles.append(pl.Line2D([0],[1],c='r',lw=4))\n",
    "labels.append('Negative')\n",
    "handles.append(pl.Line2D([0],[1],c='k',lw=4))\n",
    "labels.append('Positive')\n",
    "\n",
    "# Notice we store whatever gets returned from legend in a variable here\n",
    "legend1 = pl.legend(handles,labels,loc='lower right',frameon=False,scatterpoints=1,markerscale=2,\n",
    "          markerfirst=False,handletextpad=1.0,fontsize=10);\n",
    "\n",
    "# For the sake of this example, just plot the same legend again in a different place. \n",
    "# This removes legend1 from the plot!\n",
    "legend2 = pl.legend(handles,labels,loc='upper left',frameon=False,scatterpoints=1,markerscale=2,\n",
    "          markerfirst=False,handletextpad=1.0,fontsize=10);\n",
    "\n",
    "# Trick to get the first legend back:\n",
    "ax = pl.gca() # get the axes object\n",
    "ax.add_artist(legend1); # put the first legend back"
   ]
  },
  {
   "cell_type": "markdown",
   "metadata": {},
   "source": [
    "## Grids of plots"
   ]
  },
  {
   "cell_type": "markdown",
   "metadata": {},
   "source": [
    "This example shows how to make a grid of plots using the `gridspec` module. There is a more 'low level' way to do this that by using `pl.subplot` directly without importing `gridspec`. You'll see that in a lot of examples, but I find gridspec is much easier to use, especially when things get more complicated. \n",
    "\n",
    "Be warned, over time `matplotlib` has introduced (too many) different ways to do this, so there is a lot of old, confusing advice on the web. "
   ]
  },
  {
   "cell_type": "code",
   "execution_count": null,
   "metadata": {
    "collapsed": false
   },
   "outputs": [],
   "source": [
    "import matplotlib.gridspec as gridspec\n",
    "\n",
    "figure = pl.figure(figsize=(6,6*3.0/2.0))\n",
    "\n",
    "nrow, ncol = 3,2\n",
    "gs         = gridspec.GridSpec(nrow,ncol,wspace=0.0,hspace=0.0)\n",
    "\n",
    "# This GridSpec object can be indexed with [] like a list or array.\n",
    "# The wspace=0 and hspace=0 remove all the space between the panels.\n",
    "# Set them to something larger (e.g. 1.0) if you want space between\n",
    "# the panels.\n",
    "\n",
    "# For later reference, I like to store each panel of the plot in a list\n",
    "axes = list()\n",
    "\n",
    "# Loop over rows and columns\n",
    "for irow in range(0,nrow):\n",
    "    for icol in range(0,ncol):\n",
    "        # Pass the GridSpec object for this row and column to pl.subplot\n",
    "        # This creates and returns a new axes object representing this panel.\n",
    "        ax = pl.subplot(gs[irow,icol])\n",
    "    \n",
    "        # Plot something on this axis. In this case, we'll just write the\n",
    "        # row and column as a text label (explained below)\n",
    "        pl.text(0.3,0.5,'Axis (%d,%d)'%(irow,icol),transform=ax.transAxes)\n",
    "        axes.append(ax) # store this axes object in our list\n",
    "\n",
    "# Now format all the axes -- for example, get rid of the labels on the\n",
    "# x-axis, except for the bottom row. \n",
    "\n",
    "# I like to put this formatting at the end, but it could be\n",
    "# included along with the loop that makes the plots above. \n",
    "\n",
    "# There are lots of ways to do this. This way should work \n",
    "# regardless of the values of nrow and ncol.\n",
    "axes       = np.array(axes).reshape(nrow,ncol) # reshape the list we made to match the shape of the plot\n",
    "# This will be True for the bottom row, where we \n",
    "has_xtick  = np.repeat(True,nrow*ncol).reshape(nrow,ncol)\n",
    "has_xtick[:-1,:] = False\n",
    "has_ytick  = np.repeat(True,nrow*ncol).reshape(nrow,ncol)\n",
    "has_ytick[:,1:] = False\n",
    "\n",
    "for iax in range(0,6):\n",
    "    # This is an alternative to a nested loop over irow, icol\n",
    "    gridcoord = np.unravel_index(iax,(nrow,ncol))\n",
    "    # Hide x tick labels, except for the bottom row\n",
    "    pl.setp(axes[gridcoord].get_xticklabels(),visible=has_xtick[gridcoord])\n",
    "    # Hide y tick labels, except for the left hand column \n",
    "    pl.setp(axes[gridcoord].get_yticklabels(),visible=has_ytick[gridcoord])\n",
    "    # Trim the tick labels from the end of each axis\n",
    "    pl.setp(axes[gridcoord].get_xticklabels()[0],visible=False)\n",
    "    pl.setp(axes[gridcoord].get_xticklabels()[-1],visible=False)\n",
    "    pl.setp(axes[gridcoord].get_yticklabels()[0],visible=False)\n",
    "    pl.setp(axes[gridcoord].get_yticklabels()[-1],visible=False)"
   ]
  },
  {
   "cell_type": "markdown",
   "metadata": {},
   "source": [
    "In the above example, we wrote text labels using `pl.text(x,y,label)`. We included the optional argument `transform=ax.transAxes`. This 'magic' lets us write `x` and `y` for the text as fractions of the extent of each axis (i.e. numbers between 0 and 1). If we didn't, we would have to give `x` and `y` in the units of the axis, which is usually not what we want to do, unless we're putting labels near specific data points."
   ]
  },
  {
   "cell_type": "markdown",
   "metadata": {},
   "source": [
    "## Fill Between"
   ]
  },
  {
   "cell_type": "markdown",
   "metadata": {},
   "source": [
    "This example should be obvious when you've made the plot. If you use this in more complicated situations and it comes out looking ugly, have a look at the `where` argument to `fill_between`."
   ]
  },
  {
   "cell_type": "code",
   "execution_count": null,
   "metadata": {
    "collapsed": false
   },
   "outputs": [],
   "source": [
    "x  = np.arange(-2*np.pi,2*np.pi,0.01)\n",
    "y1 = np.sin(x)\n",
    "y2 = np.sin(x+np.pi/2.0)\n",
    "\n",
    "pl.figure(figsize=(8,2))\n",
    "pl.plot(x,y1,c='k')\n",
    "pl.plot(x,y2,c='r')\n",
    "pl.fill_between(x,y1,y2,color='c',alpha=0.2)\n",
    "\n",
    "# Notice what's going on with the '2*list' here\n",
    "pl.fill_betweenx([-1,1],2*[2*np.pi/2.0],2*[2.5*np.pi/2.0],color='m',alpha=0.2)\n",
    "\n",
    "pl.xlim(-2*np.pi,2*np.pi)\n",
    "pl.ylim(-1,1);"
   ]
  },
  {
   "cell_type": "markdown",
   "metadata": {},
   "source": [
    "## Error Bars"
   ]
  },
  {
   "cell_type": "markdown",
   "metadata": {},
   "source": [
    "`errorbar` is a version of `plot` (**not** `scatter`) that knows how to draw error bars."
   ]
  },
  {
   "cell_type": "code",
   "execution_count": null,
   "metadata": {
    "collapsed": false
   },
   "outputs": [],
   "source": [
    "pl.figure(figsize=(5,5))\n",
    "\n",
    "# Previously we used scatter\n",
    "# pl.scatter(line_data['x'],line_data['y'],marker='s',edgecolor='None',c='k',label='Positive')\n",
    "\n",
    "# With error bars\n",
    "pl.errorbar(line_data['x'],line_data['y'],\n",
    "            xerr=line_data['sigma_x'],\n",
    "            yerr=line_data['sigma_y'],\n",
    "            c='r',\n",
    "            marker='s',\n",
    "            markeredgecolor='None',\n",
    "            markerfacecolor='k',\n",
    "            linestyle='None',\n",
    "            label='Positive');\n",
    "\n",
    "pl.legend(loc='lower right',frameon='False');"
   ]
  },
  {
   "cell_type": "markdown",
   "metadata": {},
   "source": [
    "Notice that:\n",
    " - the error bars appear in the legend\n",
    " - we had to use 'markerfacecolor' and 'markeredgecolor' to get the symbols to be a different color to the errorbars."
   ]
  },
  {
   "cell_type": "markdown",
   "metadata": {},
   "source": [
    "In many cases I prefer to use `scatter` to plot the points, and `errorbar` to plot just the errorbars."
   ]
  },
  {
   "cell_type": "code",
   "execution_count": null,
   "metadata": {
    "collapsed": false
   },
   "outputs": [],
   "source": [
    "pl.figure(figsize=(5,5))\n",
    "\n",
    "pl.scatter(line_data['x'],line_data['y'],marker='s',edgecolor='None',c='k',label='Positive')\n",
    "pl.errorbar(line_data['x'],line_data['y'],\n",
    "            xerr=line_data['sigma_x'],\n",
    "            yerr=line_data['sigma_y'],\n",
    "            c='r',\n",
    "            zorder=-1,\n",
    "            linestyle='None');\n",
    "\n",
    "pl.legend(loc='lower right',frameon='False');"
   ]
  },
  {
   "cell_type": "markdown",
   "metadata": {},
   "source": [
    "## Drawing shapes and text"
   ]
  },
  {
   "cell_type": "markdown",
   "metadata": {},
   "source": [
    "This example shows how to add simple shapes to a figure. Matplotlib calls such things 'patches'."
   ]
  },
  {
   "cell_type": "code",
   "execution_count": null,
   "metadata": {
    "collapsed": false
   },
   "outputs": [],
   "source": [
    "from matplotlib.patches import Circle, Rectangle\n",
    "\n",
    "pl.figure(figsize=(5,5))\n",
    "\n",
    "pl.scatter(line_data['x'],line_data['y'],marker='s',edgecolor='None',c='k',label='Positive')\n",
    "pl.errorbar(line_data['x'],line_data['y'],\n",
    "            xerr=line_data['sigma_x'],\n",
    "            yerr=line_data['sigma_y'],\n",
    "            c='r',\n",
    "            zorder=-1,\n",
    "            linestyle='None');\n",
    "\n",
    "# Create some patches\n",
    "my_rectangle = Rectangle((200,400),50,100,color='b',fill=False,angle=45,linestyle='--')\n",
    "my_circle    = Circle((line_data['x'][4],line_data['y'][4]),100,\n",
    "                      color='k',fill=False,linestyle=':')\n",
    "\n",
    "ax = pl.gca() # This gets an object representing the current axes\n",
    "ax.add_patch(my_rectangle) # Add the patch to the axis\n",
    "ax.add_patch(my_circle)    # Add the patch to the axis\n",
    "\n",
    "pl.legend(loc='lower right',frameon='False');"
   ]
  },
  {
   "cell_type": "markdown",
   "metadata": {},
   "source": [
    "Note how we used the `linestyle` keyword to get dashed and dotted lines."
   ]
  },
  {
   "cell_type": "markdown",
   "metadata": {},
   "source": [
    "Notice the circle isn't circular because the x and y axis scales aren't equal. The following example adds one extra line at the end to ensure this."
   ]
  },
  {
   "cell_type": "code",
   "execution_count": null,
   "metadata": {
    "collapsed": false
   },
   "outputs": [],
   "source": [
    "from matplotlib.patches import Circle, Rectangle\n",
    "\n",
    "pl.figure(figsize=(5,5))\n",
    "\n",
    "pl.scatter(line_data['x'],line_data['y'],marker='s',edgecolor='None',c='k',label='Positive')\n",
    "pl.errorbar(line_data['x'],line_data['y'],\n",
    "            xerr=line_data['sigma_x'],\n",
    "            yerr=line_data['sigma_y'],\n",
    "            c='r',\n",
    "            zorder=-1,\n",
    "            linestyle='None');\n",
    "\n",
    "# Create some patches\n",
    "my_rectangle = Rectangle((200,400),50,100,color='b',fill=False,angle=45,linestyle='--')\n",
    "my_circle    = Circle((line_data['x'][4],line_data['y'][4]),100,\n",
    "                      color='k',fill=False,linestyle=':')\n",
    "\n",
    "ax = pl.gca() # This gets an object representing the current axes\n",
    "ax.add_patch(my_rectangle) # Add the patch to the axis\n",
    "ax.add_patch(my_circle)    # Add the patch to the axis\n",
    "\n",
    "pl.legend(loc='lower right',frameon='False');\n",
    "\n",
    "ax.set_aspect('equal')"
   ]
  },
  {
   "cell_type": "markdown",
   "metadata": {},
   "source": [
    "Finally, an example how to add text."
   ]
  },
  {
   "cell_type": "code",
   "execution_count": null,
   "metadata": {
    "collapsed": false
   },
   "outputs": [],
   "source": [
    "pl.figure(figsize=(5,5))\n",
    "\n",
    "pl.scatter(line_data['x'],line_data['y'],marker='s',edgecolor='None',c='k',label='Positive')\n",
    "pl.errorbar(line_data['x'],line_data['y'],\n",
    "            xerr=line_data['sigma_x'],\n",
    "            yerr=line_data['sigma_y'],\n",
    "            c='r',\n",
    "            zorder=-1,\n",
    "            linestyle='None');\n",
    "\n",
    "ax = pl.gca() # This gets an object representing the current axes\n",
    "xtext = line_data['x'][2]\n",
    "ytext = line_data['y'][2]\n",
    "pl.text(xtext+10,ytext+20,'An important\\npoint',fontsize=14,family='serif')\n",
    "pl.legend(loc='lower right',frameon='False');"
   ]
  },
  {
   "cell_type": "markdown",
   "metadata": {},
   "source": [
    "Notice we gave the x and y coordinates of the text, and the small offsets we added to these, in the **data** coordinates, because this is the default coordinate system of a plot. \n",
    "\n",
    "Sometimes we just want to position the text relative to the boundaries of the plot. The following example shows how to use an **axis transformation object** to get coordinates in a system where the range of each axis is [0,1]."
   ]
  },
  {
   "cell_type": "code",
   "execution_count": null,
   "metadata": {
    "collapsed": false
   },
   "outputs": [],
   "source": [
    "pl.figure(figsize=(5,5))\n",
    "\n",
    "pl.scatter(line_data['x'],line_data['y'],marker='s',edgecolor='None',c='k',label='Positive')\n",
    "pl.errorbar(line_data['x'],line_data['y'],\n",
    "            xerr=line_data['sigma_x'],\n",
    "            yerr=line_data['sigma_y'],\n",
    "            c='r',\n",
    "            zorder=-1,\n",
    "            linestyle='None');\n",
    "\n",
    "ax = pl.gca() # This gets an object representing the current axes\n",
    "xtext = 0.25\n",
    "ytext = 0.75\n",
    "pl.text(xtext,ytext,'Most of the data!',\n",
    "        transform=ax.transAxes,       \n",
    "        fontsize=14,family='serif',rotation=50)\n",
    "pl.legend(loc='lower right',frameon='False');"
   ]
  },
  {
   "cell_type": "markdown",
   "metadata": {},
   "source": [
    "## End of notebook"
   ]
  }
 ],
 "metadata": {
  "anaconda-cloud": {},
  "kernelspec": {
   "display_name": "Python [default]",
   "language": "python",
   "name": "python2"
  },
  "language_info": {
   "codemirror_mode": {
    "name": "ipython",
    "version": 2
   },
   "file_extension": ".py",
   "mimetype": "text/x-python",
   "name": "python",
   "nbconvert_exporter": "python",
   "pygments_lexer": "ipython2",
   "version": "2.7.12"
  }
 },
 "nbformat": 4,
 "nbformat_minor": 2
}
