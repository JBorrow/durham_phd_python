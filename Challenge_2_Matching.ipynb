{
 "cells": [
  {
   "cell_type": "markdown",
   "metadata": {},
   "source": [
    "# Challenge #2: matching two huge arrays of integers"
   ]
  },
  {
   "cell_type": "markdown",
   "metadata": {},
   "source": [
    "At the end of the Numpy102 notebook, I introduced the `searchsorted` function to do bisection searches on sorted arrays. The point of this challenge is to put that to use.\n",
    "\n",
    "Write a function `match` that takes two integer arrays, `A` and `B`, and returns an array `M` of the same length as `A` that contains, for each element in `A`, the index of the element with the same value in `B`. If no match is found in `B`, the corresponding element of `M` should be `-1`. You can assume that values in `B` are unique.\n",
    "\n",
    "Demonstrate that your function works to match values (and detect non-matches) in an array `B` of size 100000 (you'll need to generate a unique array of 100000 integers to do that test).\n",
    "\n",
    "Use the `time` (or `%timeit`) functions to compare the performance of your `match` to a loop using `np.where` to match each item, for different combinations of `A` and `B` sizes.\n",
    "\n",
    "This is not an easy challenge! The pay-off is that sooner or later you will probably need a routine like this (especially if you work with large N-body simulations!), and right now I don't know of a suitable package from anyone else (there may be one, so let me know if you find it)."
   ]
  }
 ],
 "metadata": {
  "anaconda-cloud": {},
  "kernelspec": {
   "display_name": "Python [conda env:astro3]",
   "language": "python",
   "name": "conda-env-astro3-py"
  },
  "language_info": {
   "codemirror_mode": {
    "name": "ipython",
    "version": 3
   },
   "file_extension": ".py",
   "mimetype": "text/x-python",
   "name": "python",
   "nbconvert_exporter": "python",
   "pygments_lexer": "ipython3",
   "version": "3.6.1"
  }
 },
 "nbformat": 4,
 "nbformat_minor": 2
}
